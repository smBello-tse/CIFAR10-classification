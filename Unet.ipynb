{
  "nbformat": 4,
  "nbformat_minor": 0,
  "metadata": {
    "colab": {
      "provenance": [],
      "authorship_tag": "ABX9TyOVxVEc+7YY69Eb9Y4v3+9U",
      "include_colab_link": true
    },
    "kernelspec": {
      "name": "python3",
      "display_name": "Python 3"
    },
    "language_info": {
      "name": "python"
    }
  },
  "cells": [
    {
      "cell_type": "markdown",
      "metadata": {
        "id": "view-in-github",
        "colab_type": "text"
      },
      "source": [
        "<a href=\"https://colab.research.google.com/github/smBello-tse/CIFAR10-classification/blob/main/Unet.ipynb\" target=\"_parent\"><img src=\"https://colab.research.google.com/assets/colab-badge.svg\" alt=\"Open In Colab\"/></a>"
      ]
    },
    {
      "cell_type": "code",
      "execution_count": 17,
      "metadata": {
        "id": "pUQa1U2Ap21Z"
      },
      "outputs": [],
      "source": [
        "# This Python 3 environment comes with many helpful analytics libraries installed\n",
        "# It is defined by the kaggle/python Docker image: https://github.com/kaggle/docker-python\n",
        "# For example, here's several helpful packages to load\n",
        "\n",
        "import numpy as np # linear algebra\n",
        "import pandas as pd # data processing, CSV file I/O (e.g. pd.read_csv)\n",
        "\n",
        "# Input data files are available in the read-only \"../input/\" directory\n",
        "# For example, running this (by clicking run or pressing Shift+Enter) will list all files under the input directory\n",
        "\n",
        "import os\n",
        "import torch\n",
        "from torchvision import datasets, transforms\n",
        "\n",
        "import matplotlib.pyplot as plt\n",
        "from tqdm import tqdm\n",
        "from sklearn.metrics import confusion_matrix, accuracy_score\n",
        "import seaborn as sns\n",
        "from time import time\n",
        "root = '/kaggle/input'\n",
        "\n",
        "# You can write up to 20GB to the current directory (/kaggle/working/) that gets preserved as output when you create a version using \"Save & Run All\"\n",
        "# You can also write temporary files to /kaggle/temp/, but they won't be saved outside of the current session"
      ]
    },
    {
      "cell_type": "markdown",
      "source": [
        "## **I. Data Pre-processing**\n",
        "\n"
      ],
      "metadata": {
        "id": "aS9mRQ-Zqvlj"
      }
    },
    {
      "cell_type": "code",
      "source": [
        "#Loading dataset\n",
        "generator = torch.Generator().manual_seed(42)\n",
        "transform = transforms.Compose([transforms.ToTensor()])\n",
        "train_dataset = datasets.CIFAR10(root=\"./data\", train=True, download=True, transform=transform)\n",
        "val_test_dataset = datasets.CIFAR10(root=\"./data\", train=False, download=True, transform=transform)\n",
        "val_dataset, test_dataset = torch.utils.data.random_split(val_test_dataset, [0.5, 0.5], generator=generator)"
      ],
      "metadata": {
        "id": "pwm8s6PDqe0k"
      },
      "execution_count": 18,
      "outputs": []
    },
    {
      "cell_type": "code",
      "source": [
        "#Visualisation\n",
        "image, target = train_dataset[785]\n",
        "print(f\"Label is: {target}\")\n",
        "print(f\"Image shape: {image.shape}\")\n",
        "image = image.permute(1,2,0).numpy()\n",
        "plt.imshow(image, cmap=\"gray\")\n",
        "plt.show()"
      ],
      "metadata": {
        "colab": {
          "base_uri": "https://localhost:8080/",
          "height": 465
        },
        "id": "1OQRAQrTqqTw",
        "outputId": "a1374808-488c-4545-b6d9-dfef459a0d30"
      },
      "execution_count": 19,
      "outputs": [
        {
          "output_type": "stream",
          "name": "stdout",
          "text": [
            "Label is: 3\n",
            "Image shape: torch.Size([3, 32, 32])\n"
          ]
        },
        {
          "output_type": "display_data",
          "data": {
            "text/plain": [
              "<Figure size 640x480 with 1 Axes>"
            ],
            "image/png": "[encoded data removed]"
          },
          "metadata": {}
        }
      ]
    },
    {
      "cell_type": "code",
      "source": [
        "#Creating dataloader\n",
        "batch_size = 64\n",
        "train_loader = torch.utils.data.DataLoader(train_dataset, batch_size=batch_size, shuffle=True, generator=generator)\n",
        "val_loader = torch.utils.data.DataLoader(val_dataset, batch_size=batch_size, shuffle=False, generator=generator)\n",
        "test_loader = torch.utils.data.DataLoader(test_dataset, batch_size=batch_size, shuffle=False, generator=generator)\n"
      ],
      "metadata": {
        "id": "UrbKVsQXquIH"
      },
      "execution_count": 20,
      "outputs": []
    },
    {
      "cell_type": "code",
      "source": [
        "def compute_mean_std_dataset(dataset):\n",
        "  imgs = [item[0] for item in train_dataset] # item[0] and item[1] are image and its label\n",
        "  imgs = torch.stack(imgs, dim=0).numpy()\n",
        "\n",
        "# calculate mean over each channel (r,g,b)\n",
        "  mean_r = imgs[:,0,:,:].mean()\n",
        "  mean_g = imgs[:,1,:,:].mean()\n",
        "  mean_b = imgs[:,2,:,:].mean()\n",
        "  means = (mean_r,mean_g,mean_b)\n",
        "\n",
        "# calculate std over each channel (r,g,b)\n",
        "  std_r = imgs[:,0,:,:].std()\n",
        "  std_g = imgs[:,1,:,:].std()\n",
        "  std_b = imgs[:,2,:,:].std()\n",
        "  stds = (std_r,std_g,std_b)\n",
        "  return means, stds"
      ],
      "metadata": {
        "id": "EtMKc-Sbt520"
      },
      "execution_count": 21,
      "outputs": []
    },
    {
      "cell_type": "code",
      "source": [
        "means_train, stds_train = compute_mean_std_dataset(train_dataset)\n",
        "means_val, stds_val = compute_mean_std_dataset(val_dataset)\n",
        "means_test, stds_test = compute_mean_std_dataset(test_dataset)\n",
        "print(means_train, stds_train)\n",
        "print(means_val, stds_val)\n",
        "print(means_test, stds_test)"
      ],
      "metadata": {
        "colab": {
          "base_uri": "https://localhost:8080/"
        },
        "id": "8qHnYDeXuwhB",
        "outputId": "12b4b9a9-c64a-4a91-b6d7-b5de962e796a"
      },
      "execution_count": 22,
      "outputs": [
        {
          "output_type": "stream",
          "name": "stdout",
          "text": [
            "(np.float32(0.49139968), np.float32(0.48215827), np.float32(0.44653124)) (np.float32(0.24703233), np.float32(0.24348505), np.float32(0.26158768))\n",
            "(np.float32(0.49139968), np.float32(0.48215827), np.float32(0.44653124)) (np.float32(0.24703233), np.float32(0.24348505), np.float32(0.26158768))\n",
            "(np.float32(0.49139968), np.float32(0.48215827), np.float32(0.44653124)) (np.float32(0.24703233), np.float32(0.24348505), np.float32(0.26158768))\n"
          ]
        }
      ]
    },
    {
      "cell_type": "code",
      "source": [
        "transform = transforms.Compose([transforms.ToTensor(), transforms.Normalize(means_train, stds_train)])\n",
        "train_dataset = datasets.CIFAR10(root=\"./data\", train=True, download=True, transform=transform)\n",
        "transform = transforms.Compose([transforms.ToTensor(), transforms.Normalize(means_val, stds_val)])\n",
        "val_test_dataset = datasets.CIFAR10(root=\"./data\", train=False, download=True, transform=transform)\n",
        "transform = transforms.Compose([transforms.ToTensor(), transforms.Normalize(means_test, stds_test)])\n",
        "val_dataset, test_dataset = torch.utils.data.random_split(val_test_dataset, [0.5, 0.5], generator=generator)"
      ],
      "metadata": {
        "id": "hQriIh7fvqUz"
      },
      "execution_count": 23,
      "outputs": []
    },
    {
      "cell_type": "code",
      "source": [
        "means_train, stds_train = compute_mean_std_dataset(train_dataset)\n",
        "means_val, stds_val = compute_mean_std_dataset(val_dataset)\n",
        "means_test, stds_test = compute_mean_std_dataset(test_dataset)\n",
        "print(means_train, stds_train)\n",
        "print(means_val, stds_val)\n",
        "print(means_test, stds_test)"
      ],
      "metadata": {
        "colab": {
          "base_uri": "https://localhost:8080/"
        },
        "id": "rYMlZ1-Mv1SS",
        "outputId": "8a3c665b-1b8e-4eaf-f44b-cef8f8d03205"
      },
      "execution_count": 24,
      "outputs": [
        {
          "output_type": "stream",
          "name": "stdout",
          "text": [
            "(np.float32(6.749868e-08), np.float32(6.0572626e-07), np.float32(-1.1978435e-06)) (np.float32(0.99999994), np.float32(1.0000001), np.float32(1.000001))\n",
            "(np.float32(6.749868e-08), np.float32(6.0572626e-07), np.float32(-1.1978435e-06)) (np.float32(0.99999994), np.float32(1.0000001), np.float32(1.000001))\n",
            "(np.float32(6.749868e-08), np.float32(6.0572626e-07), np.float32(-1.1978435e-06)) (np.float32(0.99999994), np.float32(1.0000001), np.float32(1.000001))\n"
          ]
        }
      ]
    },
    {
      "cell_type": "markdown",
      "source": [
        "# **II. Model implementation**"
      ],
      "metadata": {
        "id": "lQ56x7Brq-MY"
      }
    },
    {
      "cell_type": "code",
      "source": [],
      "metadata": {
        "id": "X05HqdlTrCRJ"
      },
      "execution_count": 24,
      "outputs": []
    }
  ]
}