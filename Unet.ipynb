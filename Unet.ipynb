{
  "nbformat": 4,
  "nbformat_minor": 0,
  "metadata": {
    "colab": {
      "provenance": [],
      "authorship_tag": "ABX9TyO88mUCrvBSoJu+rf6YJssd",
      "include_colab_link": true
    },
    "kernelspec": {
      "name": "python3",
      "display_name": "Python 3"
    },
    "language_info": {
      "name": "python"
    }
  },
  "cells": [
    {
      "cell_type": "markdown",
      "metadata": {
        "id": "view-in-github",
        "colab_type": "text"
      },
      "source": [
        "<a href=\"https://colab.research.google.com/github/smBello-tse/CIFAR10-classification/blob/main/Unet.ipynb\" target=\"_parent\"><img src=\"https://colab.research.google.com/assets/colab-badge.svg\" alt=\"Open In Colab\"/></a>"
      ]
    },
    {
      "cell_type": "code",
      "execution_count": 1,
      "metadata": {
        "id": "pUQa1U2Ap21Z"
      },
      "outputs": [],
      "source": [
        "# This Python 3 environment comes with many helpful analytics libraries installed\n",
        "# It is defined by the kaggle/python Docker image: https://github.com/kaggle/docker-python\n",
        "# For example, here's several helpful packages to load\n",
        "\n",
        "import numpy as np # linear algebra\n",
        "import pandas as pd # data processing, CSV file I/O (e.g. pd.read_csv)\n",
        "\n",
        "# Input data files are available in the read-only \"../input/\" directory\n",
        "# For example, running this (by clicking run or pressing Shift+Enter) will list all files under the input directory\n",
        "\n",
        "import os\n",
        "import torch\n",
        "from torchvision import datasets, transforms\n",
        "\n",
        "import matplotlib.pyplot as plt\n",
        "from tqdm import tqdm\n",
        "from sklearn.metrics import confusion_matrix, accuracy_score\n",
        "import seaborn as sns\n",
        "from time import time\n",
        "root = '/kaggle/input'\n",
        "\n",
        "# You can write up to 20GB to the current directory (/kaggle/working/) that gets preserved as output when you create a version using \"Save & Run All\"\n",
        "# You can also write temporary files to /kaggle/temp/, but they won't be saved outside of the current session"
      ]
    },
    {
      "cell_type": "markdown",
      "source": [
        "## **I. Data Pre-processing**\n",
        "\n"
      ],
      "metadata": {
        "id": "aS9mRQ-Zqvlj"
      }
    },
    {
      "cell_type": "code",
      "source": [
        "#Loading dataset\n",
        "generator = torch.Generator().manual_seed(42)\n",
        "transform = transforms.Compose([transforms.ToTensor()])\n",
        "train_dataset = datasets.CIFAR10(root=\"./data\", train=True, download=True, transform=transform)\n",
        "val_test_dataset = datasets.CIFAR10(root=\"./data\", train=False, download=True, transform=transform)\n",
        "val_dataset, test_dataset = torch.utils.data.random_split(val_test_dataset, [0.5, 0.5], generator=generator)"
      ],
      "metadata": {
        "id": "pwm8s6PDqe0k",
        "outputId": "83d11912-d7ff-4b5f-e02a-6d6342474c34",
        "colab": {
          "base_uri": "https://localhost:8080/"
        }
      },
      "execution_count": 2,
      "outputs": [
        {
          "output_type": "stream",
          "name": "stderr",
          "text": [
            "100%|██████████| 170M/170M [00:07<00:00, 22.8MB/s]\n"
          ]
        }
      ]
    },
    {
      "cell_type": "code",
      "source": [
        "#Visualisation\n",
        "image, target = train_dataset[785]\n",
        "print(f\"Label is: {target}\")\n",
        "print(f\"Image shape: {image.shape}\")\n",
        "image = image.permute(1,2,0).numpy()\n",
        "plt.imshow(image, cmap=\"gray\")\n",
        "plt.show()"
      ],
      "metadata": {
        "colab": {
          "base_uri": "https://localhost:8080/",
          "height": 465
        },
        "id": "1OQRAQrTqqTw",
        "outputId": "58866d4f-9d5a-4309-f689-5271a96b2e76"
      },
      "execution_count": 3,
      "outputs": [
        {
          "output_type": "stream",
          "name": "stdout",
          "text": [
            "Label is: 3\n",
            "Image shape: torch.Size([3, 32, 32])\n"
          ]
        },
        {
          "output_type": "display_data",
          "data": {
            "text/plain": [
              "<Figure size 640x480 with 1 Axes>"
            ],
            "image/png": "[encoded data removed]"
          },
          "metadata": {}
        }
      ]
    },
    {
      "cell_type": "code",
      "source": [
        "#Creating dataloader\n",
        "batch_size = 64\n",
        "train_loader = torch.utils.data.DataLoader(train_dataset, batch_size=batch_size, shuffle=True, generator=generator)\n",
        "val_loader = torch.utils.data.DataLoader(val_dataset, batch_size=batch_size, shuffle=False, generator=generator)\n",
        "test_loader = torch.utils.data.DataLoader(test_dataset, batch_size=batch_size, shuffle=False, generator=generator)\n"
      ],
      "metadata": {
        "id": "UrbKVsQXquIH"
      },
      "execution_count": 4,
      "outputs": []
    },
    {
      "cell_type": "code",
      "source": [
        "def compute_mean_std_dataset(dataset):\n",
        "  imgs = [item[0] for item in train_dataset] # item[0] and item[1] are image and its label\n",
        "  imgs = torch.stack(imgs, dim=0).numpy()\n",
        "\n",
        "# calculate mean over each channel (r,g,b)\n",
        "  mean_r = imgs[:,0,:,:].mean()\n",
        "  mean_g = imgs[:,1,:,:].mean()\n",
        "  mean_b = imgs[:,2,:,:].mean()\n",
        "  means = (mean_r,mean_g,mean_b)\n",
        "\n",
        "# calculate std over each channel (r,g,b)\n",
        "  std_r = imgs[:,0,:,:].std()\n",
        "  std_g = imgs[:,1,:,:].std()\n",
        "  std_b = imgs[:,2,:,:].std()\n",
        "  stds = (std_r,std_g,std_b)\n",
        "  return means, stds"
      ],
      "metadata": {
        "id": "EtMKc-Sbt520"
      },
      "execution_count": 5,
      "outputs": []
    },
    {
      "cell_type": "code",
      "source": [
        "means_train, stds_train = compute_mean_std_dataset(train_dataset)\n",
        "means_val, stds_val = compute_mean_std_dataset(val_dataset)\n",
        "means_test, stds_test = compute_mean_std_dataset(test_dataset)\n",
        "print(means_train, stds_train)\n",
        "print(means_val, stds_val)\n",
        "print(means_test, stds_test)"
      ],
      "metadata": {
        "colab": {
          "base_uri": "https://localhost:8080/"
        },
        "id": "8qHnYDeXuwhB",
        "outputId": "e713011d-90ad-4a97-a530-4c2dc97e7410"
      },
      "execution_count": 6,
      "outputs": [
        {
          "output_type": "stream",
          "name": "stdout",
          "text": [
            "(np.float32(0.49139968), np.float32(0.48215827), np.float32(0.44653124)) (np.float32(0.24703233), np.float32(0.24348505), np.float32(0.26158768))\n",
            "(np.float32(0.49139968), np.float32(0.48215827), np.float32(0.44653124)) (np.float32(0.24703233), np.float32(0.24348505), np.float32(0.26158768))\n",
            "(np.float32(0.49139968), np.float32(0.48215827), np.float32(0.44653124)) (np.float32(0.24703233), np.float32(0.24348505), np.float32(0.26158768))\n"
          ]
        }
      ]
    },
    {
      "cell_type": "code",
      "source": [
        "transform = transforms.Compose([transforms.ToTensor(), transforms.Normalize(means_train, stds_train)])\n",
        "train_dataset = datasets.CIFAR10(root=\"./data\", train=True, download=True, transform=transform)\n",
        "transform = transforms.Compose([transforms.ToTensor(), transforms.Normalize(means_val, stds_val)])\n",
        "val_test_dataset = datasets.CIFAR10(root=\"./data\", train=False, download=True, transform=transform)\n",
        "transform = transforms.Compose([transforms.ToTensor(), transforms.Normalize(means_test, stds_test)])\n",
        "val_dataset, test_dataset = torch.utils.data.random_split(val_test_dataset, [0.5, 0.5], generator=generator)"
      ],
      "metadata": {
        "id": "hQriIh7fvqUz"
      },
      "execution_count": 7,
      "outputs": []
    },
    {
      "cell_type": "code",
      "source": [
        "means_train, stds_train = compute_mean_std_dataset(train_dataset)\n",
        "means_val, stds_val = compute_mean_std_dataset(val_dataset)\n",
        "means_test, stds_test = compute_mean_std_dataset(test_dataset)\n",
        "print(means_train, stds_train)\n",
        "print(means_val, stds_val)\n",
        "print(means_test, stds_test)"
      ],
      "metadata": {
        "colab": {
          "base_uri": "https://localhost:8080/"
        },
        "id": "rYMlZ1-Mv1SS",
        "outputId": "5e345e2e-f8f8-4c9f-87c2-8ed739bc6502"
      },
      "execution_count": 8,
      "outputs": [
        {
          "output_type": "stream",
          "name": "stdout",
          "text": [
            "(np.float32(6.749868e-08), np.float32(6.0572626e-07), np.float32(-1.1978435e-06)) (np.float32(0.99999994), np.float32(1.0000001), np.float32(1.000001))\n",
            "(np.float32(6.749868e-08), np.float32(6.0572626e-07), np.float32(-1.1978435e-06)) (np.float32(0.99999994), np.float32(1.0000001), np.float32(1.000001))\n",
            "(np.float32(6.749868e-08), np.float32(6.0572626e-07), np.float32(-1.1978435e-06)) (np.float32(0.99999994), np.float32(1.0000001), np.float32(1.000001))\n"
          ]
        }
      ]
    },
    {
      "cell_type": "markdown",
      "source": [
        "# **II. Model implementation**"
      ],
      "metadata": {
        "id": "lQ56x7Brq-MY"
      }
    },
    {
      "cell_type": "code",
      "source": [
        "class Conv_layer(torch.nn.Module):\n",
        "  def __init__(self, in_channels, out_channels, kernel_size=3, stride=None, padding=None):\n",
        "    super().__init__()\n",
        "    self.stride = 1 if stride is None else stride\n",
        "    self.padding = 0 if padding is None else padding\n",
        "    self.conv_layer = torch.nn.Sequential(torch.nn.Conv2d(in_channels, out_channels, kernel_size, self.stride, self.padding),\n",
        "                                          torch.nn.MaxPool2d(kernel_size=2),\n",
        "                                          torch.nn.ReLu())\n",
        "\n",
        "\n",
        "  def forward(self, x):\n",
        "    return self.conv_layer(x)"
      ],
      "metadata": {
        "id": "ql36g0E2HI0G"
      },
      "execution_count": 9,
      "outputs": []
    },
    {
      "cell_type": "code",
      "source": [
        "x, _ = train_dataset[785]\n",
        "x = x.unsqueeze(0)\n",
        "conv_layer = Conv_layer(3, 16, 5)\n",
        "feature_map = conv_layer(x)\n",
        "print(feature_map.shape)"
      ],
      "metadata": {
        "id": "xqKqDK4mIcdU",
        "outputId": "450ae868-86f0-40a6-de9f-074dc04d5efd",
        "colab": {
          "base_uri": "https://localhost:8080/"
        }
      },
      "execution_count": 10,
      "outputs": [
        {
          "output_type": "stream",
          "name": "stdout",
          "text": [
            "torch.Size([1, 16, 14, 14])\n"
          ]
        }
      ]
    },
    {
      "cell_type": "code",
      "source": [
        "class My_CNN(torch.nn.Module):\n",
        "\n",
        "  def __init__(self, in_channels, out_channels, conv_kernels, fc_dims):\n",
        "    super().__init__()\n",
        "    self.in_channels = in_channels\n",
        "    self\n",
        "    self.conv_kernels = conv_kernels\n",
        "    self.fc_dims = fc_dims\n",
        "    self.conv_layers = torch.nn.ModuleList([Conv_layer(cin, cout, kernel) for cin, cout, kernel in zip(in_channels, out_channels, conv_kernels)])\n",
        "    self.fc_layers = torch.nn.ModuleList([torch.nn.Linear(dim_in, dim_out) for dim_in, dim_out in zip(fc_dims[:-1], fc_dims[1:])])\n",
        "\n",
        "  def forward(self, x):\n",
        "    for conv_layer in self.conv_layers:\n",
        "      x = conv_layer(x)\n",
        "    #print(f\"x shape is {x.shape}\")\n",
        "    x = x.view(x.size(0), -1)\n",
        "    for fc_layer in self.fc_layers:\n",
        "      x = fc_layer(x)\n",
        "    return x\n"
      ],
      "metadata": {
        "id": "X05HqdlTrCRJ"
      },
      "execution_count": 11,
      "outputs": []
    },
    {
      "cell_type": "markdown",
      "source": [
        "# **III. Training and test**"
      ],
      "metadata": {
        "id": "7PmdB_bVLRN1"
      }
    },
    {
      "cell_type": "code",
      "source": [
        "image = train_dataset[785][0]\n",
        "C, H, W = image.shape\n",
        "nb_classes = 10\n",
        "in_channels = (C, 16)\n",
        "out_channels = (16, 32)\n",
        "conv_kernels = (5, 5)\n",
        "fc_dims = (out_channels[-1]*5*5, 128, nb_classes)\n",
        "model = My_CNN(in_channels, out_channels, conv_kernels, fc_dims)\n",
        "device = torch.device(\"cuda\" if torch.cuda.is_available() else \"cpu\")\n",
        "model.to(device)"
      ],
      "metadata": {
        "id": "ydyRl5ThLPoi",
        "outputId": "2f349c96-7e42-4771-9464-de99683d3d90",
        "colab": {
          "base_uri": "https://localhost:8080/"
        }
      },
      "execution_count": 12,
      "outputs": [
        {
          "output_type": "execute_result",
          "data": {
            "text/plain": [
              "My_CNN(\n",
              "  (conv_layers): ModuleList(\n",
              "    (0): Conv_layer(\n",
              "      (conv_layer): Sequential(\n",
              "        (0): Conv2d(3, 16, kernel_size=(5, 5), stride=(1, 1))\n",
              "        (1): MaxPool2d(kernel_size=2, stride=2, padding=0, dilation=1, ceil_mode=False)\n",
              "        (2): ReLU()\n",
              "      )\n",
              "    )\n",
              "    (1): Conv_layer(\n",
              "      (conv_layer): Sequential(\n",
              "        (0): Conv2d(16, 32, kernel_size=(5, 5), stride=(1, 1))\n",
              "        (1): MaxPool2d(kernel_size=2, stride=2, padding=0, dilation=1, ceil_mode=False)\n",
              "        (2): ReLU()\n",
              "      )\n",
              "    )\n",
              "  )\n",
              "  (fc_layers): ModuleList(\n",
              "    (0): Linear(in_features=800, out_features=128, bias=True)\n",
              "    (1): Linear(in_features=128, out_features=10, bias=True)\n",
              "  )\n",
              ")"
            ]
          },
          "metadata": {},
          "execution_count": 12
        }
      ]
    },
    {
      "cell_type": "code",
      "source": [
        "num_params = sum(p.numel() for p in model.parameters() if p.requires_grad)\n",
        "print(f\"Number of parameters: {num_params}\")\n",
        "print(f\"Device is {device}\")"
      ],
      "metadata": {
        "id": "h8AkpvTkM-nB",
        "outputId": "53a44fc2-024b-47b3-a379-b9703d3076d0",
        "colab": {
          "base_uri": "https://localhost:8080/"
        }
      },
      "execution_count": 13,
      "outputs": [
        {
          "output_type": "stream",
          "name": "stdout",
          "text": [
            "Number of parameters: 117866\n",
            "Device is cpu\n"
          ]
        }
      ]
    },
    {
      "cell_type": "code",
      "source": [
        "if device==\"cuda\": model = torch.compile(model)"
      ],
      "metadata": {
        "id": "4s_3HEvLNu7Y"
      },
      "execution_count": 14,
      "outputs": []
    },
    {
      "cell_type": "code",
      "source": [
        "#Training and validation\n",
        "nb_epochs = 100\n",
        "optimizer = torch.optim.AdamW(model.parameters(), lr=0.0001, weight_decay=0.01)\n",
        "criterion = torch.nn.CrossEntropyLoss()\n",
        "losses_train, losses_val = [], []\n",
        "best_loss = 1e5\n",
        "lr_decay = 0.99\n",
        "scheduler = torch.optim.lr_scheduler.ExponentialLR(optimizer, lr_decay)\n",
        "torch.set_float32_matmul_precision('high')\n",
        "\n",
        "model.train()\n",
        "\n",
        "for epoch in range(nb_epochs):\n",
        "  start = time()\n",
        "  print(f\"Epoch: {epoch}\")\n",
        "  #print(\"Now training...\")\n",
        "  loss_train, loss_val = 0, 0\n",
        "  for idx, (batch, target) in tqdm(enumerate(train_loader)):\n",
        "    batch, target = batch.to(device), target.to(device)\n",
        "    optimizer.zero_grad()\n",
        "    #with torch.autocast(device_type=\"cuda\", dtype=torch.bfloat16):\n",
        "    preds = model(batch)\n",
        "    #print(preds.shape, preds.dtype)\n",
        "    #print(target.shape, target.dtype)\n",
        "    loss = criterion(preds, target)\n",
        "    loss.backward()\n",
        "    loss_train += loss.item()\n",
        "    optimizer.step()\n",
        "  loss_train /= len(train_loader)\n",
        "  losses_train.append(loss_train)\n",
        "  scheduler.step()\n",
        "\n",
        "\n",
        "  #print(\"Now validation...\")\n",
        "  with torch.no_grad():\n",
        "    for idx, (batch, target) in tqdm(enumerate(val_loader)):\n",
        "      batch, target = batch.to(device), target.to(device)\n",
        "      preds = model(batch)\n",
        "      #print(preds.shape, preds.dtype)\n",
        "      #print(target.shape, target.dtype)\n",
        "      loss = criterion(preds, target)\n",
        "      loss_val += loss.item()\n",
        "      if loss.item() < best_loss:\n",
        "          best_loss = loss.item()\n",
        "          best_model, best_epoch = model, epoch\n",
        "    loss_val /= len(test_loader)\n",
        "    losses_val.append(loss_val)\n",
        "\n",
        "  print(f\"Loss_train: {loss_train:.4f} and loss_val: {loss_val:.4f}\")\n",
        "end = time()\n",
        "time_elapsed = end- start\n",
        "print(f\"Time elapsed: {time_elapsed}\")\n",
        "print(f\"Seconds per epoch: {time_elapsed / nb_epochs}\")\n",
        "print(f\"Best epoch: {epoch}\")\n",
        "\n",
        "epochs = range(nb_epochs)\n",
        "plt.plot(epochs, losses_train, label=\"Training loss\")\n",
        "plt.plot(epochs, losses_val, label=\"Validation loss\")\n",
        "plt.legend()\n",
        "plt.show()"
      ],
      "metadata": {
        "id": "t0Zl7_l_NNOW",
        "outputId": "48bb6660-ac65-49b2-9dd7-5d4d6cbd1efe",
        "colab": {
          "base_uri": "https://localhost:8080/",
          "height": 1000
        }
      },
      "execution_count": 15,
      "outputs": [
        {
          "output_type": "stream",
          "name": "stdout",
          "text": [
            "Epoch: 0\n"
          ]
        },
        {
          "output_type": "stream",
          "name": "stderr",
          "text": [
            "782it [00:35, 22.20it/s]\n",
            "79it [00:02, 37.12it/s]\n"
          ]
        },
        {
          "output_type": "stream",
          "name": "stdout",
          "text": [
            "Loss_train: 1.8767 and loss_val: 1.6649\n",
            "Epoch: 1\n"
          ]
        },
        {
          "output_type": "stream",
          "name": "stderr",
          "text": [
            "782it [00:35, 21.97it/s]\n",
            "79it [00:02, 39.10it/s]\n"
          ]
        },
        {
          "output_type": "stream",
          "name": "stdout",
          "text": [
            "Loss_train: 1.6101 and loss_val: 1.5413\n",
            "Epoch: 2\n"
          ]
        },
        {
          "output_type": "stream",
          "name": "stderr",
          "text": [
            "782it [00:35, 22.25it/s]\n",
            "79it [00:02, 38.47it/s]\n"
          ]
        },
        {
          "output_type": "stream",
          "name": "stdout",
          "text": [
            "Loss_train: 1.5061 and loss_val: 1.4852\n",
            "Epoch: 3\n"
          ]
        },
        {
          "output_type": "stream",
          "name": "stderr",
          "text": [
            "782it [00:35, 22.32it/s]\n",
            "79it [00:02, 38.80it/s]\n"
          ]
        },
        {
          "output_type": "stream",
          "name": "stdout",
          "text": [
            "Loss_train: 1.4463 and loss_val: 1.4250\n",
            "Epoch: 4\n"
          ]
        },
        {
          "output_type": "stream",
          "name": "stderr",
          "text": [
            "782it [00:35, 22.19it/s]\n",
            "79it [00:02, 37.00it/s]\n"
          ]
        },
        {
          "output_type": "stream",
          "name": "stdout",
          "text": [
            "Loss_train: 1.4015 and loss_val: 1.3757\n",
            "Epoch: 5\n"
          ]
        },
        {
          "output_type": "stream",
          "name": "stderr",
          "text": [
            "782it [00:34, 22.49it/s]\n",
            "79it [00:02, 34.54it/s]\n"
          ]
        },
        {
          "output_type": "stream",
          "name": "stdout",
          "text": [
            "Loss_train: 1.3634 and loss_val: 1.3391\n",
            "Epoch: 6\n"
          ]
        },
        {
          "output_type": "stream",
          "name": "stderr",
          "text": [
            "782it [00:34, 22.50it/s]\n",
            "79it [00:02, 31.87it/s]\n"
          ]
        },
        {
          "output_type": "stream",
          "name": "stdout",
          "text": [
            "Loss_train: 1.3302 and loss_val: 1.3367\n",
            "Epoch: 7\n"
          ]
        },
        {
          "output_type": "stream",
          "name": "stderr",
          "text": [
            "782it [00:34, 22.50it/s]\n",
            "79it [00:02, 30.86it/s]\n"
          ]
        },
        {
          "output_type": "stream",
          "name": "stdout",
          "text": [
            "Loss_train: 1.3014 and loss_val: 1.2985\n",
            "Epoch: 8\n"
          ]
        },
        {
          "output_type": "stream",
          "name": "stderr",
          "text": [
            "782it [00:34, 22.76it/s]\n",
            "79it [00:02, 28.39it/s]\n"
          ]
        },
        {
          "output_type": "stream",
          "name": "stdout",
          "text": [
            "Loss_train: 1.2783 and loss_val: 1.2652\n",
            "Epoch: 9\n"
          ]
        },
        {
          "output_type": "stream",
          "name": "stderr",
          "text": [
            "782it [00:34, 22.79it/s]\n",
            "79it [00:02, 27.61it/s]\n"
          ]
        },
        {
          "output_type": "stream",
          "name": "stdout",
          "text": [
            "Loss_train: 1.2525 and loss_val: 1.2538\n",
            "Epoch: 10\n"
          ]
        },
        {
          "output_type": "stream",
          "name": "stderr",
          "text": [
            "782it [00:35, 22.21it/s]\n",
            "79it [00:02, 28.47it/s]\n"
          ]
        },
        {
          "output_type": "stream",
          "name": "stdout",
          "text": [
            "Loss_train: 1.2308 and loss_val: 1.2366\n",
            "Epoch: 11\n"
          ]
        },
        {
          "output_type": "stream",
          "name": "stderr",
          "text": [
            "782it [00:36, 21.39it/s]\n",
            "79it [00:02, 27.59it/s]\n"
          ]
        },
        {
          "output_type": "stream",
          "name": "stdout",
          "text": [
            "Loss_train: 1.2119 and loss_val: 1.2149\n",
            "Epoch: 12\n"
          ]
        },
        {
          "output_type": "stream",
          "name": "stderr",
          "text": [
            "782it [00:34, 22.57it/s]\n",
            "79it [00:02, 27.06it/s]\n"
          ]
        },
        {
          "output_type": "stream",
          "name": "stdout",
          "text": [
            "Loss_train: 1.1917 and loss_val: 1.2099\n",
            "Epoch: 13\n"
          ]
        },
        {
          "output_type": "stream",
          "name": "stderr",
          "text": [
            "782it [00:34, 22.55it/s]\n",
            "79it [00:02, 27.95it/s]\n"
          ]
        },
        {
          "output_type": "stream",
          "name": "stdout",
          "text": [
            "Loss_train: 1.1740 and loss_val: 1.1950\n",
            "Epoch: 14\n"
          ]
        },
        {
          "output_type": "stream",
          "name": "stderr",
          "text": [
            "782it [00:34, 22.67it/s]\n",
            "79it [00:02, 29.51it/s]\n"
          ]
        },
        {
          "output_type": "stream",
          "name": "stdout",
          "text": [
            "Loss_train: 1.1579 and loss_val: 1.1689\n",
            "Epoch: 15\n"
          ]
        },
        {
          "output_type": "stream",
          "name": "stderr",
          "text": [
            "782it [00:34, 22.40it/s]\n",
            "79it [00:02, 30.01it/s]\n"
          ]
        },
        {
          "output_type": "stream",
          "name": "stdout",
          "text": [
            "Loss_train: 1.1443 and loss_val: 1.1620\n",
            "Epoch: 16\n"
          ]
        },
        {
          "output_type": "stream",
          "name": "stderr",
          "text": [
            "782it [00:34, 22.60it/s]\n",
            "79it [00:02, 33.12it/s]\n"
          ]
        },
        {
          "output_type": "stream",
          "name": "stdout",
          "text": [
            "Loss_train: 1.1274 and loss_val: 1.1575\n",
            "Epoch: 17\n"
          ]
        },
        {
          "output_type": "stream",
          "name": "stderr",
          "text": [
            "782it [00:35, 22.22it/s]\n",
            "79it [00:02, 34.65it/s]\n"
          ]
        },
        {
          "output_type": "stream",
          "name": "stdout",
          "text": [
            "Loss_train: 1.1144 and loss_val: 1.1551\n",
            "Epoch: 18\n"
          ]
        },
        {
          "output_type": "stream",
          "name": "stderr",
          "text": [
            "782it [00:36, 21.53it/s]\n",
            "79it [00:02, 34.42it/s]\n"
          ]
        },
        {
          "output_type": "stream",
          "name": "stdout",
          "text": [
            "Loss_train: 1.1027 and loss_val: 1.1301\n",
            "Epoch: 19\n"
          ]
        },
        {
          "output_type": "stream",
          "name": "stderr",
          "text": [
            "782it [00:35, 22.20it/s]\n",
            "79it [00:02, 35.18it/s]\n"
          ]
        },
        {
          "output_type": "stream",
          "name": "stdout",
          "text": [
            "Loss_train: 1.0931 and loss_val: 1.1190\n",
            "Epoch: 20\n"
          ]
        },
        {
          "output_type": "stream",
          "name": "stderr",
          "text": [
            "782it [00:35, 22.20it/s]\n",
            "79it [00:02, 37.75it/s]\n"
          ]
        },
        {
          "output_type": "stream",
          "name": "stdout",
          "text": [
            "Loss_train: 1.0830 and loss_val: 1.1183\n",
            "Epoch: 21\n"
          ]
        },
        {
          "output_type": "stream",
          "name": "stderr",
          "text": [
            "782it [00:35, 22.13it/s]\n",
            "79it [00:02, 37.69it/s]\n"
          ]
        },
        {
          "output_type": "stream",
          "name": "stdout",
          "text": [
            "Loss_train: 1.0727 and loss_val: 1.1224\n",
            "Epoch: 22\n"
          ]
        },
        {
          "output_type": "stream",
          "name": "stderr",
          "text": [
            "782it [00:35, 22.17it/s]\n",
            "79it [00:02, 38.59it/s]\n"
          ]
        },
        {
          "output_type": "stream",
          "name": "stdout",
          "text": [
            "Loss_train: 1.0648 and loss_val: 1.1076\n",
            "Epoch: 23\n"
          ]
        },
        {
          "output_type": "stream",
          "name": "stderr",
          "text": [
            "782it [00:35, 22.16it/s]\n",
            "79it [00:02, 37.60it/s]\n"
          ]
        },
        {
          "output_type": "stream",
          "name": "stdout",
          "text": [
            "Loss_train: 1.0535 and loss_val: 1.0963\n",
            "Epoch: 24\n"
          ]
        },
        {
          "output_type": "stream",
          "name": "stderr",
          "text": [
            "782it [00:35, 21.88it/s]\n",
            "79it [00:02, 37.09it/s]\n"
          ]
        },
        {
          "output_type": "stream",
          "name": "stdout",
          "text": [
            "Loss_train: 1.0444 and loss_val: 1.0890\n",
            "Epoch: 25\n"
          ]
        },
        {
          "output_type": "stream",
          "name": "stderr",
          "text": [
            "782it [00:35, 21.90it/s]\n",
            "79it [00:02, 38.23it/s]\n"
          ]
        },
        {
          "output_type": "stream",
          "name": "stdout",
          "text": [
            "Loss_train: 1.0373 and loss_val: 1.0804\n",
            "Epoch: 26\n"
          ]
        },
        {
          "output_type": "stream",
          "name": "stderr",
          "text": [
            "782it [00:36, 21.55it/s]\n",
            "79it [00:02, 38.49it/s]\n"
          ]
        },
        {
          "output_type": "stream",
          "name": "stdout",
          "text": [
            "Loss_train: 1.0286 and loss_val: 1.0888\n",
            "Epoch: 27\n"
          ]
        },
        {
          "output_type": "stream",
          "name": "stderr",
          "text": [
            "782it [00:35, 22.06it/s]\n",
            "79it [00:02, 38.11it/s]\n"
          ]
        },
        {
          "output_type": "stream",
          "name": "stdout",
          "text": [
            "Loss_train: 1.0227 and loss_val: 1.0793\n",
            "Epoch: 28\n"
          ]
        },
        {
          "output_type": "stream",
          "name": "stderr",
          "text": [
            "782it [00:35, 22.10it/s]\n",
            "79it [00:02, 38.46it/s]\n"
          ]
        },
        {
          "output_type": "stream",
          "name": "stdout",
          "text": [
            "Loss_train: 1.0156 and loss_val: 1.0670\n",
            "Epoch: 29\n"
          ]
        },
        {
          "output_type": "stream",
          "name": "stderr",
          "text": [
            "782it [00:35, 22.11it/s]\n",
            "79it [00:02, 38.32it/s]\n"
          ]
        },
        {
          "output_type": "stream",
          "name": "stdout",
          "text": [
            "Loss_train: 1.0075 and loss_val: 1.0678\n",
            "Epoch: 30\n"
          ]
        },
        {
          "output_type": "stream",
          "name": "stderr",
          "text": [
            "782it [00:35, 21.94it/s]\n",
            "79it [00:02, 37.73it/s]\n"
          ]
        },
        {
          "output_type": "stream",
          "name": "stdout",
          "text": [
            "Loss_train: 1.0040 and loss_val: 1.0850\n",
            "Epoch: 31\n"
          ]
        },
        {
          "output_type": "stream",
          "name": "stderr",
          "text": [
            "782it [00:35, 22.13it/s]\n",
            "79it [00:02, 37.98it/s]\n"
          ]
        },
        {
          "output_type": "stream",
          "name": "stdout",
          "text": [
            "Loss_train: 0.9971 and loss_val: 1.0649\n",
            "Epoch: 32\n"
          ]
        },
        {
          "output_type": "stream",
          "name": "stderr",
          "text": [
            "782it [00:35, 22.01it/s]\n",
            "79it [00:02, 38.39it/s]\n"
          ]
        },
        {
          "output_type": "stream",
          "name": "stdout",
          "text": [
            "Loss_train: 0.9902 and loss_val: 1.0635\n",
            "Epoch: 33\n"
          ]
        },
        {
          "output_type": "stream",
          "name": "stderr",
          "text": [
            "782it [00:35, 22.25it/s]\n",
            "79it [00:02, 38.93it/s]\n"
          ]
        },
        {
          "output_type": "stream",
          "name": "stdout",
          "text": [
            "Loss_train: 0.9849 and loss_val: 1.0566\n",
            "Epoch: 34\n"
          ]
        },
        {
          "output_type": "stream",
          "name": "stderr",
          "text": [
            "782it [00:36, 21.59it/s]\n",
            "79it [00:02, 38.06it/s]\n"
          ]
        },
        {
          "output_type": "stream",
          "name": "stdout",
          "text": [
            "Loss_train: 0.9798 and loss_val: 1.0467\n",
            "Epoch: 35\n"
          ]
        },
        {
          "output_type": "stream",
          "name": "stderr",
          "text": [
            "782it [00:35, 22.11it/s]\n",
            "79it [00:02, 38.06it/s]\n"
          ]
        },
        {
          "output_type": "stream",
          "name": "stdout",
          "text": [
            "Loss_train: 0.9757 and loss_val: 1.0610\n",
            "Epoch: 36\n"
          ]
        },
        {
          "output_type": "stream",
          "name": "stderr",
          "text": [
            "782it [00:35, 22.28it/s]\n",
            "79it [00:02, 38.80it/s]\n"
          ]
        },
        {
          "output_type": "stream",
          "name": "stdout",
          "text": [
            "Loss_train: 0.9695 and loss_val: 1.0501\n",
            "Epoch: 37\n"
          ]
        },
        {
          "output_type": "stream",
          "name": "stderr",
          "text": [
            "782it [00:35, 22.13it/s]\n",
            "79it [00:02, 37.77it/s]\n"
          ]
        },
        {
          "output_type": "stream",
          "name": "stdout",
          "text": [
            "Loss_train: 0.9672 and loss_val: 1.0465\n",
            "Epoch: 38\n"
          ]
        },
        {
          "output_type": "stream",
          "name": "stderr",
          "text": [
            "782it [00:35, 22.24it/s]\n",
            "79it [00:02, 38.73it/s]\n"
          ]
        },
        {
          "output_type": "stream",
          "name": "stdout",
          "text": [
            "Loss_train: 0.9595 and loss_val: 1.0356\n",
            "Epoch: 39\n"
          ]
        },
        {
          "output_type": "stream",
          "name": "stderr",
          "text": [
            "782it [00:35, 22.20it/s]\n",
            "79it [00:02, 38.50it/s]\n"
          ]
        },
        {
          "output_type": "stream",
          "name": "stdout",
          "text": [
            "Loss_train: 0.9571 and loss_val: 1.0349\n",
            "Epoch: 40\n"
          ]
        },
        {
          "output_type": "stream",
          "name": "stderr",
          "text": [
            "782it [00:35, 22.26it/s]\n",
            "79it [00:02, 38.74it/s]\n"
          ]
        },
        {
          "output_type": "stream",
          "name": "stdout",
          "text": [
            "Loss_train: 0.9509 and loss_val: 1.0406\n",
            "Epoch: 41\n"
          ]
        },
        {
          "output_type": "stream",
          "name": "stderr",
          "text": [
            "782it [00:35, 22.15it/s]\n",
            "79it [00:02, 38.84it/s]\n"
          ]
        },
        {
          "output_type": "stream",
          "name": "stdout",
          "text": [
            "Loss_train: 0.9480 and loss_val: 1.0530\n",
            "Epoch: 42\n"
          ]
        },
        {
          "output_type": "stream",
          "name": "stderr",
          "text": [
            "782it [00:36, 21.71it/s]\n",
            "79it [00:02, 38.28it/s]\n"
          ]
        },
        {
          "output_type": "stream",
          "name": "stdout",
          "text": [
            "Loss_train: 0.9443 and loss_val: 1.0337\n",
            "Epoch: 43\n"
          ]
        },
        {
          "output_type": "stream",
          "name": "stderr",
          "text": [
            "782it [00:35, 22.33it/s]\n",
            "79it [00:02, 38.81it/s]\n"
          ]
        },
        {
          "output_type": "stream",
          "name": "stdout",
          "text": [
            "Loss_train: 0.9401 and loss_val: 1.0277\n",
            "Epoch: 44\n"
          ]
        },
        {
          "output_type": "stream",
          "name": "stderr",
          "text": [
            "782it [00:34, 22.37it/s]\n",
            "79it [00:02, 39.01it/s]\n"
          ]
        },
        {
          "output_type": "stream",
          "name": "stdout",
          "text": [
            "Loss_train: 0.9371 and loss_val: 1.0312\n",
            "Epoch: 45\n"
          ]
        },
        {
          "output_type": "stream",
          "name": "stderr",
          "text": [
            "782it [00:35, 22.25it/s]\n",
            "79it [00:02, 38.71it/s]\n"
          ]
        },
        {
          "output_type": "stream",
          "name": "stdout",
          "text": [
            "Loss_train: 0.9334 and loss_val: 1.0555\n",
            "Epoch: 46\n"
          ]
        },
        {
          "output_type": "stream",
          "name": "stderr",
          "text": [
            "782it [00:35, 22.15it/s]\n",
            "79it [00:02, 38.35it/s]\n"
          ]
        },
        {
          "output_type": "stream",
          "name": "stdout",
          "text": [
            "Loss_train: 0.9296 and loss_val: 1.0312\n",
            "Epoch: 47\n"
          ]
        },
        {
          "output_type": "stream",
          "name": "stderr",
          "text": [
            "782it [00:34, 22.42it/s]\n",
            "79it [00:02, 35.65it/s]\n"
          ]
        },
        {
          "output_type": "stream",
          "name": "stdout",
          "text": [
            "Loss_train: 0.9264 and loss_val: 1.0261\n",
            "Epoch: 48\n"
          ]
        },
        {
          "output_type": "stream",
          "name": "stderr",
          "text": [
            "782it [00:34, 22.77it/s]\n",
            "79it [00:02, 30.70it/s]\n"
          ]
        },
        {
          "output_type": "stream",
          "name": "stdout",
          "text": [
            "Loss_train: 0.9244 and loss_val: 1.0265\n",
            "Epoch: 49\n"
          ]
        },
        {
          "output_type": "stream",
          "name": "stderr",
          "text": [
            "782it [00:34, 22.68it/s]\n",
            "79it [00:02, 28.08it/s]\n"
          ]
        },
        {
          "output_type": "stream",
          "name": "stdout",
          "text": [
            "Loss_train: 0.9181 and loss_val: 1.0281\n",
            "Epoch: 50\n"
          ]
        },
        {
          "output_type": "stream",
          "name": "stderr",
          "text": [
            "782it [00:35, 22.24it/s]\n",
            "79it [00:02, 30.36it/s]\n"
          ]
        },
        {
          "output_type": "stream",
          "name": "stdout",
          "text": [
            "Loss_train: 0.9169 and loss_val: 1.0167\n",
            "Epoch: 51\n"
          ]
        },
        {
          "output_type": "stream",
          "name": "stderr",
          "text": [
            "782it [00:34, 22.66it/s]\n",
            "79it [00:02, 33.57it/s]\n"
          ]
        },
        {
          "output_type": "stream",
          "name": "stdout",
          "text": [
            "Loss_train: 0.9122 and loss_val: 1.0202\n",
            "Epoch: 52\n"
          ]
        },
        {
          "output_type": "stream",
          "name": "stderr",
          "text": [
            "782it [00:34, 22.46it/s]\n",
            "79it [00:02, 38.45it/s]\n"
          ]
        },
        {
          "output_type": "stream",
          "name": "stdout",
          "text": [
            "Loss_train: 0.9098 and loss_val: 1.0134\n",
            "Epoch: 53\n"
          ]
        },
        {
          "output_type": "stream",
          "name": "stderr",
          "text": [
            "782it [00:35, 22.21it/s]\n",
            "79it [00:02, 37.26it/s]\n"
          ]
        },
        {
          "output_type": "stream",
          "name": "stdout",
          "text": [
            "Loss_train: 0.9077 and loss_val: 1.0097\n",
            "Epoch: 54\n"
          ]
        },
        {
          "output_type": "stream",
          "name": "stderr",
          "text": [
            "782it [00:35, 22.08it/s]\n",
            "79it [00:02, 37.58it/s]\n"
          ]
        },
        {
          "output_type": "stream",
          "name": "stdout",
          "text": [
            "Loss_train: 0.9044 and loss_val: 1.0098\n",
            "Epoch: 55\n"
          ]
        },
        {
          "output_type": "stream",
          "name": "stderr",
          "text": [
            "782it [00:35, 22.20it/s]\n",
            "79it [00:02, 38.49it/s]\n"
          ]
        },
        {
          "output_type": "stream",
          "name": "stdout",
          "text": [
            "Loss_train: 0.9012 and loss_val: 1.0082\n",
            "Epoch: 56\n"
          ]
        },
        {
          "output_type": "stream",
          "name": "stderr",
          "text": [
            "782it [00:35, 22.06it/s]\n",
            "79it [00:02, 38.24it/s]\n"
          ]
        },
        {
          "output_type": "stream",
          "name": "stdout",
          "text": [
            "Loss_train: 0.8986 and loss_val: 1.0240\n",
            "Epoch: 57\n"
          ]
        },
        {
          "output_type": "stream",
          "name": "stderr",
          "text": [
            "782it [00:35, 21.85it/s]\n",
            "79it [00:02, 37.33it/s]\n"
          ]
        },
        {
          "output_type": "stream",
          "name": "stdout",
          "text": [
            "Loss_train: 0.8956 and loss_val: 1.0045\n",
            "Epoch: 58\n"
          ]
        },
        {
          "output_type": "stream",
          "name": "stderr",
          "text": [
            "782it [00:36, 21.54it/s]\n",
            "79it [00:02, 38.05it/s]\n"
          ]
        },
        {
          "output_type": "stream",
          "name": "stdout",
          "text": [
            "Loss_train: 0.8950 and loss_val: 1.0206\n",
            "Epoch: 59\n"
          ]
        },
        {
          "output_type": "stream",
          "name": "stderr",
          "text": [
            "782it [00:35, 22.17it/s]\n",
            "79it [00:02, 38.53it/s]\n"
          ]
        },
        {
          "output_type": "stream",
          "name": "stdout",
          "text": [
            "Loss_train: 0.8909 and loss_val: 1.0185\n",
            "Epoch: 60\n"
          ]
        },
        {
          "output_type": "stream",
          "name": "stderr",
          "text": [
            "782it [00:35, 21.95it/s]\n",
            "79it [00:02, 37.78it/s]\n"
          ]
        },
        {
          "output_type": "stream",
          "name": "stdout",
          "text": [
            "Loss_train: 0.8867 and loss_val: 1.0297\n",
            "Epoch: 61\n"
          ]
        },
        {
          "output_type": "stream",
          "name": "stderr",
          "text": [
            "782it [00:35, 22.15it/s]\n",
            "79it [00:02, 38.09it/s]\n"
          ]
        },
        {
          "output_type": "stream",
          "name": "stdout",
          "text": [
            "Loss_train: 0.8861 and loss_val: 1.0116\n",
            "Epoch: 62\n"
          ]
        },
        {
          "output_type": "stream",
          "name": "stderr",
          "text": [
            "782it [00:39, 19.90it/s]\n",
            "79it [00:02, 35.51it/s]\n"
          ]
        },
        {
          "output_type": "stream",
          "name": "stdout",
          "text": [
            "Loss_train: 0.8828 and loss_val: 1.0061\n",
            "Epoch: 63\n"
          ]
        },
        {
          "output_type": "stream",
          "name": "stderr",
          "text": [
            "782it [00:35, 22.19it/s]\n",
            "79it [00:02, 37.74it/s]\n"
          ]
        },
        {
          "output_type": "stream",
          "name": "stdout",
          "text": [
            "Loss_train: 0.8808 and loss_val: 1.0148\n",
            "Epoch: 64\n"
          ]
        },
        {
          "output_type": "stream",
          "name": "stderr",
          "text": [
            "782it [00:35, 22.21it/s]\n",
            "79it [00:02, 38.62it/s]\n"
          ]
        },
        {
          "output_type": "stream",
          "name": "stdout",
          "text": [
            "Loss_train: 0.8794 and loss_val: 1.0008\n",
            "Epoch: 65\n"
          ]
        },
        {
          "output_type": "stream",
          "name": "stderr",
          "text": [
            "782it [00:35, 22.25it/s]\n",
            "79it [00:02, 38.75it/s]\n"
          ]
        },
        {
          "output_type": "stream",
          "name": "stdout",
          "text": [
            "Loss_train: 0.8763 and loss_val: 1.0030\n",
            "Epoch: 66\n"
          ]
        },
        {
          "output_type": "stream",
          "name": "stderr",
          "text": [
            "782it [00:34, 22.43it/s]\n",
            "79it [00:02, 38.69it/s]\n"
          ]
        },
        {
          "output_type": "stream",
          "name": "stdout",
          "text": [
            "Loss_train: 0.8733 and loss_val: 1.0046\n",
            "Epoch: 67\n"
          ]
        },
        {
          "output_type": "stream",
          "name": "stderr",
          "text": [
            "782it [00:36, 21.66it/s]\n",
            "79it [00:02, 38.89it/s]\n"
          ]
        },
        {
          "output_type": "stream",
          "name": "stdout",
          "text": [
            "Loss_train: 0.8702 and loss_val: 1.0043\n",
            "Epoch: 68\n"
          ]
        },
        {
          "output_type": "stream",
          "name": "stderr",
          "text": [
            "782it [00:34, 22.39it/s]\n",
            "79it [00:02, 39.00it/s]\n"
          ]
        },
        {
          "output_type": "stream",
          "name": "stdout",
          "text": [
            "Loss_train: 0.8695 and loss_val: 1.0065\n",
            "Epoch: 69\n"
          ]
        },
        {
          "output_type": "stream",
          "name": "stderr",
          "text": [
            "782it [00:35, 22.28it/s]\n",
            "79it [00:02, 38.55it/s]\n"
          ]
        },
        {
          "output_type": "stream",
          "name": "stdout",
          "text": [
            "Loss_train: 0.8677 and loss_val: 1.0032\n",
            "Epoch: 70\n"
          ]
        },
        {
          "output_type": "stream",
          "name": "stderr",
          "text": [
            "782it [00:35, 22.32it/s]\n",
            "79it [00:02, 38.13it/s]\n"
          ]
        },
        {
          "output_type": "stream",
          "name": "stdout",
          "text": [
            "Loss_train: 0.8658 and loss_val: 0.9993\n",
            "Epoch: 71\n"
          ]
        },
        {
          "output_type": "stream",
          "name": "stderr",
          "text": [
            "782it [00:35, 22.26it/s]\n",
            "79it [00:02, 38.61it/s]\n"
          ]
        },
        {
          "output_type": "stream",
          "name": "stdout",
          "text": [
            "Loss_train: 0.8648 and loss_val: 1.0028\n",
            "Epoch: 72\n"
          ]
        },
        {
          "output_type": "stream",
          "name": "stderr",
          "text": [
            "782it [00:35, 22.25it/s]\n",
            "79it [00:02, 38.29it/s]\n"
          ]
        },
        {
          "output_type": "stream",
          "name": "stdout",
          "text": [
            "Loss_train: 0.8609 and loss_val: 1.0004\n",
            "Epoch: 73\n"
          ]
        },
        {
          "output_type": "stream",
          "name": "stderr",
          "text": [
            "782it [00:35, 22.32it/s]\n",
            "79it [00:02, 38.35it/s]\n"
          ]
        },
        {
          "output_type": "stream",
          "name": "stdout",
          "text": [
            "Loss_train: 0.8588 and loss_val: 0.9989\n",
            "Epoch: 74\n"
          ]
        },
        {
          "output_type": "stream",
          "name": "stderr",
          "text": [
            "782it [00:34, 22.43it/s]\n",
            "79it [00:02, 38.65it/s]\n"
          ]
        },
        {
          "output_type": "stream",
          "name": "stdout",
          "text": [
            "Loss_train: 0.8588 and loss_val: 0.9989\n",
            "Epoch: 75\n"
          ]
        },
        {
          "output_type": "stream",
          "name": "stderr",
          "text": [
            "782it [00:35, 21.79it/s]\n",
            "79it [00:02, 38.23it/s]\n"
          ]
        },
        {
          "output_type": "stream",
          "name": "stdout",
          "text": [
            "Loss_train: 0.8558 and loss_val: 1.0061\n",
            "Epoch: 76\n"
          ]
        },
        {
          "output_type": "stream",
          "name": "stderr",
          "text": [
            "782it [00:34, 22.66it/s]\n",
            "79it [00:02, 34.02it/s]\n"
          ]
        },
        {
          "output_type": "stream",
          "name": "stdout",
          "text": [
            "Loss_train: 0.8538 and loss_val: 1.0008\n",
            "Epoch: 77\n"
          ]
        },
        {
          "output_type": "stream",
          "name": "stderr",
          "text": [
            "782it [00:34, 22.66it/s]\n",
            "79it [00:02, 29.99it/s]\n"
          ]
        },
        {
          "output_type": "stream",
          "name": "stdout",
          "text": [
            "Loss_train: 0.8522 and loss_val: 0.9960\n",
            "Epoch: 78\n"
          ]
        },
        {
          "output_type": "stream",
          "name": "stderr",
          "text": [
            "782it [00:34, 22.84it/s]\n",
            "79it [00:02, 27.70it/s]\n"
          ]
        },
        {
          "output_type": "stream",
          "name": "stdout",
          "text": [
            "Loss_train: 0.8502 and loss_val: 0.9912\n",
            "Epoch: 79\n"
          ]
        },
        {
          "output_type": "stream",
          "name": "stderr",
          "text": [
            "782it [00:33, 23.01it/s]\n",
            "79it [00:02, 30.78it/s]\n"
          ]
        },
        {
          "output_type": "stream",
          "name": "stdout",
          "text": [
            "Loss_train: 0.8482 and loss_val: 1.0120\n",
            "Epoch: 80\n"
          ]
        },
        {
          "output_type": "stream",
          "name": "stderr",
          "text": [
            "782it [00:34, 22.72it/s]\n",
            "79it [00:02, 35.73it/s]\n"
          ]
        },
        {
          "output_type": "stream",
          "name": "stdout",
          "text": [
            "Loss_train: 0.8458 and loss_val: 0.9914\n",
            "Epoch: 81\n"
          ]
        },
        {
          "output_type": "stream",
          "name": "stderr",
          "text": [
            "782it [00:34, 22.53it/s]\n",
            "79it [00:02, 38.63it/s]\n"
          ]
        },
        {
          "output_type": "stream",
          "name": "stdout",
          "text": [
            "Loss_train: 0.8451 and loss_val: 0.9896\n",
            "Epoch: 82\n"
          ]
        },
        {
          "output_type": "stream",
          "name": "stderr",
          "text": [
            "782it [00:35, 22.23it/s]\n",
            "79it [00:02, 38.29it/s]\n"
          ]
        },
        {
          "output_type": "stream",
          "name": "stdout",
          "text": [
            "Loss_train: 0.8424 and loss_val: 0.9884\n",
            "Epoch: 83\n"
          ]
        },
        {
          "output_type": "stream",
          "name": "stderr",
          "text": [
            "782it [00:35, 22.23it/s]\n",
            "79it [00:02, 38.30it/s]\n"
          ]
        },
        {
          "output_type": "stream",
          "name": "stdout",
          "text": [
            "Loss_train: 0.8416 and loss_val: 0.9998\n",
            "Epoch: 84\n"
          ]
        },
        {
          "output_type": "stream",
          "name": "stderr",
          "text": [
            "782it [00:36, 21.46it/s]\n",
            "79it [00:02, 38.52it/s]\n"
          ]
        },
        {
          "output_type": "stream",
          "name": "stdout",
          "text": [
            "Loss_train: 0.8410 and loss_val: 0.9998\n",
            "Epoch: 85\n"
          ]
        },
        {
          "output_type": "stream",
          "name": "stderr",
          "text": [
            "782it [00:34, 22.48it/s]\n",
            "79it [00:02, 38.87it/s]\n"
          ]
        },
        {
          "output_type": "stream",
          "name": "stdout",
          "text": [
            "Loss_train: 0.8384 and loss_val: 0.9966\n",
            "Epoch: 86\n"
          ]
        },
        {
          "output_type": "stream",
          "name": "stderr",
          "text": [
            "782it [00:35, 22.31it/s]\n",
            "79it [00:02, 38.01it/s]\n"
          ]
        },
        {
          "output_type": "stream",
          "name": "stdout",
          "text": [
            "Loss_train: 0.8360 and loss_val: 1.0111\n",
            "Epoch: 87\n"
          ]
        },
        {
          "output_type": "stream",
          "name": "stderr",
          "text": [
            "782it [00:35, 22.22it/s]\n",
            "79it [00:02, 38.58it/s]\n"
          ]
        },
        {
          "output_type": "stream",
          "name": "stdout",
          "text": [
            "Loss_train: 0.8353 and loss_val: 1.0016\n",
            "Epoch: 88\n"
          ]
        },
        {
          "output_type": "stream",
          "name": "stderr",
          "text": [
            "782it [00:34, 22.39it/s]\n",
            "79it [00:02, 39.21it/s]\n"
          ]
        },
        {
          "output_type": "stream",
          "name": "stdout",
          "text": [
            "Loss_train: 0.8328 and loss_val: 0.9860\n",
            "Epoch: 89\n"
          ]
        },
        {
          "output_type": "stream",
          "name": "stderr",
          "text": [
            "782it [00:34, 22.48it/s]\n",
            "79it [00:02, 38.78it/s]\n"
          ]
        },
        {
          "output_type": "stream",
          "name": "stdout",
          "text": [
            "Loss_train: 0.8335 and loss_val: 0.9863\n",
            "Epoch: 90\n"
          ]
        },
        {
          "output_type": "stream",
          "name": "stderr",
          "text": [
            "782it [00:34, 22.40it/s]\n",
            "79it [00:02, 38.90it/s]\n"
          ]
        },
        {
          "output_type": "stream",
          "name": "stdout",
          "text": [
            "Loss_train: 0.8302 and loss_val: 0.9892\n",
            "Epoch: 91\n"
          ]
        },
        {
          "output_type": "stream",
          "name": "stderr",
          "text": [
            "782it [00:34, 22.42it/s]\n",
            "79it [00:02, 37.02it/s]\n"
          ]
        },
        {
          "output_type": "stream",
          "name": "stdout",
          "text": [
            "Loss_train: 0.8290 and loss_val: 0.9973\n",
            "Epoch: 92\n"
          ]
        },
        {
          "output_type": "stream",
          "name": "stderr",
          "text": [
            "782it [00:35, 21.80it/s]\n",
            "79it [00:02, 38.96it/s]\n"
          ]
        },
        {
          "output_type": "stream",
          "name": "stdout",
          "text": [
            "Loss_train: 0.8277 and loss_val: 0.9867\n",
            "Epoch: 93\n"
          ]
        },
        {
          "output_type": "stream",
          "name": "stderr",
          "text": [
            "782it [00:34, 22.55it/s]\n",
            "79it [00:02, 34.02it/s]\n"
          ]
        },
        {
          "output_type": "stream",
          "name": "stdout",
          "text": [
            "Loss_train: 0.8272 and loss_val: 0.9896\n",
            "Epoch: 94\n"
          ]
        },
        {
          "output_type": "stream",
          "name": "stderr",
          "text": [
            "782it [00:34, 22.71it/s]\n",
            "79it [00:02, 29.95it/s]\n"
          ]
        },
        {
          "output_type": "stream",
          "name": "stdout",
          "text": [
            "Loss_train: 0.8249 and loss_val: 0.9873\n",
            "Epoch: 95\n"
          ]
        },
        {
          "output_type": "stream",
          "name": "stderr",
          "text": [
            "782it [00:34, 22.93it/s]\n",
            "79it [00:02, 27.44it/s]\n"
          ]
        },
        {
          "output_type": "stream",
          "name": "stdout",
          "text": [
            "Loss_train: 0.8234 and loss_val: 0.9806\n",
            "Epoch: 96\n"
          ]
        },
        {
          "output_type": "stream",
          "name": "stderr",
          "text": [
            "782it [00:34, 22.92it/s]\n",
            "79it [00:02, 31.46it/s]\n"
          ]
        },
        {
          "output_type": "stream",
          "name": "stdout",
          "text": [
            "Loss_train: 0.8217 and loss_val: 0.9824\n",
            "Epoch: 97\n"
          ]
        },
        {
          "output_type": "stream",
          "name": "stderr",
          "text": [
            "782it [00:34, 22.63it/s]\n",
            "79it [00:02, 35.69it/s]\n"
          ]
        },
        {
          "output_type": "stream",
          "name": "stdout",
          "text": [
            "Loss_train: 0.8211 and loss_val: 0.9865\n",
            "Epoch: 98\n"
          ]
        },
        {
          "output_type": "stream",
          "name": "stderr",
          "text": [
            "782it [00:34, 22.56it/s]\n",
            "79it [00:02, 38.19it/s]\n"
          ]
        },
        {
          "output_type": "stream",
          "name": "stdout",
          "text": [
            "Loss_train: 0.8203 and loss_val: 0.9893\n",
            "Epoch: 99\n"
          ]
        },
        {
          "output_type": "stream",
          "name": "stderr",
          "text": [
            "782it [00:34, 22.37it/s]\n",
            "79it [00:02, 37.89it/s]\n"
          ]
        },
        {
          "output_type": "stream",
          "name": "stdout",
          "text": [
            "Loss_train: 0.8195 and loss_val: 0.9823\n",
            "Time elapsed: 37.04991436004639\n",
            "Seconds per epoch: 0.3704991436004639\n",
            "Best epoch: 99\n"
          ]
        },
        {
          "output_type": "display_data",
          "data": {
            "text/plain": [
              "<Figure size 640x480 with 1 Axes>"
            ],
            "image/png": "[encoded data removed]"
          },
          "metadata": {}
        }
      ]
    },
    {
      "cell_type": "code",
      "source": [
        "#Test\n",
        "best_model.eval()\n",
        "print(\"Now testing...\")\n",
        "loss_test = 0\n",
        "test_batch = next(iter(test_loader))\n",
        "all_preds = []\n",
        "all_targets = []\n",
        "with torch.no_grad():\n",
        "  for idx, (batch, target) in tqdm(enumerate(test_loader)):\n",
        "      batch, target = batch.to(device), target.to(device)\n",
        "      preds = best_model(batch)\n",
        "      loss = criterion(preds, target)\n",
        "      loss_test += loss.item()\n",
        "      all_preds.append(torch.argmax(preds, dim=-1).cpu().numpy())\n",
        "      all_targets.append(target.cpu().numpy())\n",
        "  all_preds = np.concatenate(all_preds)\n",
        "  all_targets = np.concatenate(all_targets)\n",
        "  loss_test /= len(test_loader)\n",
        "\n",
        "  print(f\"Loss_test: {loss_test:.4f}\")\n",
        "\n",
        "\n"
      ],
      "metadata": {
        "id": "hYQgtpoqNe45",
        "outputId": "9e5eec14-7ee0-4932-f5cb-9bb29065c365",
        "colab": {
          "base_uri": "https://localhost:8080/"
        }
      },
      "execution_count": 16,
      "outputs": [
        {
          "output_type": "stream",
          "name": "stdout",
          "text": [
            "Now testing...\n"
          ]
        },
        {
          "output_type": "stream",
          "name": "stderr",
          "text": [
            "79it [00:02, 32.51it/s]"
          ]
        },
        {
          "output_type": "stream",
          "name": "stdout",
          "text": [
            "Loss_test: 0.9759\n"
          ]
        },
        {
          "output_type": "stream",
          "name": "stderr",
          "text": [
            "\n"
          ]
        }
      ]
    },
    {
      "cell_type": "code",
      "source": [
        "labels = [\"airplane (0)\", \"automobile (1)\", \"bird (2)\", \"cat (3)\", \"deer (4)\", \"dog (5)\", \"frog (6)\", \"horse (7)\", \"ship (8)\", \"truck (9)\"]\n",
        "#\n",
        "cm = confusion_matrix(all_targets, all_preds, labels=range(10))\n",
        "cm_df = pd.DataFrame(cm, index=labels, columns=labels)\n",
        "sns.heatmap(cm_df, annot=True, fmt=\"d\")"
      ],
      "metadata": {
        "id": "Co4UuP55NhtI",
        "outputId": "8ae71e14-6afe-4724-f935-446ddd886476",
        "colab": {
          "base_uri": "https://localhost:8080/",
          "height": 535
        }
      },
      "execution_count": 17,
      "outputs": [
        {
          "output_type": "execute_result",
          "data": {
            "text/plain": [
              "<Axes: >"
            ]
          },
          "metadata": {},
          "execution_count": 17
        },
        {
          "output_type": "display_data",
          "data": {
            "text/plain": [
              "<Figure size 640x480 with 2 Axes>"
            ],
            "image/png": "[encoded data removed]"
          },
          "metadata": {}
        }
      ]
    },
    {
      "cell_type": "code",
      "source": [
        "print(f\"Accuracy score is: {accuracy_score(all_targets, all_preds)}\")"
      ],
      "metadata": {
        "id": "bVu2DvpDUAB9",
        "outputId": "2f73071c-4e6b-4743-b8f6-93d99d9ff6e2",
        "colab": {
          "base_uri": "https://localhost:8080/"
        }
      },
      "execution_count": 18,
      "outputs": [
        {
          "output_type": "stream",
          "name": "stdout",
          "text": [
            "Accuracy score is: 0.6664\n"
          ]
        }
      ]
    },
    {
      "cell_type": "code",
      "source": [
        "def accuracy_multi_class(y_true, y_pred, cm):\n",
        "  '''\n",
        "  y_true: true labels\n",
        "  y_pred: predicted labels\n",
        "  cm: confusion matrix\n",
        "\n",
        "  return list of accuracies for each classes\n",
        "  '''\n",
        "  accuracies = np.zeros((cm.shape[0],))\n",
        "  for i in range(cm.shape[0]):\n",
        "    accuracies[i] = cm[i,i] / np.sum(cm[i,:])\n",
        "  return accuracies\n",
        "\n",
        "accuracies = accuracy_multi_class(all_targets, all_preds, cm)\n",
        "accuracies_df = pd.DataFrame(accuracies, index=labels, columns=[\"Accuracy\"])\n",
        "accuracies_df = accuracies_df.sort_values(by=\"Accuracy\", ascending=False)\n",
        "print(accuracies_df)\n"
      ],
      "metadata": {
        "id": "5_puNEVgNkSa",
        "outputId": "6a1888bd-7f02-4d02-c34c-d6202a42b176",
        "colab": {
          "base_uri": "https://localhost:8080/"
        }
      },
      "execution_count": 19,
      "outputs": [
        {
          "output_type": "stream",
          "name": "stdout",
          "text": [
            "                Accuracy\n",
            "ship (8)        0.829787\n",
            "automobile (1)  0.775210\n",
            "frog (6)        0.769697\n",
            "airplane (0)    0.729508\n",
            "truck (9)       0.716000\n",
            "horse (7)       0.694332\n",
            "deer (4)        0.622081\n",
            "dog (5)         0.567515\n",
            "bird (2)        0.498134\n",
            "cat (3)         0.480469\n"
          ]
        }
      ]
    }
  ]
}