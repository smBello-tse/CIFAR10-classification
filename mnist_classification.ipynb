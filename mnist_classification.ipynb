{
  "metadata": {
    "kernelspec": {
      "name": "python3",
      "display_name": "Python 3"
    },
    "language_info": {
      "name": "python",
      "version": "3.11.13",
      "mimetype": "text/x-python",
      "codemirror_mode": {
        "name": "ipython",
        "version": 3
      },
      "pygments_lexer": "ipython3",
      "nbconvert_exporter": "python",
      "file_extension": ".py"
    },
    "kaggle": {
      "accelerator": "nvidiaTeslaT4",
      "dataSources": [],
      "dockerImageVersionId": 31154,
      "isInternetEnabled": true,
      "language": "python",
      "sourceType": "notebook",
      "isGpuEnabled": true
    },
    "colab": {
      "provenance": [],
      "gpuType": "T4",
      "include_colab_link": true
    },
    "accelerator": "GPU"
  },
  "nbformat_minor": 0,
  "nbformat": 4,
  "cells": [
    {
      "cell_type": "markdown",
      "metadata": {
        "id": "view-in-github",
        "colab_type": "text"
      },
      "source": [
        "<a href=\"https://colab.research.google.com/github/smBello-tse/CIFAR10-classification/blob/main/mnist_classification.ipynb\" target=\"_parent\"><img src=\"https://colab.research.google.com/assets/colab-badge.svg\" alt=\"Open In Colab\"/></a>"
      ]
    },
    {
      "cell_type": "code",
      "source": [
        "# This Python 3 environment comes with many helpful analytics libraries installed\n",
        "# It is defined by the kaggle/python Docker image: https://github.com/kaggle/docker-python\n",
        "# For example, here's several helpful packages to load\n",
        "\n",
        "import numpy as np # linear algebra\n",
        "import pandas as pd # data processing, CSV file I/O (e.g. pd.read_csv)\n",
        "\n",
        "# Input data files are available in the read-only \"../input/\" directory\n",
        "# For example, running this (by clicking run or pressing Shift+Enter) will list all files under the input directory\n",
        "\n",
        "import os\n",
        "import torch\n",
        "from torchvision import datasets, transforms\n",
        "\n",
        "import matplotlib.pyplot as plt\n",
        "from tqdm import tqdm\n",
        "from sklearn.metrics import confusion_matrix, accuracy_score\n",
        "import seaborn as sns\n",
        "from time import time\n",
        "root = '/kaggle/input'\n",
        "\n",
        "# You can write up to 20GB to the current directory (/kaggle/working/) that gets preserved as output when you create a version using \"Save & Run All\"\n",
        "# You can also write temporary files to /kaggle/temp/, but they won't be saved outside of the current session"
      ],
      "metadata": {
        "_uuid": "8f2839f25d086af736a60e9eeb907d3b93b6e0e5",
        "_cell_guid": "b1076dfc-b9ad-4769-8c92-a6c4dae69d19",
        "trusted": true,
        "execution": {
          "iopub.status.busy": "2025-10-26T10:37:00.559679Z",
          "iopub.execute_input": "2025-10-26T10:37:00.55992Z",
          "iopub.status.idle": "2025-10-26T10:37:10.597392Z",
          "shell.execute_reply.started": "2025-10-26T10:37:00.559897Z",
          "shell.execute_reply": "2025-10-26T10:37:10.596565Z"
        },
        "id": "mCFVeq3ktb3-"
      },
      "outputs": [],
      "execution_count": null
    },
    {
      "cell_type": "code",
      "source": [
        "#Loading MNIST dataset\n",
        "generator = torch.Generator().manual_seed(42)\n",
        "transform = transforms.Compose([transforms.ToTensor()])\n",
        "train_dataset = datasets.CIFAR10(root=\"./data\", train=True, download=True, transform=transform)\n",
        "val_test_dataset = datasets.CIFAR10(root=\"./data\", train=False, download=True, transform=transform)\n",
        "val_dataset, test_dataset = torch.utils.data.random_split(val_test_dataset, [0.5, 0.5], generator=generator)"
      ],
      "metadata": {
        "trusted": true,
        "execution": {
          "iopub.status.busy": "2025-10-26T10:37:10.598947Z",
          "iopub.execute_input": "2025-10-26T10:37:10.599309Z",
          "iopub.status.idle": "2025-10-26T10:37:19.7046Z",
          "execution_failed": "2025-10-26T12:05:30.817Z"
        },
        "id": "qs-kimFStb3_",
        "colab": {
          "base_uri": "https://localhost:8080/"
        },
        "outputId": "ca4307db-e87b-4f6d-c2db-960b0a53ad64"
      },
      "outputs": [
        {
          "output_type": "stream",
          "name": "stderr",
          "text": [
            "100%|██████████| 170M/170M [00:06<00:00, 28.4MB/s]\n"
          ]
        }
      ],
      "execution_count": null
    },
    {
      "cell_type": "code",
      "source": [
        "#Visualisation\n",
        "image, target = train_dataset[785]\n",
        "print(f\"Label is: {target}\")\n",
        "print(f\"Image shape: {image.shape}\")\n",
        "image = image.permute(1,2,0).numpy()\n",
        "plt.imshow(image, cmap=\"gray\")\n",
        "plt.show()"
      ],
      "metadata": {
        "trusted": true,
        "execution": {
          "iopub.status.busy": "2025-10-26T10:37:19.71022Z",
          "iopub.execute_input": "2025-10-26T10:37:19.710428Z",
          "iopub.status.idle": "2025-10-26T10:37:19.934771Z",
          "execution_failed": "2025-10-26T12:05:30.817Z"
        },
        "colab": {
          "base_uri": "https://localhost:8080/",
          "height": 465
        },
        "id": "nJmTuJl2tb4A",
        "outputId": "1941b623-4c57-4c79-ef24-f850ffad8048"
      },
      "outputs": [
        {
          "output_type": "stream",
          "name": "stdout",
          "text": [
            "Label is: 3\n",
            "Image shape: torch.Size([3, 32, 32])\n"
          ]
        },
        {
          "output_type": "display_data",
          "data": {
            "text/plain": [
              "<Figure size 640x480 with 1 Axes>"
            ],
            "image/png": "[encoded data removed]"
          },
          "metadata": {}
        }
      ],
      "execution_count": null
    },
    {
      "cell_type": "code",
      "source": [
        "#Creating dataloader\n",
        "batch_size = 64\n",
        "train_loader = torch.utils.data.DataLoader(train_dataset, batch_size=batch_size, shuffle=True, generator=generator)\n",
        "val_loader = torch.utils.data.DataLoader(val_dataset, batch_size=batch_size, shuffle=False, generator=generator)\n",
        "test_loader = torch.utils.data.DataLoader(test_dataset, batch_size=batch_size, shuffle=False, generator=generator)\n"
      ],
      "metadata": {
        "trusted": true,
        "execution": {
          "iopub.status.busy": "2025-10-26T10:37:53.985115Z",
          "iopub.execute_input": "2025-10-26T10:37:53.985391Z",
          "iopub.status.idle": "2025-10-26T10:37:53.990275Z",
          "shell.execute_reply.started": "2025-10-26T10:37:53.98537Z",
          "shell.execute_reply": "2025-10-26T10:37:53.989598Z"
        },
        "id": "GZiMubjttb4B"
      },
      "outputs": [],
      "execution_count": null
    },
    {
      "cell_type": "code",
      "source": [
        "class SA_block(torch.nn.Module):\n",
        "\n",
        "    def __init__(self, d_emb, dk, nb_patches):\n",
        "        super().__init__()\n",
        "        self.d_emb = d_emb\n",
        "        self.dk = dk\n",
        "        self.nb_patches = nb_patches\n",
        "        self.W_Q = torch.nn.Linear(in_features=d_emb, out_features=dk)\n",
        "        self.W_K = torch.nn.Linear(in_features=d_emb, out_features=dk)\n",
        "        self.W_V = torch.nn.Linear(in_features=d_emb, out_features=dk)\n",
        "\n",
        "    def forward(self, x):\n",
        "        #print(x.device, self.W_Q.weight.device)\n",
        "        Q = self.W_Q(x)\n",
        "        K = self.W_K(x)\n",
        "        V = self.W_V(x)\n",
        "\n",
        "\n",
        "        #print(K.shape)\n",
        "        att = torch.matmul(Q, K.transpose(1,2))\n",
        "        att /= self.dk ** 0.5\n",
        "        att = torch.softmax(att, dim=-1)\n",
        "        return torch.matmul(att, V)\n"
      ],
      "metadata": {
        "trusted": true,
        "id": "_DIR6e8Ttb4F",
        "execution": {
          "iopub.status.busy": "2025-10-26T10:37:57.110301Z",
          "iopub.execute_input": "2025-10-26T10:37:57.110962Z",
          "iopub.status.idle": "2025-10-26T10:37:57.116654Z",
          "shell.execute_reply.started": "2025-10-26T10:37:57.110939Z",
          "shell.execute_reply": "2025-10-26T10:37:57.116074Z"
        }
      },
      "outputs": [],
      "execution_count": null
    },
    {
      "cell_type": "code",
      "source": [
        "class MHSA(torch.nn.Module):\n",
        "\n",
        "    def __init__(self, d_emb, dk, nb_heads, nb_patches):\n",
        "        super().__init__()\n",
        "        self.d_emb = d_emb\n",
        "        self.dk = dk\n",
        "        self.nb_heads = nb_heads\n",
        "        self.nb_patches = nb_patches\n",
        "        self.heads = torch.nn.ModuleList([SA_block(d_emb, dk, nb_patches) for _ in range(nb_heads)])\n",
        "        self.w0 = torch.nn.Linear(in_features=nb_heads * dk, out_features=d_emb)\n",
        "\n",
        "    def forward(self, x):\n",
        "        x_cat = torch.cat([head(x) for head in self.heads], dim=-1)\n",
        "        return self.w0(x_cat)"
      ],
      "metadata": {
        "id": "a8zOGN6Tvk4y",
        "trusted": true,
        "execution": {
          "iopub.status.busy": "2025-10-26T10:38:00.685308Z",
          "iopub.execute_input": "2025-10-26T10:38:00.685584Z",
          "iopub.status.idle": "2025-10-26T10:38:00.690934Z",
          "shell.execute_reply.started": "2025-10-26T10:38:00.68555Z",
          "shell.execute_reply": "2025-10-26T10:38:00.690204Z"
        }
      },
      "outputs": [],
      "execution_count": null
    },
    {
      "cell_type": "code",
      "source": [
        "class FeedForward(torch.nn.Module):\n",
        "\n",
        "    def __init__(self, d_emb, dff):\n",
        "        super().__init__()\n",
        "        self.dff = dff\n",
        "        self.d_emb = d_emb\n",
        "        self.W1 = torch.nn.Linear(in_features=d_emb, out_features=dff)\n",
        "        self.W2 = torch.nn.Linear(in_features=dff, out_features=d_emb)\n",
        "\n",
        "    def forward(self, x):\n",
        "        x = self.W1(x)\n",
        "        x = torch.nn.ReLU()(x)\n",
        "        x = self.W2(x)\n",
        "        return x"
      ],
      "metadata": {
        "id": "_BnsMdj5uk94",
        "trusted": true,
        "execution": {
          "iopub.status.busy": "2025-10-26T10:38:04.113244Z",
          "iopub.execute_input": "2025-10-26T10:38:04.11369Z",
          "iopub.status.idle": "2025-10-26T10:38:04.118688Z",
          "shell.execute_reply.started": "2025-10-26T10:38:04.113667Z",
          "shell.execute_reply": "2025-10-26T10:38:04.117813Z"
        }
      },
      "outputs": [],
      "execution_count": null
    },
    {
      "cell_type": "code",
      "source": [
        "class Block(torch.nn.Module):\n",
        "\n",
        "    def __init__(self, d_emb, dk, nb_heads, dff, nb_patches, dropout=0.1):\n",
        "        super().__init__()\n",
        "        self.d_emb = d_emb\n",
        "        self.dk = dk\n",
        "        self.nb_heads = nb_heads\n",
        "        self.nb_patches = nb_patches\n",
        "        self.dff = dff\n",
        "        self.mhsa = MHSA(d_emb, dk, nb_heads, nb_patches)\n",
        "        self.ff = FeedForward(d_emb, dff)\n",
        "        self.bn1 = torch.nn.BatchNorm1d(d_emb)\n",
        "        self.bn2 = torch.nn.BatchNorm1d(d_emb)\n",
        "        self.dropout1 = torch.nn.Dropout(p=dropout)\n",
        "        self.dropout2 = torch.nn.Dropout(p=dropout)\n",
        "\n",
        "    def forward(self, x):\n",
        "        # Apply MHSA and add residual connection\n",
        "        residual = x\n",
        "        x = self.dropout1(self.mhsa(x)) + residual\n",
        "\n",
        "        # Permute dimensions for BatchNorm1d\n",
        "        x = x.permute(0, 2, 1)\n",
        "        x = self.bn1(x)\n",
        "        # Permute back to original dimensions\n",
        "        x = x.permute(0, 2, 1)\n",
        "\n",
        "        # Apply FeedForward and add residual connection\n",
        "        residual = x\n",
        "        x = self.dropout1(self.ff(x)) + residual\n",
        "\n",
        "        # Permute dimensions for BatchNorm1d\n",
        "        x = x.permute(0, 2, 1)\n",
        "        x = self.bn2(x)\n",
        "        # Permute back to original dimensions\n",
        "        x = x.permute(0, 2, 1)\n",
        "\n",
        "        return x"
      ],
      "metadata": {
        "id": "L6kmroAmwhjy",
        "trusted": true,
        "execution": {
          "iopub.status.busy": "2025-10-26T10:38:07.365716Z",
          "iopub.execute_input": "2025-10-26T10:38:07.365995Z",
          "iopub.status.idle": "2025-10-26T10:38:07.372334Z",
          "shell.execute_reply.started": "2025-10-26T10:38:07.365975Z",
          "shell.execute_reply": "2025-10-26T10:38:07.371667Z"
        }
      },
      "outputs": [],
      "execution_count": null
    },
    {
      "cell_type": "code",
      "source": [
        "class Model(torch.nn.Module):\n",
        "\n",
        "  def __init__(self, patch_size, im_channels, d_emb, dk, nb_heads, dff, nb_layers, nb_patches, nb_classes, dropout=0.1):\n",
        "    super().__init__()\n",
        "    self.d_emb = d_emb\n",
        "    self.dk = dk\n",
        "    self.nb_heads = nb_heads\n",
        "    self.dff = dff\n",
        "    self.nb_layers = nb_layers\n",
        "    self.patch_size = patch_size\n",
        "    self.nb_patches = nb_patches\n",
        "    self.nb_classes = nb_classes\n",
        "    self.pos_emb = torch.nn.Embedding(num_embeddings=nb_patches, embedding_dim=d_emb)\n",
        "    self.emb_dropout = torch.nn.Dropout(p=dropout)\n",
        "    self.embed_layer = torch.nn.Linear(in_features=patch_size**2*im_channels, out_features=d_emb)\n",
        "    self.blocks = torch.nn.ModuleList([Block(d_emb, dk, nb_heads, dff, nb_patches, dropout) for _ in range(nb_layers)])\n",
        "    self.head = torch.nn.Linear(in_features=d_emb * nb_patches, out_features=nb_classes)\n",
        "\n",
        "  def make_patches(self, batch, patch_size):\n",
        "     N, C, H, W = batch.shape\n",
        "     batch = batch.permute(0, 2, 3, 1)\n",
        "     assert H % patch_size == 0 and W % patch_size == 0\n",
        "     nb_patches = (H // patch_size) * (W // patch_size)\n",
        "     return batch.contiguous().view(N, nb_patches, -1)\n",
        "\n",
        "  def forward(self, x):\n",
        "    x = self.make_patches(x, self.patch_size)\n",
        "    x_pos = self.pos_emb(torch.arange(self.nb_patches, device= x.device))\n",
        "    x = self.emb_dropout(self.embed_layer(x) + x_pos)\n",
        "    for block in self.blocks:\n",
        "      x = block(x)\n",
        "    x = x.reshape(x.shape[0], -1)\n",
        "    return self.head(x)\n"
      ],
      "metadata": {
        "id": "viNz9JfWvdDR",
        "trusted": true,
        "execution": {
          "iopub.status.busy": "2025-10-26T10:38:11.633471Z",
          "iopub.execute_input": "2025-10-26T10:38:11.63398Z",
          "iopub.status.idle": "2025-10-26T10:38:11.641428Z",
          "shell.execute_reply.started": "2025-10-26T10:38:11.633956Z",
          "shell.execute_reply": "2025-10-26T10:38:11.640643Z"
        }
      },
      "outputs": [],
      "execution_count": null
    },
    {
      "cell_type": "code",
      "source": [
        "patch_size = 4\n",
        "d_emb = 64\n",
        "dk = 128\n",
        "nb_heads = 4\n",
        "dff = d_emb * 4\n",
        "nb_layers = 4\n",
        "H, W, im_channels = image.shape\n",
        "nb_patches = (H // patch_size) * (W // patch_size)\n",
        "nb_classes = 10\n",
        "dropout = 0.2\n",
        "model = Model(patch_size, im_channels, d_emb, dk, nb_heads, dff, nb_layers, nb_patches, nb_classes, dropout)\n",
        "device = torch.device(\"cuda\" if torch.cuda.is_available() else \"cpu\")\n",
        "print(f\"Device is: {device}\")\n",
        "model.to(device)\n",
        "num_params = sum(p.numel() for p in model.parameters() if p.requires_grad)\n",
        "print(f\"Number of parameters: {num_params}\")\n",
        "model = torch.compile(model)"
      ],
      "metadata": {
        "id": "-Yz_LNeBx_Sc",
        "trusted": true,
        "execution": {
          "iopub.status.busy": "2025-10-26T11:17:04.046323Z",
          "iopub.execute_input": "2025-10-26T11:17:04.046586Z",
          "iopub.status.idle": "2025-10-26T11:17:04.069992Z",
          "shell.execute_reply.started": "2025-10-26T11:17:04.046565Z",
          "shell.execute_reply": "2025-10-26T11:17:04.069464Z"
        },
        "outputId": "0b0d41ab-60e0-4348-a810-ee049a4e7101",
        "colab": {
          "base_uri": "https://localhost:8080/"
        }
      },
      "outputs": [
        {
          "output_type": "stream",
          "name": "stdout",
          "text": [
            "Device is: cuda\n",
            "Number of parameters: 712266\n"
          ]
        }
      ],
      "execution_count": null
    },
    {
      "cell_type": "code",
      "source": [
        "#Training and validation\n",
        "nb_epochs = 300\n",
        "optimizer = torch.optim.AdamW(model.parameters(), lr=0.00005, weight_decay=0.01)\n",
        "criterion = torch.nn.CrossEntropyLoss()\n",
        "losses_train, losses_val = [], []\n",
        "best_loss = 1e5\n",
        "torch.set_float32_matmul_precision('high')\n",
        "\n",
        "model.train()\n",
        "\n",
        "for epoch in range(nb_epochs):\n",
        "  start = time()\n",
        "  print(f\"Epoch: {epoch}\")\n",
        "  #print(\"Now training...\")\n",
        "  loss_train, loss_val = 0, 0\n",
        "  for idx, (batch, target) in tqdm(enumerate(train_loader)):\n",
        "    batch, target = batch.to(device), target.to(device)\n",
        "    optimizer.zero_grad()\n",
        "    #with torch.autocast(device_type=\"cuda\", dtype=torch.bfloat16):\n",
        "    preds = model(batch)\n",
        "    #print(preds.shape, preds.dtype)\n",
        "    #print(target.shape, target.dtype)\n",
        "    loss = criterion(preds, target)\n",
        "    loss.backward()\n",
        "    loss_train += loss.item()\n",
        "    optimizer.step()\n",
        "  loss_train /= len(train_loader)\n",
        "  losses_train.append(loss_train)\n",
        "\n",
        "\n",
        "  #print(\"Now validation...\")\n",
        "  with torch.no_grad():\n",
        "    for idx, (batch, target) in tqdm(enumerate(val_loader)):\n",
        "      batch, target = batch.to(device), target.to(device)\n",
        "      preds = model(batch)\n",
        "      #print(preds.shape, preds.dtype)\n",
        "      #print(target.shape, target.dtype)\n",
        "      loss = criterion(preds, target)\n",
        "      loss_val += loss.item()\n",
        "      if loss.item() < best_loss:\n",
        "          best_loss = loss.item()\n",
        "          best_model, best_epoch = model, epoch\n",
        "    loss_val /= len(test_loader)\n",
        "    losses_val.append(loss_val)\n",
        "\n",
        "  print(f\"Loss_train: {loss_train:.4f} and loss_val: {loss_val:.4f}\")\n",
        "end = time()\n",
        "time_elapsed = end- start\n",
        "print(f\"Time elapsed: {time_elapsed}\")\n",
        "print(f\"Seconds per epoch: {time_elapsed / nb_epochs}\")\n",
        "print(f\"Best epoch: {epoch}\")\n",
        "\n",
        "epochs = range(nb_epochs)\n",
        "plt.plot(epochs, losses_train, label=\"Training loss\")\n",
        "plt.plot(epochs, losses_val, label=\"Validation loss\")\n",
        "plt.legend()\n",
        "plt.show()"
      ],
      "metadata": {
        "colab": {
          "base_uri": "https://localhost:8080/",
          "height": 963
        },
        "id": "9ATSmGaxyUm7",
        "outputId": "d153836d-5db9-4e05-9f9c-0a2dee822e0f",
        "trusted": true,
        "execution": {
          "iopub.status.busy": "2025-10-26T11:17:27.707463Z",
          "iopub.execute_input": "2025-10-26T11:17:27.707906Z",
          "execution_failed": "2025-10-26T12:05:30.818Z"
        }
      },
      "outputs": [
        {
          "output_type": "stream",
          "name": "stdout",
          "text": [
            "Epoch: 0\n"
          ]
        },
        {
          "output_type": "stream",
          "name": "stderr",
          "text": [
            "0it [00:00, ?it/s]W1026 13:23:41.214000 960 torch/_inductor/utils.py:1436] [0/0] Not enough SMs to use max_autotune_gemm mode\n",
            "782it [01:37,  8.05it/s]\n",
            "79it [00:20,  3.90it/s]\n"
          ]
        },
        {
          "output_type": "stream",
          "name": "stdout",
          "text": [
            "Loss_train: 2.0511 and loss_val: 1.9293\n",
            "Epoch: 1\n"
          ]
        },
        {
          "output_type": "stream",
          "name": "stderr",
          "text": [
            "782it [00:20, 38.27it/s]\n",
            "79it [00:01, 78.30it/s]\n"
          ]
        },
        {
          "output_type": "stream",
          "name": "stdout",
          "text": [
            "Loss_train: 1.9042 and loss_val: 1.8579\n",
            "Epoch: 2\n"
          ]
        },
        {
          "output_type": "stream",
          "name": "stderr",
          "text": [
            "782it [00:20, 37.57it/s]\n",
            "79it [00:00, 80.49it/s]\n"
          ]
        },
        {
          "output_type": "stream",
          "name": "stdout",
          "text": [
            "Loss_train: 1.8348 and loss_val: 1.7941\n",
            "Epoch: 3\n"
          ]
        },
        {
          "output_type": "stream",
          "name": "stderr",
          "text": [
            "782it [00:20, 37.60it/s]\n",
            "79it [00:01, 78.99it/s]\n"
          ]
        },
        {
          "output_type": "stream",
          "name": "stdout",
          "text": [
            "Loss_train: 1.7798 and loss_val: 1.7419\n",
            "Epoch: 4\n"
          ]
        },
        {
          "output_type": "stream",
          "name": "stderr",
          "text": [
            "782it [00:20, 37.72it/s]\n",
            "79it [00:01, 78.21it/s]\n"
          ]
        },
        {
          "output_type": "stream",
          "name": "stdout",
          "text": [
            "Loss_train: 1.7364 and loss_val: 1.6997\n",
            "Epoch: 5\n"
          ]
        },
        {
          "output_type": "stream",
          "name": "stderr",
          "text": [
            "782it [00:20, 38.78it/s]\n",
            "79it [00:01, 67.66it/s]\n"
          ]
        },
        {
          "output_type": "stream",
          "name": "stdout",
          "text": [
            "Loss_train: 1.6949 and loss_val: 1.6805\n",
            "Epoch: 6\n"
          ]
        },
        {
          "output_type": "stream",
          "name": "stderr",
          "text": [
            "782it [00:20, 37.96it/s]\n",
            "79it [00:00, 79.95it/s]\n"
          ]
        },
        {
          "output_type": "stream",
          "name": "stdout",
          "text": [
            "Loss_train: 1.6660 and loss_val: 1.6365\n",
            "Epoch: 7\n"
          ]
        },
        {
          "output_type": "stream",
          "name": "stderr",
          "text": [
            "782it [00:20, 37.60it/s]\n",
            "79it [00:00, 79.55it/s]\n"
          ]
        },
        {
          "output_type": "stream",
          "name": "stdout",
          "text": [
            "Loss_train: 1.6313 and loss_val: 1.6101\n",
            "Epoch: 8\n"
          ]
        },
        {
          "output_type": "stream",
          "name": "stderr",
          "text": [
            "290it [00:07, 36.34it/s]\n"
          ]
        },
        {
          "output_type": "error",
          "ename": "KeyboardInterrupt",
          "evalue": "",
          "traceback": [
            "\u001b[0;31m---------------------------------------------------------------------------\u001b[0m",
            "\u001b[0;31mKeyboardInterrupt\u001b[0m                         Traceback (most recent call last)",
            "\u001b[0;32m/tmp/ipython-input-1356198574.py\u001b[0m in \u001b[0;36m<cell line: 0>\u001b[0;34m()\u001b[0m\n\u001b[1;32m     22\u001b[0m     \u001b[0;31m#print(target.shape, target.dtype)\u001b[0m\u001b[0;34m\u001b[0m\u001b[0;34m\u001b[0m\u001b[0m\n\u001b[1;32m     23\u001b[0m     \u001b[0mloss\u001b[0m \u001b[0;34m=\u001b[0m \u001b[0mcriterion\u001b[0m\u001b[0;34m(\u001b[0m\u001b[0mpreds\u001b[0m\u001b[0;34m,\u001b[0m \u001b[0mtarget\u001b[0m\u001b[0;34m)\u001b[0m\u001b[0;34m\u001b[0m\u001b[0;34m\u001b[0m\u001b[0m\n\u001b[0;32m---> 24\u001b[0;31m     \u001b[0mloss\u001b[0m\u001b[0;34m.\u001b[0m\u001b[0mbackward\u001b[0m\u001b[0;34m(\u001b[0m\u001b[0;34m)\u001b[0m\u001b[0;34m\u001b[0m\u001b[0;34m\u001b[0m\u001b[0m\n\u001b[0m\u001b[1;32m     25\u001b[0m     \u001b[0mloss_train\u001b[0m \u001b[0;34m+=\u001b[0m \u001b[0mloss\u001b[0m\u001b[0;34m.\u001b[0m\u001b[0mitem\u001b[0m\u001b[0;34m(\u001b[0m\u001b[0;34m)\u001b[0m\u001b[0;34m\u001b[0m\u001b[0;34m\u001b[0m\u001b[0m\n\u001b[1;32m     26\u001b[0m     \u001b[0moptimizer\u001b[0m\u001b[0;34m.\u001b[0m\u001b[0mstep\u001b[0m\u001b[0;34m(\u001b[0m\u001b[0;34m)\u001b[0m\u001b[0;34m\u001b[0m\u001b[0;34m\u001b[0m\u001b[0m\n",
            "\u001b[0;32m/usr/local/lib/python3.12/dist-packages/torch/_tensor.py\u001b[0m in \u001b[0;36mbackward\u001b[0;34m(self, gradient, retain_graph, create_graph, inputs)\u001b[0m\n\u001b[1;32m    645\u001b[0m                 \u001b[0minputs\u001b[0m\u001b[0;34m=\u001b[0m\u001b[0minputs\u001b[0m\u001b[0;34m,\u001b[0m\u001b[0;34m\u001b[0m\u001b[0;34m\u001b[0m\u001b[0m\n\u001b[1;32m    646\u001b[0m             )\n\u001b[0;32m--> 647\u001b[0;31m         torch.autograd.backward(\n\u001b[0m\u001b[1;32m    648\u001b[0m             \u001b[0mself\u001b[0m\u001b[0;34m,\u001b[0m \u001b[0mgradient\u001b[0m\u001b[0;34m,\u001b[0m \u001b[0mretain_graph\u001b[0m\u001b[0;34m,\u001b[0m \u001b[0mcreate_graph\u001b[0m\u001b[0;34m,\u001b[0m \u001b[0minputs\u001b[0m\u001b[0;34m=\u001b[0m\u001b[0minputs\u001b[0m\u001b[0;34m\u001b[0m\u001b[0;34m\u001b[0m\u001b[0m\n\u001b[1;32m    649\u001b[0m         )\n",
            "\u001b[0;32m/usr/local/lib/python3.12/dist-packages/torch/autograd/__init__.py\u001b[0m in \u001b[0;36mbackward\u001b[0;34m(tensors, grad_tensors, retain_graph, create_graph, grad_variables, inputs)\u001b[0m\n\u001b[1;32m    352\u001b[0m     \u001b[0;31m# some Python versions print out the first line of a multi-line function\u001b[0m\u001b[0;34m\u001b[0m\u001b[0;34m\u001b[0m\u001b[0m\n\u001b[1;32m    353\u001b[0m     \u001b[0;31m# calls in the traceback and some print out the last line\u001b[0m\u001b[0;34m\u001b[0m\u001b[0;34m\u001b[0m\u001b[0m\n\u001b[0;32m--> 354\u001b[0;31m     _engine_run_backward(\n\u001b[0m\u001b[1;32m    355\u001b[0m         \u001b[0mtensors\u001b[0m\u001b[0;34m,\u001b[0m\u001b[0;34m\u001b[0m\u001b[0;34m\u001b[0m\u001b[0m\n\u001b[1;32m    356\u001b[0m         \u001b[0mgrad_tensors_\u001b[0m\u001b[0;34m,\u001b[0m\u001b[0;34m\u001b[0m\u001b[0;34m\u001b[0m\u001b[0m\n",
            "\u001b[0;32m/usr/local/lib/python3.12/dist-packages/torch/autograd/graph.py\u001b[0m in \u001b[0;36m_engine_run_backward\u001b[0;34m(t_outputs, *args, **kwargs)\u001b[0m\n\u001b[1;32m    827\u001b[0m         \u001b[0munregister_hooks\u001b[0m \u001b[0;34m=\u001b[0m \u001b[0m_register_logging_hooks_on_whole_graph\u001b[0m\u001b[0;34m(\u001b[0m\u001b[0mt_outputs\u001b[0m\u001b[0;34m)\u001b[0m\u001b[0;34m\u001b[0m\u001b[0;34m\u001b[0m\u001b[0m\n\u001b[1;32m    828\u001b[0m     \u001b[0;32mtry\u001b[0m\u001b[0;34m:\u001b[0m\u001b[0;34m\u001b[0m\u001b[0;34m\u001b[0m\u001b[0m\n\u001b[0;32m--> 829\u001b[0;31m         return Variable._execution_engine.run_backward(  # Calls into the C++ engine to run the backward pass\n\u001b[0m\u001b[1;32m    830\u001b[0m             \u001b[0mt_outputs\u001b[0m\u001b[0;34m,\u001b[0m \u001b[0;34m*\u001b[0m\u001b[0margs\u001b[0m\u001b[0;34m,\u001b[0m \u001b[0;34m**\u001b[0m\u001b[0mkwargs\u001b[0m\u001b[0;34m\u001b[0m\u001b[0;34m\u001b[0m\u001b[0m\n\u001b[1;32m    831\u001b[0m         )  # Calls into the C++ engine to run the backward pass\n",
            "\u001b[0;31mKeyboardInterrupt\u001b[0m: "
          ]
        }
      ],
      "execution_count": null
    },
    {
      "cell_type": "code",
      "source": [
        "#Test\n",
        "model.eval()\n",
        "print(\"Now testing...\")\n",
        "loss_test = 0\n",
        "test_batch = next(iter(test_loader))\n",
        "all_preds = []\n",
        "all_targets = []\n",
        "with torch.no_grad():\n",
        "  for idx, (batch, target) in tqdm(enumerate(val_loader)):\n",
        "      batch, target = batch.to(device), target.to(device)\n",
        "      preds = best_model(batch)\n",
        "      loss = criterion(preds, target)\n",
        "      loss_test += loss.item()\n",
        "      all_preds.append(torch.argmax(preds, dim=-1).cpu().numpy())\n",
        "      all_targets.append(target.cpu().numpy())\n",
        "  all_preds = np.concatenate(all_preds)\n",
        "  all_targets = np.concatenate(all_targets)\n",
        "  loss_test /= len(test_loader)\n",
        "\n",
        "  print(f\"Loss_test: {loss_test:.4f}\")\n",
        "\n",
        "\n"
      ],
      "metadata": {
        "id": "d4GUdF3Tqx32",
        "colab": {
          "base_uri": "https://localhost:8080/"
        },
        "outputId": "b807fdff-ae60-4498-db67-613f99d6999b",
        "trusted": true,
        "execution": {
          "iopub.status.busy": "2025-10-26T11:15:42.267278Z",
          "iopub.execute_input": "2025-10-26T11:15:42.267547Z",
          "iopub.status.idle": "2025-10-26T11:15:43.324041Z",
          "shell.execute_reply.started": "2025-10-26T11:15:42.267526Z",
          "shell.execute_reply": "2025-10-26T11:15:43.323209Z"
        }
      },
      "outputs": [
        {
          "output_type": "stream",
          "name": "stdout",
          "text": [
            "Now testing...\n"
          ]
        },
        {
          "output_type": "stream",
          "name": "stderr",
          "text": [
            "79it [00:01, 55.89it/s]"
          ]
        },
        {
          "output_type": "stream",
          "name": "stdout",
          "text": [
            "Loss_test: 1.1656\n"
          ]
        },
        {
          "output_type": "stream",
          "name": "stderr",
          "text": [
            "\n"
          ]
        }
      ],
      "execution_count": null
    },
    {
      "cell_type": "code",
      "source": [
        "labels = [\"airplane (0)\", \"automobile (1)\", \"bird (2)\", \"cat (3)\", \"deer (4)\", \"dog (5)\", \"frog (6)\", \"horse (7)\", \"ship (8)\", \"truck (9)\"]\n",
        "#\n",
        "cm = confusion_matrix(all_targets, all_preds, labels=range(10))\n",
        "cm_df = pd.DataFrame(cm, index=labels, columns=labels)\n",
        "sns.heatmap(cm_df, annot=True, fmt=\"d\")"
      ],
      "metadata": {
        "colab": {
          "base_uri": "https://localhost:8080/",
          "height": 535
        },
        "id": "NK4uBMwzTZEg",
        "outputId": "1f5a025d-49ea-48fa-8581-75bbdc9ab97a",
        "trusted": true,
        "execution": {
          "iopub.status.busy": "2025-10-26T11:15:48.504357Z",
          "iopub.execute_input": "2025-10-26T11:15:48.504902Z",
          "iopub.status.idle": "2025-10-26T11:15:48.94779Z",
          "shell.execute_reply.started": "2025-10-26T11:15:48.504877Z",
          "shell.execute_reply": "2025-10-26T11:15:48.947011Z"
        }
      },
      "outputs": [
        {
          "output_type": "execute_result",
          "data": {
            "text/plain": [
              "<Axes: >"
            ]
          },
          "metadata": {},
          "execution_count": 13
        },
        {
          "output_type": "display_data",
          "data": {
            "text/plain": [
              "<Figure size 640x480 with 2 Axes>"
            ],
            "image/png": "[encoded data removed]"
          },
          "metadata": {}
        }
      ],
      "execution_count": null
    },
    {
      "cell_type": "code",
      "source": [
        "print(f\"Accuracy score is: {accuracy_score(all_targets, all_preds)}\")"
      ],
      "metadata": {
        "colab": {
          "base_uri": "https://localhost:8080/"
        },
        "id": "iqUk7k4LQ4X2",
        "outputId": "a55f77e7-a764-4468-8c83-2bf763e30088",
        "trusted": true,
        "execution": {
          "iopub.status.busy": "2025-10-26T11:15:53.465292Z",
          "iopub.execute_input": "2025-10-26T11:15:53.465748Z",
          "iopub.status.idle": "2025-10-26T11:15:53.471239Z",
          "shell.execute_reply.started": "2025-10-26T11:15:53.465724Z",
          "shell.execute_reply": "2025-10-26T11:15:53.470495Z"
        }
      },
      "outputs": [
        {
          "output_type": "stream",
          "name": "stdout",
          "text": [
            "Accuracy score is: 0.6036\n"
          ]
        }
      ],
      "execution_count": null
    },
    {
      "cell_type": "code",
      "source": [
        "def accuracy_multi_class(y_true, y_pred, cm):\n",
        "  '''\n",
        "  y_true: true labels\n",
        "  y_pred: predicted labels\n",
        "  cm: confusion matrix\n",
        "\n",
        "  return list of accuracies for each classes\n",
        "  '''\n",
        "  accuracies = np.zeros((cm.shape[0],))\n",
        "  for i in range(cm.shape[0]):\n",
        "    accuracies[i] = cm[i,i] / np.sum(cm[i,:])\n",
        "  return accuracies\n",
        "\n",
        "accuracies = accuracy_multi_class(all_targets, all_preds, cm)\n",
        "accuracies_df = pd.DataFrame(accuracies, index=labels, columns=[\"Accuracy\"])\n",
        "accuracies_df = accuracies_df.sort_values(by=\"Accuracy\", ascending=False)\n",
        "print(accuracies_df)\n"
      ],
      "metadata": {
        "colab": {
          "base_uri": "https://localhost:8080/"
        },
        "id": "52ysE39KRVK5",
        "outputId": "2fa19929-a5f9-48a3-9d30-084fa593ca1e",
        "trusted": true,
        "execution": {
          "iopub.status.busy": "2025-10-26T11:15:57.514641Z",
          "iopub.execute_input": "2025-10-26T11:15:57.51491Z",
          "iopub.status.idle": "2025-10-26T11:15:57.530821Z",
          "shell.execute_reply.started": "2025-10-26T11:15:57.514891Z",
          "shell.execute_reply": "2025-10-26T11:15:57.530083Z"
        }
      },
      "outputs": [
        {
          "output_type": "stream",
          "name": "stdout",
          "text": [
            "                Accuracy\n",
            "ship (8)        0.706004\n",
            "frog (6)        0.687129\n",
            "airplane (0)    0.666016\n",
            "automobile (1)  0.643130\n",
            "horse (7)       0.628458\n",
            "truck (9)       0.604000\n",
            "deer (4)        0.591682\n",
            "dog (5)         0.550102\n",
            "bird (2)        0.502155\n",
            "cat (3)         0.444672\n"
          ]
        }
      ],
      "execution_count": null
    }
  ]
}