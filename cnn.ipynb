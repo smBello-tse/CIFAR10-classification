{
 "cells": [
  {
   "cell_type": "markdown",
   "id": "adb69252",
   "metadata": {
    "id": "view-in-github",
    "papermill": {
     "duration": 0.004146,
     "end_time": "2025-10-30T13:28:47.096843",
     "exception": false,
     "start_time": "2025-10-30T13:28:47.092697",
     "status": "completed"
    },
    "tags": []
   },
   "source": [
    "<a href=\"https://colab.research.google.com/github/smBello-tse/CIFAR10-classification/blob/main/cnn.ipynb\" target=\"_parent\"><img src=\"https://colab.research.google.com/assets/colab-badge.svg\" alt=\"Open In Colab\"/></a>"
   ]
  },
  {
   "cell_type": "code",
   "execution_count": 1,
   "id": "579e27ed",
   "metadata": {
    "execution": {
     "iopub.execute_input": "2025-10-30T13:28:47.104989Z",
     "iopub.status.busy": "2025-10-30T13:28:47.104404Z",
     "iopub.status.idle": "2025-10-30T13:28:58.914333Z",
     "shell.execute_reply": "2025-10-30T13:28:58.913688Z"
    },
    "id": "pUQa1U2Ap21Z",
    "papermill": {
     "duration": 11.815399,
     "end_time": "2025-10-30T13:28:58.915823",
     "exception": false,
     "start_time": "2025-10-30T13:28:47.100424",
     "status": "completed"
    },
    "tags": []
   },
   "outputs": [],
   "source": [
    "# This Python 3 environment comes with many helpful analytics libraries installed\n",
    "# It is defined by the kaggle/python Docker image: https://github.com/kaggle/docker-python\n",
    "# For example, here's several helpful packages to load\n",
    "\n",
    "import numpy as np # linear algebra\n",
    "import pandas as pd # data processing, CSV file I/O (e.g. pd.read_csv)\n",
    "\n",
    "# Input data files are available in the read-only \"../input/\" directory\n",
    "# For example, running this (by clicking run or pressing Shift+Enter) will list all files under the input directory\n",
    "\n",
    "import os\n",
    "import torch\n",
    "from torchvision import datasets, transforms\n",
    "\n",
    "import matplotlib.pyplot as plt\n",
    "from tqdm import tqdm\n",
    "from sklearn.metrics import confusion_matrix, accuracy_score\n",
    "import seaborn as sns\n",
    "from time import time\n",
    "root = '/kaggle/input'\n",
    "\n",
    "# You can write up to 20GB to the current directory (/kaggle/working/) that gets preserved as output when you create a version using \"Save & Run All\"\n",
    "# You can also write temporary files to /kaggle/temp/, but they won't be saved outside of the current session"
   ]
  },
  {
   "cell_type": "markdown",
   "id": "b30d51d3",
   "metadata": {
    "id": "aS9mRQ-Zqvlj",
    "papermill": {
     "duration": 0.003294,
     "end_time": "2025-10-30T13:28:58.923066",
     "exception": false,
     "start_time": "2025-10-30T13:28:58.919772",
     "status": "completed"
    },
    "tags": []
   },
   "source": [
    "## **I. Data Pre-processing**\n",
    "\n"
   ]
  },
  {
   "cell_type": "code",
   "execution_count": 2,
   "id": "0266d720",
   "metadata": {
    "execution": {
     "iopub.execute_input": "2025-10-30T13:28:58.930896Z",
     "iopub.status.busy": "2025-10-30T13:28:58.930196Z",
     "iopub.status.idle": "2025-10-30T13:29:05.207721Z",
     "shell.execute_reply": "2025-10-30T13:29:05.207131Z"
    },
    "id": "pwm8s6PDqe0k",
    "outputId": "cb7f7cfc-48bc-43db-ae7e-6470f9266b6c",
    "papermill": {
     "duration": 6.282758,
     "end_time": "2025-10-30T13:29:05.209137",
     "exception": false,
     "start_time": "2025-10-30T13:28:58.926379",
     "status": "completed"
    },
    "tags": []
   },
   "outputs": [
    {
     "name": "stderr",
     "output_type": "stream",
     "text": [
      "100%|██████████| 170M/170M [00:02<00:00, 59.4MB/s]\n"
     ]
    }
   ],
   "source": [
    "#Loading dataset\n",
    "generator = torch.Generator().manual_seed(42)\n",
    "transform = transforms.Compose([transforms.ToTensor()])\n",
    "train_dataset = datasets.CIFAR10(root=\"./data\", train=True, download=True, transform=transform)\n",
    "val_test_dataset = datasets.CIFAR10(root=\"./data\", train=False, download=True, transform=transform)\n",
    "val_dataset, _ = torch.utils.data.random_split(val_test_dataset, [0.5, 0.5], generator=generator)"
   ]
  },
  {
   "cell_type": "code",
   "execution_count": 3,
   "id": "68f5f654",
   "metadata": {
    "execution": {
     "iopub.execute_input": "2025-10-30T13:29:05.219813Z",
     "iopub.status.busy": "2025-10-30T13:29:05.219276Z",
     "iopub.status.idle": "2025-10-30T13:29:05.399932Z",
     "shell.execute_reply": "2025-10-30T13:29:05.399265Z"
    },
    "id": "1OQRAQrTqqTw",
    "outputId": "550cd327-ee0f-4fd8-c43d-5cce7e6f8dfb",
    "papermill": {
     "duration": 0.186841,
     "end_time": "2025-10-30T13:29:05.401012",
     "exception": false,
     "start_time": "2025-10-30T13:29:05.214171",
     "status": "completed"
    },
    "tags": []
   },
   "outputs": [
    {
     "name": "stdout",
     "output_type": "stream",
     "text": [
      "Label is: 3\n",
      "Image shape: torch.Size([3, 32, 32])\n"
     ]
    },
    {
     "data": {
      "image/png": "[encoded data removed]",
      "text/plain": [
       "<Figure size 640x480 with 1 Axes>"
      ]
     },
     "metadata": {},
     "output_type": "display_data"
    }
   ],
   "source": [
    "#Visualisation\n",
    "image, target = train_dataset[785]\n",
    "print(f\"Label is: {target}\")\n",
    "print(f\"Image shape: {image.shape}\")\n",
    "image = image.permute(1,2,0).numpy()\n",
    "plt.imshow(image, cmap=\"gray\")\n",
    "plt.show()"
   ]
  },
  {
   "cell_type": "code",
   "execution_count": 4,
   "id": "6e7c88f9",
   "metadata": {
    "execution": {
     "iopub.execute_input": "2025-10-30T13:29:05.411804Z",
     "iopub.status.busy": "2025-10-30T13:29:05.411351Z",
     "iopub.status.idle": "2025-10-30T13:29:19.812997Z",
     "shell.execute_reply": "2025-10-30T13:29:19.812371Z"
    },
    "id": "EtMKc-Sbt520",
    "papermill": {
     "duration": 14.40835,
     "end_time": "2025-10-30T13:29:19.814347",
     "exception": false,
     "start_time": "2025-10-30T13:29:05.405997",
     "status": "completed"
    },
    "tags": []
   },
   "outputs": [],
   "source": [
    "def compute_mean_std_dataset(dataset):\n",
    "  imgs = [item[0] for item in train_dataset] # item[0] and item[1] are image and its label\n",
    "  imgs = torch.stack(imgs, dim=0).numpy()\n",
    "\n",
    "# calculate mean over each channel (r,g,b)\n",
    "  mean_r = imgs[:,0,:,:].mean()\n",
    "  mean_g = imgs[:,1,:,:].mean()\n",
    "  mean_b = imgs[:,2,:,:].mean()\n",
    "  means = (mean_r,mean_g,mean_b)\n",
    "\n",
    "# calculate std over each channel (r,g,b)\n",
    "  std_r = imgs[:,0,:,:].std()\n",
    "  std_g = imgs[:,1,:,:].std()\n",
    "  std_b = imgs[:,2,:,:].std()\n",
    "  stds = (std_r,std_g,std_b)\n",
    "  return means, stds\n",
    "\n",
    "means_train, stds_train = compute_mean_std_dataset(train_dataset)\n",
    "means_val, stds_val = compute_mean_std_dataset(val_dataset)"
   ]
  },
  {
   "cell_type": "code",
   "execution_count": 5,
   "id": "3e5fa310",
   "metadata": {
    "execution": {
     "iopub.execute_input": "2025-10-30T13:29:19.825659Z",
     "iopub.status.busy": "2025-10-30T13:29:19.825121Z",
     "iopub.status.idle": "2025-10-30T13:29:21.249740Z",
     "shell.execute_reply": "2025-10-30T13:29:21.249136Z"
    },
    "id": "hQriIh7fvqUz",
    "papermill": {
     "duration": 1.431476,
     "end_time": "2025-10-30T13:29:21.251063",
     "exception": false,
     "start_time": "2025-10-30T13:29:19.819587",
     "status": "completed"
    },
    "tags": []
   },
   "outputs": [],
   "source": [
    "transform = transforms.Compose([transforms.ToTensor(), transforms.Normalize(means_train, stds_train), transforms.RandomRotation(degrees=(-40, 40))])\n",
    "train_dataset = datasets.CIFAR10(root=\"./data\", train=True, download=True, transform=transform)\n",
    "transform = transforms.Compose([transforms.ToTensor(), transforms.Normalize(means_val, stds_val)])\n",
    "val_test_dataset = datasets.CIFAR10(root=\"./data\", train=False, download=True, transform=transform)\n",
    "val_dataset, _ = torch.utils.data.random_split(val_test_dataset, [0.5, 0.5], generator=generator)"
   ]
  },
  {
   "cell_type": "code",
   "execution_count": 6,
   "id": "5a91da43",
   "metadata": {
    "execution": {
     "iopub.execute_input": "2025-10-30T13:29:21.262102Z",
     "iopub.status.busy": "2025-10-30T13:29:21.261699Z",
     "iopub.status.idle": "2025-10-30T13:29:21.265688Z",
     "shell.execute_reply": "2025-10-30T13:29:21.265141Z"
    },
    "id": "UrbKVsQXquIH",
    "papermill": {
     "duration": 0.01043,
     "end_time": "2025-10-30T13:29:21.266757",
     "exception": false,
     "start_time": "2025-10-30T13:29:21.256327",
     "status": "completed"
    },
    "tags": []
   },
   "outputs": [],
   "source": [
    "#Creating dataloader\n",
    "batch_size = 128\n",
    "train_loader = torch.utils.data.DataLoader(train_dataset, batch_size=batch_size, shuffle=True, generator=generator)\n",
    "val_loader = torch.utils.data.DataLoader(val_dataset, batch_size=batch_size, shuffle=False, generator=generator)"
   ]
  },
  {
   "cell_type": "markdown",
   "id": "95c4ffc0",
   "metadata": {
    "id": "lQ56x7Brq-MY",
    "papermill": {
     "duration": 0.004455,
     "end_time": "2025-10-30T13:29:21.276083",
     "exception": false,
     "start_time": "2025-10-30T13:29:21.271628",
     "status": "completed"
    },
    "tags": []
   },
   "source": [
    "# **II. Model implementation**"
   ]
  },
  {
   "cell_type": "code",
   "execution_count": 7,
   "id": "ef104ced",
   "metadata": {
    "execution": {
     "iopub.execute_input": "2025-10-30T13:29:21.286188Z",
     "iopub.status.busy": "2025-10-30T13:29:21.285807Z",
     "iopub.status.idle": "2025-10-30T13:29:21.290482Z",
     "shell.execute_reply": "2025-10-30T13:29:21.289781Z"
    },
    "id": "ql36g0E2HI0G",
    "papermill": {
     "duration": 0.010831,
     "end_time": "2025-10-30T13:29:21.291521",
     "exception": false,
     "start_time": "2025-10-30T13:29:21.280690",
     "status": "completed"
    },
    "tags": []
   },
   "outputs": [],
   "source": [
    "class Conv_layer(torch.nn.Module):\n",
    "  def __init__(self, in_channels, out_channels, kernel_size=3, stride=None, padding=None):\n",
    "    super().__init__()\n",
    "    self.stride = 1 if stride is None else stride\n",
    "    self.padding = 0 if padding is None else padding\n",
    "    self.conv_layer = torch.nn.Sequential(torch.nn.Conv2d(in_channels, out_channels, kernel_size, self.stride, self.padding),\n",
    "                                          torch.nn.MaxPool2d(kernel_size=2),\n",
    "                                          torch.nn.ReLU())\n",
    "\n",
    "\n",
    "  def forward(self, x):\n",
    "    return self.conv_layer(x)"
   ]
  },
  {
   "cell_type": "code",
   "execution_count": 8,
   "id": "ea446da4",
   "metadata": {
    "execution": {
     "iopub.execute_input": "2025-10-30T13:29:21.301635Z",
     "iopub.status.busy": "2025-10-30T13:29:21.301440Z",
     "iopub.status.idle": "2025-10-30T13:29:21.394205Z",
     "shell.execute_reply": "2025-10-30T13:29:21.393616Z"
    },
    "id": "xqKqDK4mIcdU",
    "outputId": "9e47c9ab-ea17-4492-808d-acdb5876f41a",
    "papermill": {
     "duration": 0.098993,
     "end_time": "2025-10-30T13:29:21.395260",
     "exception": false,
     "start_time": "2025-10-30T13:29:21.296267",
     "status": "completed"
    },
    "tags": []
   },
   "outputs": [
    {
     "name": "stdout",
     "output_type": "stream",
     "text": [
      "torch.Size([1, 16, 14, 14])\n"
     ]
    }
   ],
   "source": [
    "x, _ = train_dataset[785]\n",
    "x = x.unsqueeze(0)\n",
    "conv_layer = Conv_layer(3, 16, 5)\n",
    "feature_map = conv_layer(x)\n",
    "print(feature_map.shape)"
   ]
  },
  {
   "cell_type": "code",
   "execution_count": 9,
   "id": "9a99ed4e",
   "metadata": {
    "execution": {
     "iopub.execute_input": "2025-10-30T13:29:21.405685Z",
     "iopub.status.busy": "2025-10-30T13:29:21.405290Z",
     "iopub.status.idle": "2025-10-30T13:29:21.410216Z",
     "shell.execute_reply": "2025-10-30T13:29:21.409722Z"
    },
    "id": "X05HqdlTrCRJ",
    "papermill": {
     "duration": 0.011213,
     "end_time": "2025-10-30T13:29:21.411258",
     "exception": false,
     "start_time": "2025-10-30T13:29:21.400045",
     "status": "completed"
    },
    "tags": []
   },
   "outputs": [],
   "source": [
    "class My_CNN(torch.nn.Module):\n",
    "\n",
    "  def __init__(self, in_channels, out_channels, conv_kernels, fc_dims):\n",
    "    super().__init__()\n",
    "    self.in_channels = in_channels\n",
    "    self\n",
    "    self.conv_kernels = conv_kernels\n",
    "    self.fc_dims = fc_dims\n",
    "    self.conv_layers = torch.nn.ModuleList([Conv_layer(cin, cout, kernel) for cin, cout, kernel in zip(in_channels, out_channels, conv_kernels)])\n",
    "    self.fc_layers = torch.nn.ModuleList([torch.nn.Linear(dim_in, dim_out) for dim_in, dim_out in zip(fc_dims[:-1], fc_dims[1:])])\n",
    "\n",
    "  def forward(self, x):\n",
    "    for conv_layer in self.conv_layers:\n",
    "      x = conv_layer(x)\n",
    "    #print(f\"x shape is {x.shape}\")\n",
    "    x = x.view(x.size(0), -1)\n",
    "    for fc_layer in self.fc_layers:\n",
    "      x = fc_layer(x)\n",
    "    return x\n"
   ]
  },
  {
   "cell_type": "markdown",
   "id": "3a31b727",
   "metadata": {
    "id": "7PmdB_bVLRN1",
    "papermill": {
     "duration": 0.004606,
     "end_time": "2025-10-30T13:29:21.420675",
     "exception": false,
     "start_time": "2025-10-30T13:29:21.416069",
     "status": "completed"
    },
    "tags": []
   },
   "source": [
    "# **III. Training and test**"
   ]
  },
  {
   "cell_type": "code",
   "execution_count": 10,
   "id": "907cdc00",
   "metadata": {
    "execution": {
     "iopub.execute_input": "2025-10-30T13:29:21.431206Z",
     "iopub.status.busy": "2025-10-30T13:29:21.430703Z",
     "iopub.status.idle": "2025-10-30T13:29:21.852992Z",
     "shell.execute_reply": "2025-10-30T13:29:21.852331Z"
    },
    "id": "ydyRl5ThLPoi",
    "outputId": "b700feca-7579-422e-e761-6c3d1ab98b0f",
    "papermill": {
     "duration": 0.428698,
     "end_time": "2025-10-30T13:29:21.854157",
     "exception": false,
     "start_time": "2025-10-30T13:29:21.425459",
     "status": "completed"
    },
    "tags": []
   },
   "outputs": [
    {
     "data": {
      "text/plain": [
       "My_CNN(\n",
       "  (conv_layers): ModuleList(\n",
       "    (0): Conv_layer(\n",
       "      (conv_layer): Sequential(\n",
       "        (0): Conv2d(3, 64, kernel_size=(5, 5), stride=(1, 1))\n",
       "        (1): MaxPool2d(kernel_size=2, stride=2, padding=0, dilation=1, ceil_mode=False)\n",
       "        (2): ReLU()\n",
       "      )\n",
       "    )\n",
       "    (1): Conv_layer(\n",
       "      (conv_layer): Sequential(\n",
       "        (0): Conv2d(64, 128, kernel_size=(5, 5), stride=(1, 1))\n",
       "        (1): MaxPool2d(kernel_size=2, stride=2, padding=0, dilation=1, ceil_mode=False)\n",
       "        (2): ReLU()\n",
       "      )\n",
       "    )\n",
       "  )\n",
       "  (fc_layers): ModuleList(\n",
       "    (0): Linear(in_features=3200, out_features=256, bias=True)\n",
       "    (1): Linear(in_features=256, out_features=128, bias=True)\n",
       "    (2): Linear(in_features=128, out_features=10, bias=True)\n",
       "  )\n",
       ")"
      ]
     },
     "execution_count": 10,
     "metadata": {},
     "output_type": "execute_result"
    }
   ],
   "source": [
    "image = train_dataset[785][0]\n",
    "C, H, W = image.shape\n",
    "nb_classes = 10\n",
    "in_channels = (C, 64)\n",
    "out_channels = (64, 128)\n",
    "conv_kernels = (5, 5)\n",
    "fc_dims = (out_channels[-1]*5*5, 256, 128, nb_classes)\n",
    "model = My_CNN(in_channels, out_channels, conv_kernels, fc_dims)\n",
    "device = torch.device(\"cuda\" if torch.cuda.is_available() else \"cpu\")\n",
    "model.to(device)"
   ]
  },
  {
   "cell_type": "code",
   "execution_count": 11,
   "id": "a5b43b2c",
   "metadata": {
    "execution": {
     "iopub.execute_input": "2025-10-30T13:29:21.865066Z",
     "iopub.status.busy": "2025-10-30T13:29:21.864832Z",
     "iopub.status.idle": "2025-10-30T13:29:21.869179Z",
     "shell.execute_reply": "2025-10-30T13:29:21.868479Z"
    },
    "id": "h8AkpvTkM-nB",
    "outputId": "bacf267d-36bc-449c-e2df-292fd15cc964",
    "papermill": {
     "duration": 0.010844,
     "end_time": "2025-10-30T13:29:21.870210",
     "exception": false,
     "start_time": "2025-10-30T13:29:21.859366",
     "status": "completed"
    },
    "tags": []
   },
   "outputs": [
    {
     "name": "stdout",
     "output_type": "stream",
     "text": [
      "Number of parameters: 1063434\n",
      "Device is cuda\n"
     ]
    }
   ],
   "source": [
    "num_params = sum(p.numel() for p in model.parameters() if p.requires_grad)\n",
    "print(f\"Number of parameters: {num_params}\")\n",
    "print(f\"Device is {device}\")"
   ]
  },
  {
   "cell_type": "code",
   "execution_count": 12,
   "id": "df508ed9",
   "metadata": {
    "execution": {
     "iopub.execute_input": "2025-10-30T13:29:21.880563Z",
     "iopub.status.busy": "2025-10-30T13:29:21.880353Z",
     "iopub.status.idle": "2025-10-30T13:29:21.883427Z",
     "shell.execute_reply": "2025-10-30T13:29:21.882897Z"
    },
    "id": "4s_3HEvLNu7Y",
    "papermill": {
     "duration": 0.009369,
     "end_time": "2025-10-30T13:29:21.884438",
     "exception": false,
     "start_time": "2025-10-30T13:29:21.875069",
     "status": "completed"
    },
    "tags": []
   },
   "outputs": [],
   "source": [
    "if device==\"cuda\": model = torch.compile(model)"
   ]
  },
  {
   "cell_type": "code",
   "execution_count": 13,
   "id": "2511173c",
   "metadata": {
    "execution": {
     "iopub.execute_input": "2025-10-30T13:29:21.895345Z",
     "iopub.status.busy": "2025-10-30T13:29:21.894876Z",
     "iopub.status.idle": "2025-10-30T13:29:21.897963Z",
     "shell.execute_reply": "2025-10-30T13:29:21.897329Z"
    },
    "papermill": {
     "duration": 0.009419,
     "end_time": "2025-10-30T13:29:21.899037",
     "exception": false,
     "start_time": "2025-10-30T13:29:21.889618",
     "status": "completed"
    },
    "tags": []
   },
   "outputs": [],
   "source": [
    "optimizer = None #Just so that I can resume training"
   ]
  },
  {
   "cell_type": "code",
   "execution_count": 14,
   "id": "d0d468cb",
   "metadata": {
    "execution": {
     "iopub.execute_input": "2025-10-30T13:29:21.909589Z",
     "iopub.status.busy": "2025-10-30T13:29:21.909403Z",
     "iopub.status.idle": "2025-10-30T14:39:13.234805Z",
     "shell.execute_reply": "2025-10-30T14:39:13.233985Z"
    },
    "id": "t0Zl7_l_NNOW",
    "outputId": "08979f6e-4a7d-48ea-9287-24a7e6383e30",
    "papermill": {
     "duration": 4191.332015,
     "end_time": "2025-10-30T14:39:13.235953",
     "exception": false,
     "start_time": "2025-10-30T13:29:21.903938",
     "status": "completed"
    },
    "tags": []
   },
   "outputs": [
    {
     "name": "stdout",
     "output_type": "stream",
     "text": [
      "Epoch: 0\n"
     ]
    },
    {
     "name": "stderr",
     "output_type": "stream",
     "text": [
      "391it [00:40,  9.59it/s]\n",
      "40it [00:01, 35.59it/s]\n"
     ]
    },
    {
     "name": "stdout",
     "output_type": "stream",
     "text": [
      "Loss_train: 1.7173 and loss_val: 1.4494\n",
      "Epoch: 1\n"
     ]
    },
    {
     "name": "stderr",
     "output_type": "stream",
     "text": [
      "391it [00:39,  9.78it/s]\n",
      "40it [00:01, 35.68it/s]\n"
     ]
    },
    {
     "name": "stdout",
     "output_type": "stream",
     "text": [
      "Loss_train: 1.4566 and loss_val: 1.2990\n",
      "Epoch: 2\n"
     ]
    },
    {
     "name": "stderr",
     "output_type": "stream",
     "text": [
      "391it [00:39,  9.83it/s]\n",
      "40it [00:01, 35.58it/s]\n"
     ]
    },
    {
     "name": "stdout",
     "output_type": "stream",
     "text": [
      "Loss_train: 1.3389 and loss_val: 1.2144\n",
      "Epoch: 3\n"
     ]
    },
    {
     "name": "stderr",
     "output_type": "stream",
     "text": [
      "391it [00:39,  9.83it/s]\n",
      "40it [00:01, 35.93it/s]\n"
     ]
    },
    {
     "name": "stdout",
     "output_type": "stream",
     "text": [
      "Loss_train: 1.2645 and loss_val: 1.1523\n",
      "Epoch: 4\n"
     ]
    },
    {
     "name": "stderr",
     "output_type": "stream",
     "text": [
      "391it [00:39,  9.83it/s]\n",
      "40it [00:01, 35.87it/s]\n"
     ]
    },
    {
     "name": "stdout",
     "output_type": "stream",
     "text": [
      "Loss_train: 1.2085 and loss_val: 1.1102\n",
      "Epoch: 5\n"
     ]
    },
    {
     "name": "stderr",
     "output_type": "stream",
     "text": [
      "391it [00:39,  9.84it/s]\n",
      "40it [00:01, 35.92it/s]\n"
     ]
    },
    {
     "name": "stdout",
     "output_type": "stream",
     "text": [
      "Loss_train: 1.1582 and loss_val: 1.0568\n",
      "Epoch: 6\n"
     ]
    },
    {
     "name": "stderr",
     "output_type": "stream",
     "text": [
      "391it [00:39,  9.93it/s]\n",
      "40it [00:01, 35.29it/s]\n"
     ]
    },
    {
     "name": "stdout",
     "output_type": "stream",
     "text": [
      "Loss_train: 1.1163 and loss_val: 1.0388\n",
      "Epoch: 7\n"
     ]
    },
    {
     "name": "stderr",
     "output_type": "stream",
     "text": [
      "391it [00:40,  9.63it/s]\n",
      "40it [00:01, 35.31it/s]\n"
     ]
    },
    {
     "name": "stdout",
     "output_type": "stream",
     "text": [
      "Loss_train: 1.0873 and loss_val: 1.0257\n",
      "Epoch: 8\n"
     ]
    },
    {
     "name": "stderr",
     "output_type": "stream",
     "text": [
      "391it [00:40,  9.57it/s]\n",
      "40it [00:01, 34.61it/s]\n"
     ]
    },
    {
     "name": "stdout",
     "output_type": "stream",
     "text": [
      "Loss_train: 1.0589 and loss_val: 0.9751\n",
      "Epoch: 9\n"
     ]
    },
    {
     "name": "stderr",
     "output_type": "stream",
     "text": [
      "391it [00:41,  9.53it/s]\n",
      "40it [00:01, 35.62it/s]\n"
     ]
    },
    {
     "name": "stdout",
     "output_type": "stream",
     "text": [
      "Loss_train: 1.0280 and loss_val: 0.9801\n",
      "Epoch: 10\n"
     ]
    },
    {
     "name": "stderr",
     "output_type": "stream",
     "text": [
      "391it [00:41,  9.45it/s]\n",
      "40it [00:01, 33.12it/s]\n"
     ]
    },
    {
     "name": "stdout",
     "output_type": "stream",
     "text": [
      "Loss_train: 1.0057 and loss_val: 0.9508\n",
      "Epoch: 11\n"
     ]
    },
    {
     "name": "stderr",
     "output_type": "stream",
     "text": [
      "391it [00:42,  9.16it/s]\n",
      "40it [00:01, 34.60it/s]\n"
     ]
    },
    {
     "name": "stdout",
     "output_type": "stream",
     "text": [
      "Loss_train: 0.9855 and loss_val: 0.9322\n",
      "Epoch: 12\n"
     ]
    },
    {
     "name": "stderr",
     "output_type": "stream",
     "text": [
      "391it [00:42,  9.23it/s]\n",
      "40it [00:01, 34.11it/s]\n"
     ]
    },
    {
     "name": "stdout",
     "output_type": "stream",
     "text": [
      "Loss_train: 0.9672 and loss_val: 0.9165\n",
      "Epoch: 13\n"
     ]
    },
    {
     "name": "stderr",
     "output_type": "stream",
     "text": [
      "391it [00:41,  9.39it/s]\n",
      "40it [00:01, 34.86it/s]\n"
     ]
    },
    {
     "name": "stdout",
     "output_type": "stream",
     "text": [
      "Loss_train: 0.9535 and loss_val: 0.9477\n",
      "Epoch: 14\n"
     ]
    },
    {
     "name": "stderr",
     "output_type": "stream",
     "text": [
      "391it [00:41,  9.47it/s]\n",
      "40it [00:01, 35.32it/s]\n"
     ]
    },
    {
     "name": "stdout",
     "output_type": "stream",
     "text": [
      "Loss_train: 0.9370 and loss_val: 0.9050\n",
      "Epoch: 15\n"
     ]
    },
    {
     "name": "stderr",
     "output_type": "stream",
     "text": [
      "391it [00:41,  9.52it/s]\n",
      "40it [00:01, 34.96it/s]\n"
     ]
    },
    {
     "name": "stdout",
     "output_type": "stream",
     "text": [
      "Loss_train: 0.9182 and loss_val: 0.9091\n",
      "Epoch: 16\n"
     ]
    },
    {
     "name": "stderr",
     "output_type": "stream",
     "text": [
      "391it [00:41,  9.46it/s]\n",
      "40it [00:01, 34.57it/s]\n"
     ]
    },
    {
     "name": "stdout",
     "output_type": "stream",
     "text": [
      "Loss_train: 0.9037 and loss_val: 0.9126\n",
      "Epoch: 17\n"
     ]
    },
    {
     "name": "stderr",
     "output_type": "stream",
     "text": [
      "391it [00:40,  9.57it/s]\n",
      "40it [00:01, 35.70it/s]\n"
     ]
    },
    {
     "name": "stdout",
     "output_type": "stream",
     "text": [
      "Loss_train: 0.8922 and loss_val: 0.8769\n",
      "Epoch: 18\n"
     ]
    },
    {
     "name": "stderr",
     "output_type": "stream",
     "text": [
      "391it [00:40,  9.58it/s]\n",
      "40it [00:01, 34.17it/s]\n"
     ]
    },
    {
     "name": "stdout",
     "output_type": "stream",
     "text": [
      "Loss_train: 0.8774 and loss_val: 0.8625\n",
      "Epoch: 19\n"
     ]
    },
    {
     "name": "stderr",
     "output_type": "stream",
     "text": [
      "391it [00:40,  9.65it/s]\n",
      "40it [00:01, 35.45it/s]\n"
     ]
    },
    {
     "name": "stdout",
     "output_type": "stream",
     "text": [
      "Loss_train: 0.8692 and loss_val: 0.8966\n",
      "Epoch: 20\n"
     ]
    },
    {
     "name": "stderr",
     "output_type": "stream",
     "text": [
      "391it [00:40,  9.69it/s]\n",
      "40it [00:01, 34.35it/s]\n"
     ]
    },
    {
     "name": "stdout",
     "output_type": "stream",
     "text": [
      "Loss_train: 0.8572 and loss_val: 0.8829\n",
      "Epoch: 21\n"
     ]
    },
    {
     "name": "stderr",
     "output_type": "stream",
     "text": [
      "391it [00:40,  9.66it/s]\n",
      "40it [00:01, 33.40it/s]\n"
     ]
    },
    {
     "name": "stdout",
     "output_type": "stream",
     "text": [
      "Loss_train: 0.8466 and loss_val: 0.8724\n",
      "Epoch: 22\n"
     ]
    },
    {
     "name": "stderr",
     "output_type": "stream",
     "text": [
      "391it [00:43,  9.04it/s]\n",
      "40it [00:01, 36.01it/s]\n"
     ]
    },
    {
     "name": "stdout",
     "output_type": "stream",
     "text": [
      "Loss_train: 0.8388 and loss_val: 0.8697\n",
      "Epoch: 23\n"
     ]
    },
    {
     "name": "stderr",
     "output_type": "stream",
     "text": [
      "391it [00:41,  9.51it/s]\n",
      "40it [00:01, 34.55it/s]\n"
     ]
    },
    {
     "name": "stdout",
     "output_type": "stream",
     "text": [
      "Loss_train: 0.8265 and loss_val: 0.8542\n",
      "Epoch: 24\n"
     ]
    },
    {
     "name": "stderr",
     "output_type": "stream",
     "text": [
      "391it [00:40,  9.55it/s]\n",
      "40it [00:01, 35.06it/s]\n"
     ]
    },
    {
     "name": "stdout",
     "output_type": "stream",
     "text": [
      "Loss_train: 0.8181 and loss_val: 0.8656\n",
      "Epoch: 25\n"
     ]
    },
    {
     "name": "stderr",
     "output_type": "stream",
     "text": [
      "391it [00:40,  9.60it/s]\n",
      "40it [00:01, 35.60it/s]\n"
     ]
    },
    {
     "name": "stdout",
     "output_type": "stream",
     "text": [
      "Loss_train: 0.8105 and loss_val: 0.8556\n",
      "Epoch: 26\n"
     ]
    },
    {
     "name": "stderr",
     "output_type": "stream",
     "text": [
      "391it [00:41,  9.44it/s]\n",
      "40it [00:01, 35.71it/s]\n"
     ]
    },
    {
     "name": "stdout",
     "output_type": "stream",
     "text": [
      "Loss_train: 0.8020 and loss_val: 0.8574\n",
      "Epoch: 27\n"
     ]
    },
    {
     "name": "stderr",
     "output_type": "stream",
     "text": [
      "391it [00:39,  9.83it/s]\n",
      "40it [00:01, 35.94it/s]\n"
     ]
    },
    {
     "name": "stdout",
     "output_type": "stream",
     "text": [
      "Loss_train: 0.7958 and loss_val: 0.8323\n",
      "Epoch: 28\n"
     ]
    },
    {
     "name": "stderr",
     "output_type": "stream",
     "text": [
      "391it [00:39,  9.87it/s]\n",
      "40it [00:01, 36.12it/s]\n"
     ]
    },
    {
     "name": "stdout",
     "output_type": "stream",
     "text": [
      "Loss_train: 0.7875 and loss_val: 0.8206\n",
      "Epoch: 29\n"
     ]
    },
    {
     "name": "stderr",
     "output_type": "stream",
     "text": [
      "391it [00:40,  9.77it/s]\n",
      "40it [00:01, 34.70it/s]\n"
     ]
    },
    {
     "name": "stdout",
     "output_type": "stream",
     "text": [
      "Loss_train: 0.7838 and loss_val: 0.8315\n",
      "Epoch: 30\n"
     ]
    },
    {
     "name": "stderr",
     "output_type": "stream",
     "text": [
      "391it [00:42,  9.30it/s]\n",
      "40it [00:01, 33.46it/s]\n"
     ]
    },
    {
     "name": "stdout",
     "output_type": "stream",
     "text": [
      "Loss_train: 0.7760 and loss_val: 0.8213\n",
      "Epoch: 31\n"
     ]
    },
    {
     "name": "stderr",
     "output_type": "stream",
     "text": [
      "391it [00:41,  9.31it/s]\n",
      "40it [00:01, 35.04it/s]\n"
     ]
    },
    {
     "name": "stdout",
     "output_type": "stream",
     "text": [
      "Loss_train: 0.7686 and loss_val: 0.8263\n",
      "Epoch: 32\n"
     ]
    },
    {
     "name": "stderr",
     "output_type": "stream",
     "text": [
      "391it [00:41,  9.45it/s]\n",
      "40it [00:01, 35.34it/s]\n"
     ]
    },
    {
     "name": "stdout",
     "output_type": "stream",
     "text": [
      "Loss_train: 0.7602 and loss_val: 0.8369\n",
      "Epoch: 33\n"
     ]
    },
    {
     "name": "stderr",
     "output_type": "stream",
     "text": [
      "391it [00:41,  9.51it/s]\n",
      "40it [00:01, 35.06it/s]\n"
     ]
    },
    {
     "name": "stdout",
     "output_type": "stream",
     "text": [
      "Loss_train: 0.7562 and loss_val: 0.8167\n",
      "Epoch: 34\n"
     ]
    },
    {
     "name": "stderr",
     "output_type": "stream",
     "text": [
      "391it [00:40,  9.55it/s]\n",
      "40it [00:01, 34.18it/s]\n"
     ]
    },
    {
     "name": "stdout",
     "output_type": "stream",
     "text": [
      "Loss_train: 0.7530 and loss_val: 0.8292\n",
      "Epoch: 35\n"
     ]
    },
    {
     "name": "stderr",
     "output_type": "stream",
     "text": [
      "391it [00:40,  9.56it/s]\n",
      "40it [00:01, 35.42it/s]\n"
     ]
    },
    {
     "name": "stdout",
     "output_type": "stream",
     "text": [
      "Loss_train: 0.7461 and loss_val: 0.8064\n",
      "Epoch: 36\n"
     ]
    },
    {
     "name": "stderr",
     "output_type": "stream",
     "text": [
      "391it [00:40,  9.57it/s]\n",
      "40it [00:01, 34.00it/s]\n"
     ]
    },
    {
     "name": "stdout",
     "output_type": "stream",
     "text": [
      "Loss_train: 0.7365 and loss_val: 0.8067\n",
      "Epoch: 37\n"
     ]
    },
    {
     "name": "stderr",
     "output_type": "stream",
     "text": [
      "391it [00:40,  9.54it/s]\n",
      "40it [00:01, 34.23it/s]\n"
     ]
    },
    {
     "name": "stdout",
     "output_type": "stream",
     "text": [
      "Loss_train: 0.7328 and loss_val: 0.8165\n",
      "Epoch: 38\n"
     ]
    },
    {
     "name": "stderr",
     "output_type": "stream",
     "text": [
      "391it [00:41,  9.41it/s]\n",
      "40it [00:01, 34.93it/s]\n"
     ]
    },
    {
     "name": "stdout",
     "output_type": "stream",
     "text": [
      "Loss_train: 0.7277 and loss_val: 0.8243\n",
      "Epoch: 39\n"
     ]
    },
    {
     "name": "stderr",
     "output_type": "stream",
     "text": [
      "391it [00:40,  9.56it/s]\n",
      "40it [00:01, 35.32it/s]\n"
     ]
    },
    {
     "name": "stdout",
     "output_type": "stream",
     "text": [
      "Loss_train: 0.7255 and loss_val: 0.8080\n",
      "Epoch: 40\n"
     ]
    },
    {
     "name": "stderr",
     "output_type": "stream",
     "text": [
      "391it [00:40,  9.54it/s]\n",
      "40it [00:01, 35.40it/s]\n"
     ]
    },
    {
     "name": "stdout",
     "output_type": "stream",
     "text": [
      "Loss_train: 0.7211 and loss_val: 0.8046\n",
      "Epoch: 41\n"
     ]
    },
    {
     "name": "stderr",
     "output_type": "stream",
     "text": [
      "391it [00:40,  9.63it/s]\n",
      "40it [00:01, 35.23it/s]\n"
     ]
    },
    {
     "name": "stdout",
     "output_type": "stream",
     "text": [
      "Loss_train: 0.7186 and loss_val: 0.8166\n",
      "Epoch: 42\n"
     ]
    },
    {
     "name": "stderr",
     "output_type": "stream",
     "text": [
      "391it [00:40,  9.55it/s]\n",
      "40it [00:01, 34.76it/s]\n"
     ]
    },
    {
     "name": "stdout",
     "output_type": "stream",
     "text": [
      "Loss_train: 0.7095 and loss_val: 0.7954\n",
      "Epoch: 43\n"
     ]
    },
    {
     "name": "stderr",
     "output_type": "stream",
     "text": [
      "391it [00:41,  9.51it/s]\n",
      "40it [00:01, 35.73it/s]\n"
     ]
    },
    {
     "name": "stdout",
     "output_type": "stream",
     "text": [
      "Loss_train: 0.7100 and loss_val: 0.8147\n",
      "Epoch: 44\n"
     ]
    },
    {
     "name": "stderr",
     "output_type": "stream",
     "text": [
      "391it [00:41,  9.54it/s]\n",
      "40it [00:01, 34.94it/s]\n"
     ]
    },
    {
     "name": "stdout",
     "output_type": "stream",
     "text": [
      "Loss_train: 0.7055 and loss_val: 0.8054\n",
      "Epoch: 45\n"
     ]
    },
    {
     "name": "stderr",
     "output_type": "stream",
     "text": [
      "391it [00:41,  9.49it/s]\n",
      "40it [00:01, 34.57it/s]\n"
     ]
    },
    {
     "name": "stdout",
     "output_type": "stream",
     "text": [
      "Loss_train: 0.7023 and loss_val: 0.8217\n",
      "Epoch: 46\n"
     ]
    },
    {
     "name": "stderr",
     "output_type": "stream",
     "text": [
      "391it [00:40,  9.55it/s]\n",
      "40it [00:01, 35.30it/s]\n"
     ]
    },
    {
     "name": "stdout",
     "output_type": "stream",
     "text": [
      "Loss_train: 0.6964 and loss_val: 0.8135\n",
      "Epoch: 47\n"
     ]
    },
    {
     "name": "stderr",
     "output_type": "stream",
     "text": [
      "391it [00:41,  9.53it/s]\n",
      "40it [00:01, 34.60it/s]\n"
     ]
    },
    {
     "name": "stdout",
     "output_type": "stream",
     "text": [
      "Loss_train: 0.6920 and loss_val: 0.8034\n",
      "Epoch: 48\n"
     ]
    },
    {
     "name": "stderr",
     "output_type": "stream",
     "text": [
      "391it [00:41,  9.50it/s]\n",
      "40it [00:01, 34.85it/s]\n"
     ]
    },
    {
     "name": "stdout",
     "output_type": "stream",
     "text": [
      "Loss_train: 0.6934 and loss_val: 0.8201\n",
      "Epoch: 49\n"
     ]
    },
    {
     "name": "stderr",
     "output_type": "stream",
     "text": [
      "391it [00:40,  9.55it/s]\n",
      "40it [00:01, 35.76it/s]\n"
     ]
    },
    {
     "name": "stdout",
     "output_type": "stream",
     "text": [
      "Loss_train: 0.6847 and loss_val: 0.7870\n",
      "Epoch: 50\n"
     ]
    },
    {
     "name": "stderr",
     "output_type": "stream",
     "text": [
      "391it [00:40,  9.60it/s]\n",
      "40it [00:01, 35.31it/s]\n"
     ]
    },
    {
     "name": "stdout",
     "output_type": "stream",
     "text": [
      "Loss_train: 0.6843 and loss_val: 0.7978\n",
      "Epoch: 51\n"
     ]
    },
    {
     "name": "stderr",
     "output_type": "stream",
     "text": [
      "391it [00:40,  9.55it/s]\n",
      "40it [00:01, 34.43it/s]\n"
     ]
    },
    {
     "name": "stdout",
     "output_type": "stream",
     "text": [
      "Loss_train: 0.6762 and loss_val: 0.7960\n",
      "Epoch: 52\n"
     ]
    },
    {
     "name": "stderr",
     "output_type": "stream",
     "text": [
      "391it [00:40,  9.58it/s]\n",
      "40it [00:01, 34.59it/s]\n"
     ]
    },
    {
     "name": "stdout",
     "output_type": "stream",
     "text": [
      "Loss_train: 0.6733 and loss_val: 0.7869\n",
      "Epoch: 53\n"
     ]
    },
    {
     "name": "stderr",
     "output_type": "stream",
     "text": [
      "391it [00:41,  9.50it/s]\n",
      "40it [00:01, 33.68it/s]\n"
     ]
    },
    {
     "name": "stdout",
     "output_type": "stream",
     "text": [
      "Loss_train: 0.6701 and loss_val: 0.7927\n",
      "Epoch: 54\n"
     ]
    },
    {
     "name": "stderr",
     "output_type": "stream",
     "text": [
      "391it [00:40,  9.57it/s]\n",
      "40it [00:01, 35.48it/s]\n"
     ]
    },
    {
     "name": "stdout",
     "output_type": "stream",
     "text": [
      "Loss_train: 0.6721 and loss_val: 0.7918\n",
      "Epoch: 55\n"
     ]
    },
    {
     "name": "stderr",
     "output_type": "stream",
     "text": [
      "391it [00:40,  9.55it/s]\n",
      "40it [00:01, 35.45it/s]\n"
     ]
    },
    {
     "name": "stdout",
     "output_type": "stream",
     "text": [
      "Loss_train: 0.6652 and loss_val: 0.7865\n",
      "Epoch: 56\n"
     ]
    },
    {
     "name": "stderr",
     "output_type": "stream",
     "text": [
      "391it [00:40,  9.54it/s]\n",
      "40it [00:01, 33.05it/s]\n"
     ]
    },
    {
     "name": "stdout",
     "output_type": "stream",
     "text": [
      "Loss_train: 0.6647 and loss_val: 0.7891\n",
      "Epoch: 57\n"
     ]
    },
    {
     "name": "stderr",
     "output_type": "stream",
     "text": [
      "391it [00:40,  9.58it/s]\n",
      "40it [00:01, 35.00it/s]\n"
     ]
    },
    {
     "name": "stdout",
     "output_type": "stream",
     "text": [
      "Loss_train: 0.6582 and loss_val: 0.7950\n",
      "Epoch: 58\n"
     ]
    },
    {
     "name": "stderr",
     "output_type": "stream",
     "text": [
      "391it [00:40,  9.55it/s]\n",
      "40it [00:01, 35.33it/s]\n"
     ]
    },
    {
     "name": "stdout",
     "output_type": "stream",
     "text": [
      "Loss_train: 0.6608 and loss_val: 0.7914\n",
      "Epoch: 59\n"
     ]
    },
    {
     "name": "stderr",
     "output_type": "stream",
     "text": [
      "391it [00:40,  9.58it/s]\n",
      "40it [00:01, 35.19it/s]\n"
     ]
    },
    {
     "name": "stdout",
     "output_type": "stream",
     "text": [
      "Loss_train: 0.6524 and loss_val: 0.8027\n",
      "Epoch: 60\n"
     ]
    },
    {
     "name": "stderr",
     "output_type": "stream",
     "text": [
      "391it [00:41,  9.50it/s]\n",
      "40it [00:01, 34.42it/s]\n"
     ]
    },
    {
     "name": "stdout",
     "output_type": "stream",
     "text": [
      "Loss_train: 0.6555 and loss_val: 0.7896\n",
      "Epoch: 61\n"
     ]
    },
    {
     "name": "stderr",
     "output_type": "stream",
     "text": [
      "391it [00:40,  9.56it/s]\n",
      "40it [00:01, 34.87it/s]\n"
     ]
    },
    {
     "name": "stdout",
     "output_type": "stream",
     "text": [
      "Loss_train: 0.6475 and loss_val: 0.8015\n",
      "Epoch: 62\n"
     ]
    },
    {
     "name": "stderr",
     "output_type": "stream",
     "text": [
      "391it [00:41,  9.47it/s]\n",
      "40it [00:01, 35.04it/s]\n"
     ]
    },
    {
     "name": "stdout",
     "output_type": "stream",
     "text": [
      "Loss_train: 0.6442 and loss_val: 0.7804\n",
      "Epoch: 63\n"
     ]
    },
    {
     "name": "stderr",
     "output_type": "stream",
     "text": [
      "391it [00:41,  9.44it/s]\n",
      "40it [00:01, 35.46it/s]\n"
     ]
    },
    {
     "name": "stdout",
     "output_type": "stream",
     "text": [
      "Loss_train: 0.6475 and loss_val: 0.7991\n",
      "Epoch: 64\n"
     ]
    },
    {
     "name": "stderr",
     "output_type": "stream",
     "text": [
      "391it [00:41,  9.49it/s]\n",
      "40it [00:01, 34.74it/s]\n"
     ]
    },
    {
     "name": "stdout",
     "output_type": "stream",
     "text": [
      "Loss_train: 0.6394 and loss_val: 0.7896\n",
      "Epoch: 65\n"
     ]
    },
    {
     "name": "stderr",
     "output_type": "stream",
     "text": [
      "391it [00:41,  9.47it/s]\n",
      "40it [00:01, 35.11it/s]\n"
     ]
    },
    {
     "name": "stdout",
     "output_type": "stream",
     "text": [
      "Loss_train: 0.6334 and loss_val: 0.7939\n",
      "Epoch: 66\n"
     ]
    },
    {
     "name": "stderr",
     "output_type": "stream",
     "text": [
      "391it [00:40,  9.56it/s]\n",
      "40it [00:01, 35.68it/s]\n"
     ]
    },
    {
     "name": "stdout",
     "output_type": "stream",
     "text": [
      "Loss_train: 0.6338 and loss_val: 0.7919\n",
      "Epoch: 67\n"
     ]
    },
    {
     "name": "stderr",
     "output_type": "stream",
     "text": [
      "391it [00:40,  9.56it/s]\n",
      "40it [00:01, 35.01it/s]\n"
     ]
    },
    {
     "name": "stdout",
     "output_type": "stream",
     "text": [
      "Loss_train: 0.6295 and loss_val: 0.7929\n",
      "Epoch: 68\n"
     ]
    },
    {
     "name": "stderr",
     "output_type": "stream",
     "text": [
      "391it [00:41,  9.52it/s]\n",
      "40it [00:01, 34.59it/s]\n"
     ]
    },
    {
     "name": "stdout",
     "output_type": "stream",
     "text": [
      "Loss_train: 0.6272 and loss_val: 0.7908\n",
      "Epoch: 69\n"
     ]
    },
    {
     "name": "stderr",
     "output_type": "stream",
     "text": [
      "391it [00:40,  9.57it/s]\n",
      "40it [00:01, 34.67it/s]\n"
     ]
    },
    {
     "name": "stdout",
     "output_type": "stream",
     "text": [
      "Loss_train: 0.6267 and loss_val: 0.7989\n",
      "Epoch: 70\n"
     ]
    },
    {
     "name": "stderr",
     "output_type": "stream",
     "text": [
      "391it [00:41,  9.53it/s]\n",
      "40it [00:01, 34.42it/s]\n"
     ]
    },
    {
     "name": "stdout",
     "output_type": "stream",
     "text": [
      "Loss_train: 0.6270 and loss_val: 0.7957\n",
      "Epoch: 71\n"
     ]
    },
    {
     "name": "stderr",
     "output_type": "stream",
     "text": [
      "391it [00:41,  9.46it/s]\n",
      "40it [00:01, 34.78it/s]\n"
     ]
    },
    {
     "name": "stdout",
     "output_type": "stream",
     "text": [
      "Loss_train: 0.6222 and loss_val: 0.7927\n",
      "Epoch: 72\n"
     ]
    },
    {
     "name": "stderr",
     "output_type": "stream",
     "text": [
      "391it [00:41,  9.50it/s]\n",
      "40it [00:01, 35.25it/s]\n"
     ]
    },
    {
     "name": "stdout",
     "output_type": "stream",
     "text": [
      "Loss_train: 0.6153 and loss_val: 0.7955\n",
      "Epoch: 73\n"
     ]
    },
    {
     "name": "stderr",
     "output_type": "stream",
     "text": [
      "391it [00:40,  9.61it/s]\n",
      "40it [00:01, 35.42it/s]\n"
     ]
    },
    {
     "name": "stdout",
     "output_type": "stream",
     "text": [
      "Loss_train: 0.6154 and loss_val: 0.7858\n",
      "Epoch: 74\n"
     ]
    },
    {
     "name": "stderr",
     "output_type": "stream",
     "text": [
      "391it [00:40,  9.72it/s]\n",
      "40it [00:01, 35.60it/s]\n"
     ]
    },
    {
     "name": "stdout",
     "output_type": "stream",
     "text": [
      "Loss_train: 0.6119 and loss_val: 0.7709\n",
      "Epoch: 75\n"
     ]
    },
    {
     "name": "stderr",
     "output_type": "stream",
     "text": [
      "391it [00:40,  9.73it/s]\n",
      "40it [00:01, 34.08it/s]\n"
     ]
    },
    {
     "name": "stdout",
     "output_type": "stream",
     "text": [
      "Loss_train: 0.6163 and loss_val: 0.7947\n",
      "Epoch: 76\n"
     ]
    },
    {
     "name": "stderr",
     "output_type": "stream",
     "text": [
      "391it [00:40,  9.71it/s]\n",
      "40it [00:01, 35.61it/s]\n"
     ]
    },
    {
     "name": "stdout",
     "output_type": "stream",
     "text": [
      "Loss_train: 0.6110 and loss_val: 0.7820\n",
      "Epoch: 77\n"
     ]
    },
    {
     "name": "stderr",
     "output_type": "stream",
     "text": [
      "391it [00:40,  9.64it/s]\n",
      "40it [00:01, 35.94it/s]\n"
     ]
    },
    {
     "name": "stdout",
     "output_type": "stream",
     "text": [
      "Loss_train: 0.6082 and loss_val: 0.7979\n",
      "Epoch: 78\n"
     ]
    },
    {
     "name": "stderr",
     "output_type": "stream",
     "text": [
      "391it [00:40,  9.65it/s]\n",
      "40it [00:01, 36.04it/s]\n"
     ]
    },
    {
     "name": "stdout",
     "output_type": "stream",
     "text": [
      "Loss_train: 0.6070 and loss_val: 0.8074\n",
      "Epoch: 79\n"
     ]
    },
    {
     "name": "stderr",
     "output_type": "stream",
     "text": [
      "391it [00:40,  9.71it/s]\n",
      "40it [00:01, 35.53it/s]\n"
     ]
    },
    {
     "name": "stdout",
     "output_type": "stream",
     "text": [
      "Loss_train: 0.6056 and loss_val: 0.7990\n",
      "Epoch: 80\n"
     ]
    },
    {
     "name": "stderr",
     "output_type": "stream",
     "text": [
      "391it [00:40,  9.72it/s]\n",
      "40it [00:01, 36.00it/s]\n"
     ]
    },
    {
     "name": "stdout",
     "output_type": "stream",
     "text": [
      "Loss_train: 0.6011 and loss_val: 0.8079\n",
      "Epoch: 81\n"
     ]
    },
    {
     "name": "stderr",
     "output_type": "stream",
     "text": [
      "391it [00:40,  9.71it/s]\n",
      "40it [00:01, 36.14it/s]\n"
     ]
    },
    {
     "name": "stdout",
     "output_type": "stream",
     "text": [
      "Loss_train: 0.5990 and loss_val: 0.8059\n",
      "Epoch: 82\n"
     ]
    },
    {
     "name": "stderr",
     "output_type": "stream",
     "text": [
      "391it [00:40,  9.66it/s]\n",
      "40it [00:01, 35.85it/s]\n"
     ]
    },
    {
     "name": "stdout",
     "output_type": "stream",
     "text": [
      "Loss_train: 0.5989 and loss_val: 0.7857\n",
      "Epoch: 83\n"
     ]
    },
    {
     "name": "stderr",
     "output_type": "stream",
     "text": [
      "391it [00:40,  9.69it/s]\n",
      "40it [00:01, 35.62it/s]\n"
     ]
    },
    {
     "name": "stdout",
     "output_type": "stream",
     "text": [
      "Loss_train: 0.5930 and loss_val: 0.8015\n",
      "Epoch: 84\n"
     ]
    },
    {
     "name": "stderr",
     "output_type": "stream",
     "text": [
      "391it [00:40,  9.70it/s]\n",
      "40it [00:01, 36.34it/s]\n"
     ]
    },
    {
     "name": "stdout",
     "output_type": "stream",
     "text": [
      "Loss_train: 0.5986 and loss_val: 0.7920\n",
      "Epoch: 85\n"
     ]
    },
    {
     "name": "stderr",
     "output_type": "stream",
     "text": [
      "391it [00:40,  9.71it/s]\n",
      "40it [00:01, 35.80it/s]\n"
     ]
    },
    {
     "name": "stdout",
     "output_type": "stream",
     "text": [
      "Loss_train: 0.5955 and loss_val: 0.7902\n",
      "Epoch: 86\n"
     ]
    },
    {
     "name": "stderr",
     "output_type": "stream",
     "text": [
      "391it [00:40,  9.66it/s]\n",
      "40it [00:01, 35.74it/s]\n"
     ]
    },
    {
     "name": "stdout",
     "output_type": "stream",
     "text": [
      "Loss_train: 0.5906 and loss_val: 0.7855\n",
      "Epoch: 87\n"
     ]
    },
    {
     "name": "stderr",
     "output_type": "stream",
     "text": [
      "391it [00:39,  9.85it/s]\n",
      "40it [00:01, 36.33it/s]\n"
     ]
    },
    {
     "name": "stdout",
     "output_type": "stream",
     "text": [
      "Loss_train: 0.5863 and loss_val: 0.7790\n",
      "Epoch: 88\n"
     ]
    },
    {
     "name": "stderr",
     "output_type": "stream",
     "text": [
      "391it [00:39,  9.82it/s]\n",
      "40it [00:01, 35.98it/s]\n"
     ]
    },
    {
     "name": "stdout",
     "output_type": "stream",
     "text": [
      "Loss_train: 0.5882 and loss_val: 0.7870\n",
      "Epoch: 89\n"
     ]
    },
    {
     "name": "stderr",
     "output_type": "stream",
     "text": [
      "391it [00:39,  9.86it/s]\n",
      "40it [00:01, 36.30it/s]\n"
     ]
    },
    {
     "name": "stdout",
     "output_type": "stream",
     "text": [
      "Loss_train: 0.5785 and loss_val: 0.7852\n",
      "Epoch: 90\n"
     ]
    },
    {
     "name": "stderr",
     "output_type": "stream",
     "text": [
      "391it [00:40,  9.71it/s]\n",
      "40it [00:01, 35.99it/s]\n"
     ]
    },
    {
     "name": "stdout",
     "output_type": "stream",
     "text": [
      "Loss_train: 0.5805 and loss_val: 0.7810\n",
      "Epoch: 91\n"
     ]
    },
    {
     "name": "stderr",
     "output_type": "stream",
     "text": [
      "391it [00:39,  9.78it/s]\n",
      "40it [00:01, 35.79it/s]\n"
     ]
    },
    {
     "name": "stdout",
     "output_type": "stream",
     "text": [
      "Loss_train: 0.5856 and loss_val: 0.7972\n",
      "Epoch: 92\n"
     ]
    },
    {
     "name": "stderr",
     "output_type": "stream",
     "text": [
      "391it [00:40,  9.70it/s]\n",
      "40it [00:01, 36.12it/s]\n"
     ]
    },
    {
     "name": "stdout",
     "output_type": "stream",
     "text": [
      "Loss_train: 0.5805 and loss_val: 0.7912\n",
      "Epoch: 93\n"
     ]
    },
    {
     "name": "stderr",
     "output_type": "stream",
     "text": [
      "391it [00:40,  9.69it/s]\n",
      "40it [00:01, 35.67it/s]\n"
     ]
    },
    {
     "name": "stdout",
     "output_type": "stream",
     "text": [
      "Loss_train: 0.5783 and loss_val: 0.7902\n",
      "Epoch: 94\n"
     ]
    },
    {
     "name": "stderr",
     "output_type": "stream",
     "text": [
      "391it [00:40,  9.65it/s]\n",
      "40it [00:01, 35.74it/s]\n"
     ]
    },
    {
     "name": "stdout",
     "output_type": "stream",
     "text": [
      "Loss_train: 0.5785 and loss_val: 0.7873\n",
      "Epoch: 95\n"
     ]
    },
    {
     "name": "stderr",
     "output_type": "stream",
     "text": [
      "391it [00:40,  9.76it/s]\n",
      "40it [00:01, 36.39it/s]\n"
     ]
    },
    {
     "name": "stdout",
     "output_type": "stream",
     "text": [
      "Loss_train: 0.5721 and loss_val: 0.7915\n",
      "Epoch: 96\n"
     ]
    },
    {
     "name": "stderr",
     "output_type": "stream",
     "text": [
      "391it [00:40,  9.70it/s]\n",
      "40it [00:01, 36.13it/s]\n"
     ]
    },
    {
     "name": "stdout",
     "output_type": "stream",
     "text": [
      "Loss_train: 0.5756 and loss_val: 0.7890\n",
      "Epoch: 97\n"
     ]
    },
    {
     "name": "stderr",
     "output_type": "stream",
     "text": [
      "391it [00:40,  9.71it/s]\n",
      "40it [00:01, 34.32it/s]\n"
     ]
    },
    {
     "name": "stdout",
     "output_type": "stream",
     "text": [
      "Loss_train: 0.5715 and loss_val: 0.7826\n",
      "Epoch: 98\n"
     ]
    },
    {
     "name": "stderr",
     "output_type": "stream",
     "text": [
      "391it [00:40,  9.59it/s]\n",
      "40it [00:01, 35.83it/s]\n"
     ]
    },
    {
     "name": "stdout",
     "output_type": "stream",
     "text": [
      "Loss_train: 0.5720 and loss_val: 0.7837\n",
      "Epoch: 99\n"
     ]
    },
    {
     "name": "stderr",
     "output_type": "stream",
     "text": [
      "391it [00:40,  9.60it/s]\n",
      "40it [00:01, 35.91it/s]"
     ]
    },
    {
     "name": "stdout",
     "output_type": "stream",
     "text": [
      "Loss_train: 0.5653 and loss_val: 0.7836\n"
     ]
    },
    {
     "name": "stderr",
     "output_type": "stream",
     "text": [
      "\n"
     ]
    }
   ],
   "source": [
    "#Training and validation\n",
    "nb_epochs = 100\n",
    "if optimizer is None: optimizer = torch.optim.AdamW(model.parameters(), lr=0.0001, weight_decay=0.01)\n",
    "else: print(optimizer)\n",
    "criterion = torch.nn.CrossEntropyLoss()\n",
    "losses_train, losses_val = [], []\n",
    "best_loss = 1e5\n",
    "lr_decay = 0.99\n",
    "scheduler = torch.optim.lr_scheduler.ExponentialLR(optimizer, lr_decay)\n",
    "torch.set_float32_matmul_precision('high')\n",
    "\n",
    "model.train()\n",
    "\n",
    "for epoch in range(nb_epochs):\n",
    "  start = time()\n",
    "  print(f\"Epoch: {epoch}\")\n",
    "  #print(\"Now training...\")\n",
    "  loss_train, loss_val = 0, 0\n",
    "  for idx, (batch, target) in tqdm(enumerate(train_loader)):\n",
    "    batch, target = batch.to(device), target.to(device)\n",
    "    optimizer.zero_grad()\n",
    "    #with torch.autocast(device_type=\"cuda\", dtype=torch.bfloat16):\n",
    "    preds = model(batch)\n",
    "    #print(preds.shape, preds.dtype)\n",
    "    #print(target.shape, target.dtype)\n",
    "    loss = criterion(preds, target)\n",
    "    loss.backward()\n",
    "    loss_train += loss.item()\n",
    "    optimizer.step()\n",
    "  loss_train /= len(train_loader)\n",
    "  losses_train.append(loss_train)\n",
    "  scheduler.step()\n",
    "\n",
    "\n",
    "  #print(\"Now validation...\")\n",
    "  with torch.no_grad():\n",
    "    for idx, (batch, target) in tqdm(enumerate(val_loader)):\n",
    "      batch, target = batch.to(device), target.to(device)\n",
    "      preds = model(batch)\n",
    "      #print(preds.shape, preds.dtype)\n",
    "      #print(target.shape, target.dtype)\n",
    "      loss = criterion(preds, target)\n",
    "      loss_val += loss.item()\n",
    "    loss_val /= len(val_loader)\n",
    "    if loss_val < best_loss:\n",
    "      best_loss = loss_val\n",
    "      best_model, best_epoch = model, epoch\n",
    "    losses_val.append(loss_val)\n",
    "\n",
    "  print(f\"Loss_train: {loss_train:.4f} and loss_val: {loss_val:.4f}\")\n",
    "end = time()\n"
   ]
  },
  {
   "cell_type": "code",
   "execution_count": 15,
   "id": "d326841e",
   "metadata": {
    "execution": {
     "iopub.execute_input": "2025-10-30T14:39:16.410931Z",
     "iopub.status.busy": "2025-10-30T14:39:16.410297Z",
     "iopub.status.idle": "2025-10-30T14:39:16.535800Z",
     "shell.execute_reply": "2025-10-30T14:39:16.535142Z"
    },
    "id": "qebbKmt_DuE9",
    "outputId": "7684456d-acad-4262-de4b-62f31111eac4",
    "papermill": {
     "duration": 1.713113,
     "end_time": "2025-10-30T14:39:16.536896",
     "exception": false,
     "start_time": "2025-10-30T14:39:14.823783",
     "status": "completed"
    },
    "tags": []
   },
   "outputs": [
    {
     "name": "stdout",
     "output_type": "stream",
     "text": [
      "Time elapsed: 41.83610987663269\n",
      "Seconds per epoch: 0.4183610987663269\n",
      "Best epoch: 74\n",
      "Best loss: 0.7709\n"
     ]
    },
    {
     "data": {
      "image/png": "[encoded data removed]",
      "text/plain": [
       "<Figure size 640x480 with 1 Axes>"
      ]
     },
     "metadata": {},
     "output_type": "display_data"
    }
   ],
   "source": [
    "time_elapsed = end- start\n",
    "print(f\"Time elapsed: {time_elapsed}\")\n",
    "print(f\"Seconds per epoch: {time_elapsed / nb_epochs}\")\n",
    "print(f\"Best epoch: {best_epoch}\")\n",
    "print(f\"Best loss: {best_loss:.4f}\")\n",
    "\n",
    "epochs = range(nb_epochs)\n",
    "\n",
    "plt.plot(epochs, losses_train, label=\"Training loss\")\n",
    "plt.plot(epochs, losses_val, label=\"Validation loss\")\n",
    "plt.legend()\n",
    "plt.show()"
   ]
  },
  {
   "cell_type": "code",
   "execution_count": 16,
   "id": "b27a42c9",
   "metadata": {
    "execution": {
     "iopub.execute_input": "2025-10-30T14:39:19.767283Z",
     "iopub.status.busy": "2025-10-30T14:39:19.766999Z",
     "iopub.status.idle": "2025-10-30T14:39:20.965844Z",
     "shell.execute_reply": "2025-10-30T14:39:20.965080Z"
    },
    "id": "ckS-LAfGGHCU",
    "outputId": "373d807f-5c06-4f66-a7aa-f9742958ef32",
    "papermill": {
     "duration": 2.808114,
     "end_time": "2025-10-30T14:39:20.966904",
     "exception": false,
     "start_time": "2025-10-30T14:39:18.158790",
     "status": "completed"
    },
    "tags": []
   },
   "outputs": [
    {
     "name": "stdout",
     "output_type": "stream",
     "text": [
      "Now testing...\n"
     ]
    },
    {
     "name": "stderr",
     "output_type": "stream",
     "text": [
      "40it [00:01, 34.39it/s]"
     ]
    },
    {
     "name": "stdout",
     "output_type": "stream",
     "text": [
      "Loss_test: 0.7836\n"
     ]
    },
    {
     "name": "stderr",
     "output_type": "stream",
     "text": [
      "\n"
     ]
    }
   ],
   "source": [
    "#Test on val data\n",
    "best_model.eval()\n",
    "print(\"Now testing...\")\n",
    "loss_test = 0\n",
    "test_batch = next(iter(val_loader))\n",
    "all_preds = []\n",
    "all_targets = []\n",
    "with torch.no_grad():\n",
    "  for idx, (batch, target) in tqdm(enumerate(val_loader)):\n",
    "      batch, target = batch.to(device), target.to(device)\n",
    "      preds = best_model(batch)\n",
    "      loss = criterion(preds, target)\n",
    "      loss_test += loss.item()\n",
    "      all_preds.append(torch.argmax(preds, dim=-1).cpu().numpy())\n",
    "      all_targets.append(target.cpu().numpy())\n",
    "  all_preds = np.concatenate(all_preds)\n",
    "  all_targets = np.concatenate(all_targets)\n",
    "  loss_test /= len(val_loader)\n",
    "\n",
    "  print(f\"Loss_test: {loss_test:.4f}\")"
   ]
  },
  {
   "cell_type": "code",
   "execution_count": 17,
   "id": "7070341b",
   "metadata": {
    "execution": {
     "iopub.execute_input": "2025-10-30T14:39:24.139767Z",
     "iopub.status.busy": "2025-10-30T14:39:24.139113Z",
     "iopub.status.idle": "2025-10-30T14:39:24.535060Z",
     "shell.execute_reply": "2025-10-30T14:39:24.534416Z"
    },
    "id": "jnQscpcmGNzH",
    "outputId": "5279d92c-e86d-4c7b-ddc4-cee4b6d41991",
    "papermill": {
     "duration": 1.98835,
     "end_time": "2025-10-30T14:39:24.536332",
     "exception": false,
     "start_time": "2025-10-30T14:39:22.547982",
     "status": "completed"
    },
    "tags": []
   },
   "outputs": [
    {
     "data": {
      "text/plain": [
       "<Axes: >"
      ]
     },
     "execution_count": 17,
     "metadata": {},
     "output_type": "execute_result"
    },
    {
     "data": {
      "image/png": "[encoded data removed]",
      "text/plain": [
       "<Figure size 640x480 with 2 Axes>"
      ]
     },
     "metadata": {},
     "output_type": "display_data"
    }
   ],
   "source": [
    "labels = [\"airplane (0)\", \"automobile (1)\", \"bird (2)\", \"cat (3)\", \"deer (4)\", \"dog (5)\", \"frog (6)\", \"horse (7)\", \"ship (8)\", \"truck (9)\"]\n",
    "#\n",
    "cm = confusion_matrix(all_targets, all_preds, labels=range(10))\n",
    "cm_df = pd.DataFrame(cm, index=labels, columns=labels)\n",
    "sns.heatmap(cm_df, annot=True, fmt=\"d\")"
   ]
  },
  {
   "cell_type": "code",
   "execution_count": 18,
   "id": "f8b79541",
   "metadata": {
    "execution": {
     "iopub.execute_input": "2025-10-30T14:39:27.701448Z",
     "iopub.status.busy": "2025-10-30T14:39:27.701154Z",
     "iopub.status.idle": "2025-10-30T14:39:27.706674Z",
     "shell.execute_reply": "2025-10-30T14:39:27.706060Z"
    },
    "id": "7nyMZRjLGQGa",
    "outputId": "0ebf0586-271c-4f2f-8df9-5a58bb2a2cd9",
    "papermill": {
     "duration": 1.589114,
     "end_time": "2025-10-30T14:39:27.707694",
     "exception": false,
     "start_time": "2025-10-30T14:39:26.118580",
     "status": "completed"
    },
    "tags": []
   },
   "outputs": [
    {
     "name": "stdout",
     "output_type": "stream",
     "text": [
      "Accuracy score is: 0.745\n"
     ]
    }
   ],
   "source": [
    "print(f\"Accuracy score is: {accuracy_score(all_targets, all_preds)}\")"
   ]
  },
  {
   "cell_type": "code",
   "execution_count": 19,
   "id": "91999df3",
   "metadata": {
    "execution": {
     "iopub.execute_input": "2025-10-30T14:39:30.919995Z",
     "iopub.status.busy": "2025-10-30T14:39:30.919721Z",
     "iopub.status.idle": "2025-10-30T14:39:30.933269Z",
     "shell.execute_reply": "2025-10-30T14:39:30.932620Z"
    },
    "id": "_F-KvZKhGSLl",
    "outputId": "df9660e5-be3b-496e-8e0b-34304197e034",
    "papermill": {
     "duration": 1.610926,
     "end_time": "2025-10-30T14:39:30.934304",
     "exception": false,
     "start_time": "2025-10-30T14:39:29.323378",
     "status": "completed"
    },
    "tags": []
   },
   "outputs": [
    {
     "name": "stdout",
     "output_type": "stream",
     "text": [
      "                Accuracy\n",
      "ship (8)        0.879447\n",
      "automobile (1)  0.856223\n",
      "frog (6)        0.835366\n",
      "airplane (0)    0.828343\n",
      "horse (7)       0.775194\n",
      "truck (9)       0.739754\n",
      "dog (5)         0.698819\n",
      "deer (4)        0.677298\n",
      "bird (2)        0.637652\n",
      "cat (3)         0.530242\n",
      "Mean of accuracies:  0.7458337846552595\n"
     ]
    }
   ],
   "source": [
    "def accuracy_multi_class(y_true, y_pred, cm):\n",
    "  '''\n",
    "  y_true: true labels\n",
    "  y_pred: predicted labels\n",
    "  cm: confusion matrix\n",
    "\n",
    "  return list of accuracies for each classes\n",
    "  '''\n",
    "  accuracies = np.zeros((cm.shape[0],))\n",
    "  for i in range(cm.shape[0]):\n",
    "    accuracies[i] = cm[i,i] / np.sum(cm[i,:])\n",
    "  return accuracies\n",
    "\n",
    "accuracies = accuracy_multi_class(all_targets, all_preds, cm)\n",
    "accuracies_df = pd.DataFrame(accuracies, index=labels, columns=[\"Accuracy\"])\n",
    "accuracies_df = accuracies_df.sort_values(by=\"Accuracy\", ascending=False)\n",
    "print(accuracies_df)\n",
    "print(\"Mean of accuracies: \", accuracies_df[\"Accuracy\"].mean())"
   ]
  },
  {
   "cell_type": "code",
   "execution_count": 20,
   "id": "ff117145",
   "metadata": {
    "execution": {
     "iopub.execute_input": "2025-10-30T14:39:34.027686Z",
     "iopub.status.busy": "2025-10-30T14:39:34.027110Z",
     "iopub.status.idle": "2025-10-30T14:39:34.051958Z",
     "shell.execute_reply": "2025-10-30T14:39:34.051161Z"
    },
    "papermill": {
     "duration": 1.610414,
     "end_time": "2025-10-30T14:39:34.053305",
     "exception": false,
     "start_time": "2025-10-30T14:39:32.442891",
     "status": "completed"
    },
    "tags": []
   },
   "outputs": [],
   "source": [
    "checkpoint = {\n",
    "    \"model\": best_model.state_dict(),\n",
    "    \"optimizer\": optimizer.state_dict(),\n",
    "    \"best_loss\": best_loss,\n",
    "    \"epoch\": best_epoch\n",
    "}\n",
    "\n",
    "# Save to a file in the working directory\n",
    "torch.save(checkpoint, \"/kaggle/working/checkpoint.pth\")"
   ]
  }
 ],
 "metadata": {
  "accelerator": "GPU",
  "colab": {
   "authorship_tag": "ABX9TyP6MMHTSB4UxxYep33m2N22",
   "gpuType": "T4",
   "include_colab_link": true,
   "provenance": []
  },
  "kaggle": {
   "accelerator": "nvidiaTeslaT4",
   "dataSources": [],
   "dockerImageVersionId": 31154,
   "isGpuEnabled": true,
   "isInternetEnabled": true,
   "language": "python",
   "sourceType": "notebook"
  },
  "kernelspec": {
   "display_name": "Python 3",
   "language": "python",
   "name": "python3"
  },
  "language_info": {
   "codemirror_mode": {
    "name": "ipython",
    "version": 3
   },
   "file_extension": ".py",
   "mimetype": "text/x-python",
   "name": "python",
   "nbconvert_exporter": "python",
   "pygments_lexer": "ipython3",
   "version": "3.11.13"
  },
  "papermill": {
   "default_parameters": {},
   "duration": 4254.50445,
   "end_time": "2025-10-30T14:39:38.030203",
   "environment_variables": {},
   "exception": null,
   "input_path": "__notebook__.ipynb",
   "output_path": "__notebook__.ipynb",
   "parameters": {},
   "start_time": "2025-10-30T13:28:43.525753",
   "version": "2.6.0"
  }
 },
 "nbformat": 4,
 "nbformat_minor": 5
}
