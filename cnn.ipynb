{
  "cells": [
    {
      "cell_type": "markdown",
      "metadata": {
        "id": "view-in-github",
        "colab_type": "text"
      },
      "source": [
        "<a href=\"https://colab.research.google.com/github/smBello-tse/CIFAR10-classification/blob/main/cnn.ipynb\" target=\"_parent\"><img src=\"https://colab.research.google.com/assets/colab-badge.svg\" alt=\"Open In Colab\"/></a>"
      ]
    },
    {
      "cell_type": "code",
      "execution_count": 24,
      "id": "8ccd7af2",
      "metadata": {
        "execution": {
          "iopub.execute_input": "2025-10-31T10:08:43.648396Z",
          "iopub.status.busy": "2025-10-31T10:08:43.648171Z",
          "iopub.status.idle": "2025-10-31T10:08:55.422708Z",
          "shell.execute_reply": "2025-10-31T10:08:55.422156Z"
        },
        "id": "8ccd7af2",
        "papermill": {
          "duration": 11.780535,
          "end_time": "2025-10-31T10:08:55.424125",
          "exception": false,
          "start_time": "2025-10-31T10:08:43.643590",
          "status": "completed"
        },
        "tags": []
      },
      "outputs": [],
      "source": [
        "# This Python 3 environment comes with many helpful analytics libraries installed\n",
        "# It is defined by the kaggle/python Docker image: https://github.com/kaggle/docker-python\n",
        "# For example, here's several helpful packages to load\n",
        "\n",
        "import numpy as np # linear algebra\n",
        "import pandas as pd # data processing, CSV file I/O (e.g. pd.read_csv)\n",
        "\n",
        "# Input data files are available in the read-only \"../input/\" directory\n",
        "# For example, running this (by clicking run or pressing Shift+Enter) will list all files under the input directory\n",
        "\n",
        "import os\n",
        "import torch\n",
        "from torchvision import datasets, transforms\n",
        "\n",
        "import matplotlib.pyplot as plt\n",
        "from tqdm import tqdm\n",
        "from sklearn.metrics import confusion_matrix, accuracy_score\n",
        "import seaborn as sns\n",
        "from time import time\n",
        "root = '/kaggle/input'\n",
        "\n",
        "# You can write up to 20GB to the current directory (/kaggle/working/) that gets preserved as output when you create a version using \"Save & Run All\"\n",
        "# You can also write temporary files to /kaggle/temp/, but they won't be saved outside of the current session"
      ]
    },
    {
      "cell_type": "markdown",
      "id": "ff3c73b4",
      "metadata": {
        "id": "ff3c73b4",
        "papermill": {
          "duration": 0.003326,
          "end_time": "2025-10-31T10:08:55.431295",
          "exception": false,
          "start_time": "2025-10-31T10:08:55.427969",
          "status": "completed"
        },
        "tags": []
      },
      "source": [
        "## **I. Data Pre-processing**\n",
        "\n"
      ]
    },
    {
      "cell_type": "code",
      "execution_count": 25,
      "id": "bdfaf65c",
      "metadata": {
        "execution": {
          "iopub.execute_input": "2025-10-31T10:08:55.438996Z",
          "iopub.status.busy": "2025-10-31T10:08:55.438700Z",
          "iopub.status.idle": "2025-10-31T10:09:02.243561Z",
          "shell.execute_reply": "2025-10-31T10:09:02.242729Z"
        },
        "id": "bdfaf65c",
        "papermill": {
          "duration": 6.810225,
          "end_time": "2025-10-31T10:09:02.245023",
          "exception": false,
          "start_time": "2025-10-31T10:08:55.434798",
          "status": "completed"
        },
        "tags": []
      },
      "outputs": [],
      "source": [
        "#Loading dataset\n",
        "generator = torch.Generator().manual_seed(42)\n",
        "transform = transforms.Compose([transforms.ToTensor()])\n",
        "train_dataset = datasets.CIFAR10(root=\"./data\", train=True, download=True, transform=transform)\n",
        "val_test_dataset = datasets.CIFAR10(root=\"./data\", train=False, download=True, transform=transform)\n",
        "val_dataset, _ = torch.utils.data.random_split(val_test_dataset, [0.5, 0.5], generator=generator)"
      ]
    },
    {
      "cell_type": "code",
      "execution_count": 26,
      "id": "54c7e2d1",
      "metadata": {
        "execution": {
          "iopub.execute_input": "2025-10-31T10:09:02.256459Z",
          "iopub.status.busy": "2025-10-31T10:09:02.256228Z",
          "iopub.status.idle": "2025-10-31T10:09:02.444628Z",
          "shell.execute_reply": "2025-10-31T10:09:02.443994Z"
        },
        "id": "54c7e2d1",
        "outputId": "ef8efa47-70a0-4f53-a35c-02550da6014b",
        "papermill": {
          "duration": 0.195275,
          "end_time": "2025-10-31T10:09:02.445824",
          "exception": false,
          "start_time": "2025-10-31T10:09:02.250549",
          "status": "completed"
        },
        "tags": [],
        "colab": {
          "base_uri": "https://localhost:8080/",
          "height": 465
        }
      },
      "outputs": [
        {
          "output_type": "stream",
          "name": "stdout",
          "text": [
            "Label is: 3\n",
            "Image shape: torch.Size([3, 32, 32])\n"
          ]
        },
        {
          "output_type": "display_data",
          "data": {
            "text/plain": [
              "<Figure size 640x480 with 1 Axes>"
            ],
            "image/png": "[encoded data removed]"
          },
          "metadata": {}
        }
      ],
      "source": [
        "#Visualisation\n",
        "image, target = train_dataset[785]\n",
        "print(f\"Label is: {target}\")\n",
        "print(f\"Image shape: {image.shape}\")\n",
        "image = image.permute(1,2,0).numpy()\n",
        "plt.imshow(image, cmap=\"gray\")\n",
        "plt.show()"
      ]
    },
    {
      "cell_type": "code",
      "execution_count": 27,
      "id": "235d7f24",
      "metadata": {
        "execution": {
          "iopub.execute_input": "2025-10-31T10:09:02.457675Z",
          "iopub.status.busy": "2025-10-31T10:09:02.457194Z",
          "iopub.status.idle": "2025-10-31T10:09:17.280234Z",
          "shell.execute_reply": "2025-10-31T10:09:17.279580Z"
        },
        "id": "235d7f24",
        "papermill": {
          "duration": 14.830385,
          "end_time": "2025-10-31T10:09:17.281611",
          "exception": false,
          "start_time": "2025-10-31T10:09:02.451226",
          "status": "completed"
        },
        "tags": []
      },
      "outputs": [],
      "source": [
        "def compute_mean_std_dataset(dataset):\n",
        "  imgs = [item[0] for item in train_dataset] # item[0] and item[1] are image and its label\n",
        "  imgs = torch.stack(imgs, dim=0).numpy()\n",
        "\n",
        "# calculate mean over each channel (r,g,b)\n",
        "  mean_r = imgs[:,0,:,:].mean()\n",
        "  mean_g = imgs[:,1,:,:].mean()\n",
        "  mean_b = imgs[:,2,:,:].mean()\n",
        "  means = (mean_r,mean_g,mean_b)\n",
        "\n",
        "# calculate std over each channel (r,g,b)\n",
        "  std_r = imgs[:,0,:,:].std()\n",
        "  std_g = imgs[:,1,:,:].std()\n",
        "  std_b = imgs[:,2,:,:].std()\n",
        "  stds = (std_r,std_g,std_b)\n",
        "  return means, stds\n",
        "\n",
        "means_train, stds_train = compute_mean_std_dataset(train_dataset)\n",
        "means_val, stds_val = compute_mean_std_dataset(val_dataset)"
      ]
    },
    {
      "cell_type": "code",
      "execution_count": 28,
      "id": "5bd9b8a1",
      "metadata": {
        "execution": {
          "iopub.execute_input": "2025-10-31T10:09:17.294094Z",
          "iopub.status.busy": "2025-10-31T10:09:17.293438Z",
          "iopub.status.idle": "2025-10-31T10:09:18.738013Z",
          "shell.execute_reply": "2025-10-31T10:09:18.737377Z"
        },
        "id": "5bd9b8a1",
        "papermill": {
          "duration": 1.451802,
          "end_time": "2025-10-31T10:09:18.739322",
          "exception": false,
          "start_time": "2025-10-31T10:09:17.287520",
          "status": "completed"
        },
        "tags": []
      },
      "outputs": [],
      "source": [
        "transform = transforms.Compose([transforms.ToTensor(), transforms.Normalize(means_train, stds_train), transforms.RandomRotation(degrees=(-40, 40)), transforms.RandomHorizontalFlip()])\n",
        "train_dataset = datasets.CIFAR10(root=\"./data\", train=True, download=True, transform=transform)\n",
        "transform = transforms.Compose([transforms.ToTensor(), transforms.Normalize(means_val, stds_val)])\n",
        "val_test_dataset = datasets.CIFAR10(root=\"./data\", train=False, download=True, transform=transform)\n",
        "val_dataset, _ = torch.utils.data.random_split(val_test_dataset, [0.5, 0.5], generator=generator)"
      ]
    },
    {
      "cell_type": "code",
      "execution_count": 29,
      "id": "ab25ca89",
      "metadata": {
        "execution": {
          "iopub.execute_input": "2025-10-31T10:09:18.751836Z",
          "iopub.status.busy": "2025-10-31T10:09:18.751191Z",
          "iopub.status.idle": "2025-10-31T10:09:18.755630Z",
          "shell.execute_reply": "2025-10-31T10:09:18.754906Z"
        },
        "id": "ab25ca89",
        "papermill": {
          "duration": 0.011722,
          "end_time": "2025-10-31T10:09:18.756807",
          "exception": false,
          "start_time": "2025-10-31T10:09:18.745085",
          "status": "completed"
        },
        "tags": []
      },
      "outputs": [],
      "source": [
        "#Creating dataloader\n",
        "batch_size = 128\n",
        "train_loader = torch.utils.data.DataLoader(train_dataset, batch_size=batch_size, shuffle=True, generator=generator)\n",
        "val_loader = torch.utils.data.DataLoader(val_dataset, batch_size=batch_size, shuffle=False, generator=generator)"
      ]
    },
    {
      "cell_type": "markdown",
      "id": "b071868c",
      "metadata": {
        "id": "b071868c",
        "papermill": {
          "duration": 0.005135,
          "end_time": "2025-10-31T10:09:18.767202",
          "exception": false,
          "start_time": "2025-10-31T10:09:18.762067",
          "status": "completed"
        },
        "tags": []
      },
      "source": [
        "# **II. Model implementation**"
      ]
    },
    {
      "cell_type": "code",
      "execution_count": 30,
      "id": "dd4a2098",
      "metadata": {
        "execution": {
          "iopub.execute_input": "2025-10-31T10:09:18.778178Z",
          "iopub.status.busy": "2025-10-31T10:09:18.777989Z",
          "iopub.status.idle": "2025-10-31T10:09:18.782890Z",
          "shell.execute_reply": "2025-10-31T10:09:18.782160Z"
        },
        "id": "dd4a2098",
        "papermill": {
          "duration": 0.011851,
          "end_time": "2025-10-31T10:09:18.784058",
          "exception": false,
          "start_time": "2025-10-31T10:09:18.772207",
          "status": "completed"
        },
        "tags": []
      },
      "outputs": [],
      "source": [
        "class Conv_layer(torch.nn.Module):\n",
        "  def __init__(self, in_channels, out_channels, kernel_size=3, stride=None, padding=None):\n",
        "    super().__init__()\n",
        "    self.stride = 1 if stride is None else stride\n",
        "    self.padding = 0 if padding is None else padding\n",
        "    self.conv_layer = torch.nn.Sequential(torch.nn.Conv2d(in_channels, out_channels, kernel_size, self.stride, self.padding),\n",
        "                                          torch.nn.MaxPool2d(kernel_size=2),\n",
        "                                          torch.nn.LeakyReLU())\n",
        "\n",
        "\n",
        "  def forward(self, x):\n",
        "    return self.conv_layer(x)"
      ]
    },
    {
      "cell_type": "code",
      "execution_count": 31,
      "id": "c619ae85",
      "metadata": {
        "execution": {
          "iopub.execute_input": "2025-10-31T10:09:18.795399Z",
          "iopub.status.busy": "2025-10-31T10:09:18.794964Z",
          "iopub.status.idle": "2025-10-31T10:09:18.891972Z",
          "shell.execute_reply": "2025-10-31T10:09:18.891148Z"
        },
        "id": "c619ae85",
        "outputId": "e8840f6f-0a56-4f60-f9df-84b76bbdb8e5",
        "papermill": {
          "duration": 0.103942,
          "end_time": "2025-10-31T10:09:18.893182",
          "exception": false,
          "start_time": "2025-10-31T10:09:18.789240",
          "status": "completed"
        },
        "tags": [],
        "colab": {
          "base_uri": "https://localhost:8080/"
        }
      },
      "outputs": [
        {
          "output_type": "stream",
          "name": "stdout",
          "text": [
            "torch.Size([1, 16, 14, 14])\n"
          ]
        }
      ],
      "source": [
        "x, _ = train_dataset[785]\n",
        "x = x.unsqueeze(0)\n",
        "conv_layer = Conv_layer(3, 16, 5)\n",
        "feature_map = conv_layer(x)\n",
        "print(feature_map.shape)"
      ]
    },
    {
      "cell_type": "code",
      "execution_count": 32,
      "id": "3505c5b6",
      "metadata": {
        "execution": {
          "iopub.execute_input": "2025-10-31T10:09:18.907338Z",
          "iopub.status.busy": "2025-10-31T10:09:18.906694Z",
          "iopub.status.idle": "2025-10-31T10:09:18.912532Z",
          "shell.execute_reply": "2025-10-31T10:09:18.912032Z"
        },
        "id": "3505c5b6",
        "papermill": {
          "duration": 0.013482,
          "end_time": "2025-10-31T10:09:18.913606",
          "exception": false,
          "start_time": "2025-10-31T10:09:18.900124",
          "status": "completed"
        },
        "tags": []
      },
      "outputs": [],
      "source": [
        "class My_CNN(torch.nn.Module):\n",
        "\n",
        "  def __init__(self, in_channels, out_channels, conv_kernels, fc_dims):\n",
        "    super().__init__()\n",
        "    self.in_channels = in_channels\n",
        "    self.conv_kernels = conv_kernels\n",
        "    self.fc_dims = fc_dims\n",
        "    self.conv_layers = torch.nn.ModuleList([Conv_layer(cin, cout, kernel) for cin, cout, kernel in zip(in_channels, out_channels, conv_kernels)])\n",
        "    self.fc_layers = torch.nn.ModuleList([torch.nn.Linear(dim_in, dim_out) for dim_in, dim_out in zip(fc_dims[:-1], fc_dims[1:])])\n",
        "    self.activation = torch.nn.LeakyReLU(1e-2)\n",
        "\n",
        "  def forward(self, x):\n",
        "    for conv_layer in self.conv_layers:\n",
        "      x = conv_layer(x)\n",
        "    #print(f\"x shape is {x.shape}\")\n",
        "    x = x.view(x.size(0), -1)\n",
        "    for fc_layer in self.fc_layers[:-1]:\n",
        "      x = fc_layer(x)\n",
        "      x = torch.nn.Dropout(0.2)(x)\n",
        "      x = self.activation(x)\n",
        "    return self.fc_layers[-1](x)\n"
      ]
    },
    {
      "cell_type": "markdown",
      "id": "b0e539af",
      "metadata": {
        "id": "b0e539af",
        "papermill": {
          "duration": 0.005164,
          "end_time": "2025-10-31T10:09:18.923985",
          "exception": false,
          "start_time": "2025-10-31T10:09:18.918821",
          "status": "completed"
        },
        "tags": []
      },
      "source": [
        "# **III. Training and test**"
      ]
    },
    {
      "cell_type": "code",
      "execution_count": 33,
      "id": "cb03bbc6",
      "metadata": {
        "execution": {
          "iopub.execute_input": "2025-10-31T10:09:18.934865Z",
          "iopub.status.busy": "2025-10-31T10:09:18.934511Z",
          "iopub.status.idle": "2025-10-31T10:09:18.939317Z",
          "shell.execute_reply": "2025-10-31T10:09:18.938605Z"
        },
        "papermill": {
          "duration": 0.011314,
          "end_time": "2025-10-31T10:09:18.940348",
          "exception": false,
          "start_time": "2025-10-31T10:09:18.929034",
          "status": "completed"
        },
        "tags": [],
        "id": "cb03bbc6",
        "outputId": "2cd6b841-8585-4a91-c92c-fd5284d814f5",
        "colab": {
          "base_uri": "https://localhost:8080/"
        }
      },
      "outputs": [
        {
          "output_type": "stream",
          "name": "stdout",
          "text": [
            "2 2\n"
          ]
        }
      ],
      "source": [
        "def compute_Hf_Wf(conv_kernels, Hi, Wi):\n",
        "    '''Computes the height and width of the output of the final convolutional layer. This function assumes a maxpool2D of kernel 2x2, as well as default stride(1), padding(0) and dilation(0) for both pooling and convolution.\n",
        "    Parameters:\n",
        "        * conv_kernels: a list or tuple of the kernels of the successive convolutional layers\n",
        "        * Hi: Initial height\n",
        "        * Wi: Initial width\n",
        "\n",
        "    Outputs:\n",
        "        * Hf: final height\n",
        "        * Wf: final width\n",
        "    '''\n",
        "\n",
        "    Hf, Wf = Hi, Wi\n",
        "    for k in conv_kernels:\n",
        "      Hf = (Hf - (k - 1)) // 2\n",
        "      Wf = (Wf - (k - 1)) // 2\n",
        "    return Hf, Wf\n",
        "\n",
        "\n",
        "conv_kernels, Hi, Wi = (5,3,3), 32, 32\n",
        "Hf, Wf = compute_Hf_Wf(conv_kernels, Hi, Wi)\n",
        "print(Hf, Wf)"
      ]
    },
    {
      "cell_type": "code",
      "execution_count": 34,
      "id": "f7192dab",
      "metadata": {
        "execution": {
          "iopub.execute_input": "2025-10-31T10:09:18.951486Z",
          "iopub.status.busy": "2025-10-31T10:09:18.951292Z",
          "iopub.status.idle": "2025-10-31T10:09:19.227819Z",
          "shell.execute_reply": "2025-10-31T10:09:19.227101Z"
        },
        "id": "f7192dab",
        "outputId": "bf394bbb-94a8-4869-ada0-e35569bd273e",
        "papermill": {
          "duration": 0.283554,
          "end_time": "2025-10-31T10:09:19.229021",
          "exception": false,
          "start_time": "2025-10-31T10:09:18.945467",
          "status": "completed"
        },
        "tags": [],
        "colab": {
          "base_uri": "https://localhost:8080/"
        }
      },
      "outputs": [
        {
          "output_type": "execute_result",
          "data": {
            "text/plain": [
              "My_CNN(\n",
              "  (conv_layers): ModuleList(\n",
              "    (0): Conv_layer(\n",
              "      (conv_layer): Sequential(\n",
              "        (0): Conv2d(3, 64, kernel_size=(5, 5), stride=(1, 1))\n",
              "        (1): MaxPool2d(kernel_size=2, stride=2, padding=0, dilation=1, ceil_mode=False)\n",
              "        (2): LeakyReLU(negative_slope=0.01)\n",
              "      )\n",
              "    )\n",
              "    (1): Conv_layer(\n",
              "      (conv_layer): Sequential(\n",
              "        (0): Conv2d(64, 128, kernel_size=(3, 3), stride=(1, 1))\n",
              "        (1): MaxPool2d(kernel_size=2, stride=2, padding=0, dilation=1, ceil_mode=False)\n",
              "        (2): LeakyReLU(negative_slope=0.01)\n",
              "      )\n",
              "    )\n",
              "    (2): Conv_layer(\n",
              "      (conv_layer): Sequential(\n",
              "        (0): Conv2d(128, 256, kernel_size=(3, 3), stride=(1, 1))\n",
              "        (1): MaxPool2d(kernel_size=2, stride=2, padding=0, dilation=1, ceil_mode=False)\n",
              "        (2): LeakyReLU(negative_slope=0.01)\n",
              "      )\n",
              "    )\n",
              "  )\n",
              "  (fc_layers): ModuleList(\n",
              "    (0): Linear(in_features=1024, out_features=256, bias=True)\n",
              "    (1): Linear(in_features=256, out_features=128, bias=True)\n",
              "    (2): Linear(in_features=128, out_features=10, bias=True)\n",
              "  )\n",
              "  (activation): LeakyReLU(negative_slope=0.01)\n",
              ")"
            ]
          },
          "metadata": {},
          "execution_count": 34
        }
      ],
      "source": [
        "image = train_dataset[785][0]\n",
        "C, H, W = image.shape\n",
        "nb_classes = 10\n",
        "in_channels = (C, 64, 128)\n",
        "out_channels = (64, 128, 256)\n",
        "conv_kernels = (5, 3, 3)\n",
        "Hf, Wf = compute_Hf_Wf(conv_kernels, H, W)\n",
        "fc_dims = (out_channels[-1]*Hf*Wf, 256, 128, nb_classes)\n",
        "model = My_CNN(in_channels, out_channels, conv_kernels, fc_dims)\n",
        "device = torch.device(\"cuda\" if torch.cuda.is_available() else \"cpu\")\n",
        "model.to(device)"
      ]
    },
    {
      "cell_type": "code",
      "execution_count": 35,
      "id": "a5c6a100",
      "metadata": {
        "execution": {
          "iopub.execute_input": "2025-10-31T10:09:19.241333Z",
          "iopub.status.busy": "2025-10-31T10:09:19.240736Z",
          "iopub.status.idle": "2025-10-31T10:09:19.244925Z",
          "shell.execute_reply": "2025-10-31T10:09:19.244262Z"
        },
        "id": "a5c6a100",
        "outputId": "120ca6ea-2896-4694-db37-868e616b2cc8",
        "papermill": {
          "duration": 0.01109,
          "end_time": "2025-10-31T10:09:19.245890",
          "exception": false,
          "start_time": "2025-10-31T10:09:19.234800",
          "status": "completed"
        },
        "tags": [],
        "colab": {
          "base_uri": "https://localhost:8080/"
        }
      },
      "outputs": [
        {
          "output_type": "stream",
          "name": "stdout",
          "text": [
            "Number of parameters: 670474\n",
            "Device is cpu\n"
          ]
        }
      ],
      "source": [
        "num_params = sum(p.numel() for p in model.parameters() if p.requires_grad)\n",
        "print(f\"Number of parameters: {num_params}\")\n",
        "print(f\"Device is {device}\")"
      ]
    },
    {
      "cell_type": "code",
      "execution_count": 36,
      "id": "78efa2f3",
      "metadata": {
        "execution": {
          "iopub.execute_input": "2025-10-31T10:09:19.257181Z",
          "iopub.status.busy": "2025-10-31T10:09:19.257009Z",
          "iopub.status.idle": "2025-10-31T10:09:19.260257Z",
          "shell.execute_reply": "2025-10-31T10:09:19.259597Z"
        },
        "id": "78efa2f3",
        "papermill": {
          "duration": 0.010202,
          "end_time": "2025-10-31T10:09:19.261358",
          "exception": false,
          "start_time": "2025-10-31T10:09:19.251156",
          "status": "completed"
        },
        "tags": []
      },
      "outputs": [],
      "source": [
        "if device==\"cuda\": model = torch.compile(model)"
      ]
    },
    {
      "cell_type": "code",
      "execution_count": 37,
      "id": "88c26da9",
      "metadata": {
        "execution": {
          "iopub.execute_input": "2025-10-31T10:09:19.272633Z",
          "iopub.status.busy": "2025-10-31T10:09:19.272460Z",
          "iopub.status.idle": "2025-10-31T10:09:19.275667Z",
          "shell.execute_reply": "2025-10-31T10:09:19.274996Z"
        },
        "papermill": {
          "duration": 0.010068,
          "end_time": "2025-10-31T10:09:19.276701",
          "exception": false,
          "start_time": "2025-10-31T10:09:19.266633",
          "status": "completed"
        },
        "tags": [],
        "id": "88c26da9"
      },
      "outputs": [],
      "source": [
        "optimizer = None #Just so that I can resume training"
      ]
    },
    {
      "cell_type": "code",
      "execution_count": 38,
      "id": "9ba630fa",
      "metadata": {
        "execution": {
          "iopub.execute_input": "2025-10-31T10:09:19.288244Z",
          "iopub.status.busy": "2025-10-31T10:09:19.287681Z",
          "iopub.status.idle": "2025-10-31T11:20:06.285440Z",
          "shell.execute_reply": "2025-10-31T11:20:06.284652Z"
        },
        "id": "9ba630fa",
        "outputId": "0f1a229b-1470-4ac5-c1bb-2358731030e8",
        "papermill": {
          "duration": 4247.004668,
          "end_time": "2025-10-31T11:20:06.286647",
          "exception": false,
          "start_time": "2025-10-31T10:09:19.281979",
          "status": "completed"
        },
        "tags": [],
        "colab": {
          "base_uri": "https://localhost:8080/",
          "height": 391
        }
      },
      "outputs": [
        {
          "output_type": "stream",
          "name": "stdout",
          "text": [
            "Epoch: 0\n"
          ]
        },
        {
          "output_type": "stream",
          "name": "stderr",
          "text": [
            "172it [01:42,  1.68it/s]\n"
          ]
        },
        {
          "output_type": "error",
          "ename": "KeyboardInterrupt",
          "evalue": "",
          "traceback": [
            "\u001b[0;31m---------------------------------------------------------------------------\u001b[0m",
            "\u001b[0;31mKeyboardInterrupt\u001b[0m                         Traceback (most recent call last)",
            "\u001b[0;32m/tmp/ipython-input-2351324594.py\u001b[0m in \u001b[0;36m<cell line: 0>\u001b[0;34m()\u001b[0m\n\u001b[1;32m     25\u001b[0m     \u001b[0;31m#print(target.shape, target.dtype)\u001b[0m\u001b[0;34m\u001b[0m\u001b[0;34m\u001b[0m\u001b[0m\n\u001b[1;32m     26\u001b[0m     \u001b[0mloss\u001b[0m \u001b[0;34m=\u001b[0m \u001b[0mcriterion\u001b[0m\u001b[0;34m(\u001b[0m\u001b[0mpreds\u001b[0m\u001b[0;34m,\u001b[0m \u001b[0mtarget\u001b[0m\u001b[0;34m)\u001b[0m\u001b[0;34m\u001b[0m\u001b[0;34m\u001b[0m\u001b[0m\n\u001b[0;32m---> 27\u001b[0;31m     \u001b[0mloss\u001b[0m\u001b[0;34m.\u001b[0m\u001b[0mbackward\u001b[0m\u001b[0;34m(\u001b[0m\u001b[0;34m)\u001b[0m\u001b[0;34m\u001b[0m\u001b[0;34m\u001b[0m\u001b[0m\n\u001b[0m\u001b[1;32m     28\u001b[0m     \u001b[0mloss_train\u001b[0m \u001b[0;34m+=\u001b[0m \u001b[0mloss\u001b[0m\u001b[0;34m.\u001b[0m\u001b[0mitem\u001b[0m\u001b[0;34m(\u001b[0m\u001b[0;34m)\u001b[0m\u001b[0;34m\u001b[0m\u001b[0;34m\u001b[0m\u001b[0m\n\u001b[1;32m     29\u001b[0m     \u001b[0moptimizer\u001b[0m\u001b[0;34m.\u001b[0m\u001b[0mstep\u001b[0m\u001b[0;34m(\u001b[0m\u001b[0;34m)\u001b[0m\u001b[0;34m\u001b[0m\u001b[0;34m\u001b[0m\u001b[0m\n",
            "\u001b[0;32m/usr/local/lib/python3.12/dist-packages/torch/_tensor.py\u001b[0m in \u001b[0;36mbackward\u001b[0;34m(self, gradient, retain_graph, create_graph, inputs)\u001b[0m\n\u001b[1;32m    645\u001b[0m                 \u001b[0minputs\u001b[0m\u001b[0;34m=\u001b[0m\u001b[0minputs\u001b[0m\u001b[0;34m,\u001b[0m\u001b[0;34m\u001b[0m\u001b[0;34m\u001b[0m\u001b[0m\n\u001b[1;32m    646\u001b[0m             )\n\u001b[0;32m--> 647\u001b[0;31m         torch.autograd.backward(\n\u001b[0m\u001b[1;32m    648\u001b[0m             \u001b[0mself\u001b[0m\u001b[0;34m,\u001b[0m \u001b[0mgradient\u001b[0m\u001b[0;34m,\u001b[0m \u001b[0mretain_graph\u001b[0m\u001b[0;34m,\u001b[0m \u001b[0mcreate_graph\u001b[0m\u001b[0;34m,\u001b[0m \u001b[0minputs\u001b[0m\u001b[0;34m=\u001b[0m\u001b[0minputs\u001b[0m\u001b[0;34m\u001b[0m\u001b[0;34m\u001b[0m\u001b[0m\n\u001b[1;32m    649\u001b[0m         )\n",
            "\u001b[0;32m/usr/local/lib/python3.12/dist-packages/torch/autograd/__init__.py\u001b[0m in \u001b[0;36mbackward\u001b[0;34m(tensors, grad_tensors, retain_graph, create_graph, grad_variables, inputs)\u001b[0m\n\u001b[1;32m    352\u001b[0m     \u001b[0;31m# some Python versions print out the first line of a multi-line function\u001b[0m\u001b[0;34m\u001b[0m\u001b[0;34m\u001b[0m\u001b[0m\n\u001b[1;32m    353\u001b[0m     \u001b[0;31m# calls in the traceback and some print out the last line\u001b[0m\u001b[0;34m\u001b[0m\u001b[0;34m\u001b[0m\u001b[0m\n\u001b[0;32m--> 354\u001b[0;31m     _engine_run_backward(\n\u001b[0m\u001b[1;32m    355\u001b[0m         \u001b[0mtensors\u001b[0m\u001b[0;34m,\u001b[0m\u001b[0;34m\u001b[0m\u001b[0;34m\u001b[0m\u001b[0m\n\u001b[1;32m    356\u001b[0m         \u001b[0mgrad_tensors_\u001b[0m\u001b[0;34m,\u001b[0m\u001b[0;34m\u001b[0m\u001b[0;34m\u001b[0m\u001b[0m\n",
            "\u001b[0;32m/usr/local/lib/python3.12/dist-packages/torch/autograd/graph.py\u001b[0m in \u001b[0;36m_engine_run_backward\u001b[0;34m(t_outputs, *args, **kwargs)\u001b[0m\n\u001b[1;32m    827\u001b[0m         \u001b[0munregister_hooks\u001b[0m \u001b[0;34m=\u001b[0m \u001b[0m_register_logging_hooks_on_whole_graph\u001b[0m\u001b[0;34m(\u001b[0m\u001b[0mt_outputs\u001b[0m\u001b[0;34m)\u001b[0m\u001b[0;34m\u001b[0m\u001b[0;34m\u001b[0m\u001b[0m\n\u001b[1;32m    828\u001b[0m     \u001b[0;32mtry\u001b[0m\u001b[0;34m:\u001b[0m\u001b[0;34m\u001b[0m\u001b[0;34m\u001b[0m\u001b[0m\n\u001b[0;32m--> 829\u001b[0;31m         return Variable._execution_engine.run_backward(  # Calls into the C++ engine to run the backward pass\n\u001b[0m\u001b[1;32m    830\u001b[0m             \u001b[0mt_outputs\u001b[0m\u001b[0;34m,\u001b[0m \u001b[0;34m*\u001b[0m\u001b[0margs\u001b[0m\u001b[0;34m,\u001b[0m \u001b[0;34m**\u001b[0m\u001b[0mkwargs\u001b[0m\u001b[0;34m\u001b[0m\u001b[0;34m\u001b[0m\u001b[0m\n\u001b[1;32m    831\u001b[0m         )  # Calls into the C++ engine to run the backward pass\n",
            "\u001b[0;31mKeyboardInterrupt\u001b[0m: "
          ]
        }
      ],
      "source": [
        "#Training and validation\n",
        "nb_epochs = 150\n",
        "if optimizer is None: optimizer = torch.optim.AdamW(model.parameters(), lr=0.0001, weight_decay=0.01)\n",
        "else: print(optimizer)\n",
        "criterion = torch.nn.CrossEntropyLoss()\n",
        "losses_train, losses_val = [], []\n",
        "best_loss = 1e5\n",
        "lr_decay = 0.99\n",
        "scheduler = torch.optim.lr_scheduler.ExponentialLR(optimizer, lr_decay)\n",
        "torch.set_float32_matmul_precision('high')\n",
        "\n",
        "model.train()\n",
        "\n",
        "for epoch in range(nb_epochs):\n",
        "  start = time()\n",
        "  print(f\"Epoch: {epoch}\")\n",
        "  #print(\"Now training...\")\n",
        "  loss_train, loss_val = 0, 0\n",
        "  for idx, (batch, target) in tqdm(enumerate(train_loader)):\n",
        "    batch, target = batch.to(device), target.to(device)\n",
        "    optimizer.zero_grad()\n",
        "    #with torch.autocast(device_type=\"cuda\", dtype=torch.bfloat16):\n",
        "    preds = model(batch)\n",
        "    #print(preds.shape, preds.dtype)\n",
        "    #print(target.shape, target.dtype)\n",
        "    loss = criterion(preds, target)\n",
        "    loss.backward()\n",
        "    loss_train += loss.item()\n",
        "    optimizer.step()\n",
        "  loss_train /= len(train_loader)\n",
        "  losses_train.append(loss_train)\n",
        "  scheduler.step()\n",
        "\n",
        "\n",
        "  #print(\"Now validation...\")\n",
        "  with torch.no_grad():\n",
        "    for idx, (batch, target) in tqdm(enumerate(val_loader)):\n",
        "      batch, target = batch.to(device), target.to(device)\n",
        "      preds = model(batch)\n",
        "      #print(preds.shape, preds.dtype)\n",
        "      #print(target.shape, target.dtype)\n",
        "      loss = criterion(preds, target)\n",
        "      loss_val += loss.item()\n",
        "    loss_val /= len(val_loader)\n",
        "    if loss_val < best_loss:\n",
        "      best_loss = loss_val\n",
        "      best_model, best_epoch = model, epoch\n",
        "    losses_val.append(loss_val)\n",
        "\n",
        "  print(f\"Loss_train: {loss_train:.4f} and loss_val: {loss_val:.4f}\")\n",
        "end = time()\n"
      ]
    },
    {
      "cell_type": "code",
      "execution_count": null,
      "id": "caf77ee9",
      "metadata": {
        "execution": {
          "iopub.execute_input": "2025-10-31T11:20:09.590458Z",
          "iopub.status.busy": "2025-10-31T11:20:09.589727Z",
          "iopub.status.idle": "2025-10-31T11:20:09.721680Z",
          "shell.execute_reply": "2025-10-31T11:20:09.720991Z"
        },
        "id": "caf77ee9",
        "papermill": {
          "duration": 1.685863,
          "end_time": "2025-10-31T11:20:09.722786",
          "exception": false,
          "start_time": "2025-10-31T11:20:08.036923",
          "status": "completed"
        },
        "tags": []
      },
      "outputs": [],
      "source": [
        "time_elapsed = end- start\n",
        "print(f\"Time elapsed: {time_elapsed}\")\n",
        "print(f\"Seconds per epoch: {time_elapsed / nb_epochs}\")\n",
        "print(f\"Best epoch: {best_epoch}\")\n",
        "print(f\"Best loss: {best_loss:.4f}\")\n",
        "\n",
        "epochs = range(nb_epochs)\n",
        "\n",
        "plt.plot(epochs, losses_train, label=\"Training loss\")\n",
        "plt.plot(epochs, losses_val, label=\"Validation loss\")\n",
        "plt.legend()\n",
        "plt.show()"
      ]
    },
    {
      "cell_type": "code",
      "execution_count": null,
      "id": "35d9ddb2",
      "metadata": {
        "execution": {
          "iopub.execute_input": "2025-10-31T11:20:13.028217Z",
          "iopub.status.busy": "2025-10-31T11:20:13.027915Z",
          "iopub.status.idle": "2025-10-31T11:20:14.218524Z",
          "shell.execute_reply": "2025-10-31T11:20:14.217780Z"
        },
        "id": "35d9ddb2",
        "papermill": {
          "duration": 2.834949,
          "end_time": "2025-10-31T11:20:14.219603",
          "exception": false,
          "start_time": "2025-10-31T11:20:11.384654",
          "status": "completed"
        },
        "tags": []
      },
      "outputs": [],
      "source": [
        "#Test on val data\n",
        "best_model.eval()\n",
        "print(\"Now testing...\")\n",
        "loss_test = 0\n",
        "test_batch = next(iter(val_loader))\n",
        "all_preds = []\n",
        "all_targets = []\n",
        "with torch.no_grad():\n",
        "  for idx, (batch, target) in tqdm(enumerate(val_loader)):\n",
        "      batch, target = batch.to(device), target.to(device)\n",
        "      preds = best_model(batch)\n",
        "      loss = criterion(preds, target)\n",
        "      loss_test += loss.item()\n",
        "      all_preds.append(torch.argmax(preds, dim=-1).cpu().numpy())\n",
        "      all_targets.append(target.cpu().numpy())\n",
        "  all_preds = np.concatenate(all_preds)\n",
        "  all_targets = np.concatenate(all_targets)\n",
        "  loss_test /= len(val_loader)\n",
        "\n",
        "  print(f\"Loss_test: {loss_test:.4f}\")"
      ]
    },
    {
      "cell_type": "code",
      "execution_count": null,
      "id": "79d50677",
      "metadata": {
        "execution": {
          "iopub.execute_input": "2025-10-31T11:20:17.527540Z",
          "iopub.status.busy": "2025-10-31T11:20:17.527266Z",
          "iopub.status.idle": "2025-10-31T11:20:17.935594Z",
          "shell.execute_reply": "2025-10-31T11:20:17.934902Z"
        },
        "id": "79d50677",
        "papermill": {
          "duration": 2.052616,
          "end_time": "2025-10-31T11:20:17.936821",
          "exception": false,
          "start_time": "2025-10-31T11:20:15.884205",
          "status": "completed"
        },
        "tags": []
      },
      "outputs": [],
      "source": [
        "labels = [\"airplane (0)\", \"automobile (1)\", \"bird (2)\", \"cat (3)\", \"deer (4)\", \"dog (5)\", \"frog (6)\", \"horse (7)\", \"ship (8)\", \"truck (9)\"]\n",
        "#\n",
        "cm = confusion_matrix(all_targets, all_preds, labels=range(10))\n",
        "cm_df = pd.DataFrame(cm, index=labels, columns=labels)\n",
        "sns.heatmap(cm_df, annot=True, fmt=\"d\")"
      ]
    },
    {
      "cell_type": "code",
      "execution_count": null,
      "id": "78797936",
      "metadata": {
        "execution": {
          "iopub.execute_input": "2025-10-31T11:20:21.252472Z",
          "iopub.status.busy": "2025-10-31T11:20:21.252202Z",
          "iopub.status.idle": "2025-10-31T11:20:21.257402Z",
          "shell.execute_reply": "2025-10-31T11:20:21.256805Z"
        },
        "id": "78797936",
        "papermill": {
          "duration": 1.664699,
          "end_time": "2025-10-31T11:20:21.258509",
          "exception": false,
          "start_time": "2025-10-31T11:20:19.593810",
          "status": "completed"
        },
        "tags": []
      },
      "outputs": [],
      "source": [
        "print(f\"Accuracy score is: {accuracy_score(all_targets, all_preds)}\")"
      ]
    },
    {
      "cell_type": "code",
      "execution_count": null,
      "id": "9072e584",
      "metadata": {
        "execution": {
          "iopub.execute_input": "2025-10-31T11:20:24.592878Z",
          "iopub.status.busy": "2025-10-31T11:20:24.592560Z",
          "iopub.status.idle": "2025-10-31T11:20:24.608567Z",
          "shell.execute_reply": "2025-10-31T11:20:24.607789Z"
        },
        "id": "9072e584",
        "papermill": {
          "duration": 1.680177,
          "end_time": "2025-10-31T11:20:24.609816",
          "exception": false,
          "start_time": "2025-10-31T11:20:22.929639",
          "status": "completed"
        },
        "tags": []
      },
      "outputs": [],
      "source": [
        "def accuracy_multi_class(y_true, y_pred, cm):\n",
        "  '''\n",
        "  y_true: true labels\n",
        "  y_pred: predicted labels\n",
        "  cm: confusion matrix\n",
        "\n",
        "  return list of accuracies for each classes\n",
        "  '''\n",
        "  accuracies = np.zeros((cm.shape[0],))\n",
        "  for i in range(cm.shape[0]):\n",
        "    accuracies[i] = cm[i,i] / np.sum(cm[i,:])\n",
        "  return accuracies\n",
        "\n",
        "accuracies = accuracy_multi_class(all_targets, all_preds, cm)\n",
        "accuracies_df = pd.DataFrame(accuracies, index=labels, columns=[\"Accuracy\"])\n",
        "accuracies_df = accuracies_df.sort_values(by=\"Accuracy\", ascending=False)\n",
        "print(accuracies_df)\n",
        "print(\"Mean of accuracies: \", accuracies_df[\"Accuracy\"].mean())"
      ]
    },
    {
      "cell_type": "code",
      "execution_count": null,
      "id": "de155895",
      "metadata": {
        "execution": {
          "iopub.execute_input": "2025-10-31T11:20:27.930634Z",
          "iopub.status.busy": "2025-10-31T11:20:27.929905Z",
          "iopub.status.idle": "2025-10-31T11:20:27.949719Z",
          "shell.execute_reply": "2025-10-31T11:20:27.949194Z"
        },
        "papermill": {
          "duration": 1.663785,
          "end_time": "2025-10-31T11:20:27.950925",
          "exception": false,
          "start_time": "2025-10-31T11:20:26.287140",
          "status": "completed"
        },
        "tags": [],
        "id": "de155895"
      },
      "outputs": [],
      "source": [
        "checkpoint = {\n",
        "    \"model\": best_model.state_dict(),\n",
        "    \"optimizer\": optimizer.state_dict(),\n",
        "    \"best_loss\": best_loss,\n",
        "    \"epoch\": best_epoch\n",
        "}\n",
        "\n",
        "# Save to a file in the working directory\n",
        "torch.save(checkpoint, \"/kaggle/working/checkpoint_LeakyReLU_dropout.pth\")"
      ]
    }
  ],
  "metadata": {
    "accelerator": "GPU",
    "colab": {
      "gpuType": "T4",
      "provenance": [],
      "include_colab_link": true
    },
    "kaggle": {
      "accelerator": "nvidiaTeslaT4",
      "dataSources": [],
      "dockerImageVersionId": 31154,
      "isGpuEnabled": true,
      "isInternetEnabled": true,
      "language": "python",
      "sourceType": "notebook"
    },
    "kernelspec": {
      "display_name": "Python 3",
      "language": "python",
      "name": "python3"
    },
    "language_info": {
      "codemirror_mode": {
        "name": "ipython",
        "version": 3
      },
      "file_extension": ".py",
      "mimetype": "text/x-python",
      "name": "python",
      "nbconvert_exporter": "python",
      "pygments_lexer": "ipython3",
      "version": "3.11.13"
    },
    "papermill": {
      "default_parameters": {},
      "duration": 4312.125152,
      "end_time": "2025-10-31T11:20:32.163890",
      "environment_variables": {},
      "exception": null,
      "input_path": "__notebook__.ipynb",
      "output_path": "__notebook__.ipynb",
      "parameters": {},
      "start_time": "2025-10-31T10:08:40.038738",
      "version": "2.6.0"
    }
  },
  "nbformat": 4,
  "nbformat_minor": 5
}