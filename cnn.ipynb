{
 "cells": [
  {
   "cell_type": "markdown",
   "id": "038a70c5",
   "metadata": {
    "id": "view-in-github",
    "papermill": {
     "duration": 0.004523,
     "end_time": "2025-10-31T10:08:43.639910",
     "exception": false,
     "start_time": "2025-10-31T10:08:43.635387",
     "status": "completed"
    },
    "tags": []
   },
   "source": [
    "<a href=\"https://colab.research.google.com/github/smBello-tse/CIFAR10-classification/blob/main/cnn.ipynb\" target=\"_parent\"><img src=\"https://colab.research.google.com/assets/colab-badge.svg\" alt=\"Open In Colab\"/></a>"
   ]
  },
  {
   "cell_type": "code",
   "execution_count": 1,
   "id": "8ccd7af2",
   "metadata": {
    "execution": {
     "iopub.execute_input": "2025-10-31T10:08:43.648396Z",
     "iopub.status.busy": "2025-10-31T10:08:43.648171Z",
     "iopub.status.idle": "2025-10-31T10:08:55.422708Z",
     "shell.execute_reply": "2025-10-31T10:08:55.422156Z"
    },
    "id": "pUQa1U2Ap21Z",
    "papermill": {
     "duration": 11.780535,
     "end_time": "2025-10-31T10:08:55.424125",
     "exception": false,
     "start_time": "2025-10-31T10:08:43.643590",
     "status": "completed"
    },
    "tags": []
   },
   "outputs": [],
   "source": [
    "# This Python 3 environment comes with many helpful analytics libraries installed\n",
    "# It is defined by the kaggle/python Docker image: https://github.com/kaggle/docker-python\n",
    "# For example, here's several helpful packages to load\n",
    "\n",
    "import numpy as np # linear algebra\n",
    "import pandas as pd # data processing, CSV file I/O (e.g. pd.read_csv)\n",
    "\n",
    "# Input data files are available in the read-only \"../input/\" directory\n",
    "# For example, running this (by clicking run or pressing Shift+Enter) will list all files under the input directory\n",
    "\n",
    "import os\n",
    "import torch\n",
    "from torchvision import datasets, transforms\n",
    "\n",
    "import matplotlib.pyplot as plt\n",
    "from tqdm import tqdm\n",
    "from sklearn.metrics import confusion_matrix, accuracy_score\n",
    "import seaborn as sns\n",
    "from time import time\n",
    "root = '/kaggle/input'\n",
    "\n",
    "# You can write up to 20GB to the current directory (/kaggle/working/) that gets preserved as output when you create a version using \"Save & Run All\"\n",
    "# You can also write temporary files to /kaggle/temp/, but they won't be saved outside of the current session"
   ]
  },
  {
   "cell_type": "markdown",
   "id": "ff3c73b4",
   "metadata": {
    "id": "aS9mRQ-Zqvlj",
    "papermill": {
     "duration": 0.003326,
     "end_time": "2025-10-31T10:08:55.431295",
     "exception": false,
     "start_time": "2025-10-31T10:08:55.427969",
     "status": "completed"
    },
    "tags": []
   },
   "source": [
    "## **I. Data Pre-processing**\n",
    "\n"
   ]
  },
  {
   "cell_type": "code",
   "execution_count": 2,
   "id": "bdfaf65c",
   "metadata": {
    "execution": {
     "iopub.execute_input": "2025-10-31T10:08:55.438996Z",
     "iopub.status.busy": "2025-10-31T10:08:55.438700Z",
     "iopub.status.idle": "2025-10-31T10:09:02.243561Z",
     "shell.execute_reply": "2025-10-31T10:09:02.242729Z"
    },
    "id": "pwm8s6PDqe0k",
    "outputId": "cb7f7cfc-48bc-43db-ae7e-6470f9266b6c",
    "papermill": {
     "duration": 6.810225,
     "end_time": "2025-10-31T10:09:02.245023",
     "exception": false,
     "start_time": "2025-10-31T10:08:55.434798",
     "status": "completed"
    },
    "tags": []
   },
   "outputs": [
    {
     "name": "stderr",
     "output_type": "stream",
     "text": [
      "100%|██████████| 170M/170M [00:03<00:00, 50.1MB/s]\n"
     ]
    }
   ],
   "source": [
    "#Loading dataset\n",
    "generator = torch.Generator().manual_seed(42)\n",
    "transform = transforms.Compose([transforms.ToTensor()])\n",
    "train_dataset = datasets.CIFAR10(root=\"./data\", train=True, download=True, transform=transform)\n",
    "val_test_dataset = datasets.CIFAR10(root=\"./data\", train=False, download=True, transform=transform)\n",
    "val_dataset, _ = torch.utils.data.random_split(val_test_dataset, [0.5, 0.5], generator=generator)"
   ]
  },
  {
   "cell_type": "code",
   "execution_count": 3,
   "id": "54c7e2d1",
   "metadata": {
    "execution": {
     "iopub.execute_input": "2025-10-31T10:09:02.256459Z",
     "iopub.status.busy": "2025-10-31T10:09:02.256228Z",
     "iopub.status.idle": "2025-10-31T10:09:02.444628Z",
     "shell.execute_reply": "2025-10-31T10:09:02.443994Z"
    },
    "id": "1OQRAQrTqqTw",
    "outputId": "550cd327-ee0f-4fd8-c43d-5cce7e6f8dfb",
    "papermill": {
     "duration": 0.195275,
     "end_time": "2025-10-31T10:09:02.445824",
     "exception": false,
     "start_time": "2025-10-31T10:09:02.250549",
     "status": "completed"
    },
    "tags": []
   },
   "outputs": [
    {
     "name": "stdout",
     "output_type": "stream",
     "text": [
      "Label is: 3\n",
      "Image shape: torch.Size([3, 32, 32])\n"
     ]
    },
    {
     "data": {
      "image/png": "[encoded data removed]",
      "text/plain": [
       "<Figure size 640x480 with 1 Axes>"
      ]
     },
     "metadata": {},
     "output_type": "display_data"
    }
   ],
   "source": [
    "#Visualisation\n",
    "image, target = train_dataset[785]\n",
    "print(f\"Label is: {target}\")\n",
    "print(f\"Image shape: {image.shape}\")\n",
    "image = image.permute(1,2,0).numpy()\n",
    "plt.imshow(image, cmap=\"gray\")\n",
    "plt.show()"
   ]
  },
  {
   "cell_type": "code",
   "execution_count": 4,
   "id": "235d7f24",
   "metadata": {
    "execution": {
     "iopub.execute_input": "2025-10-31T10:09:02.457675Z",
     "iopub.status.busy": "2025-10-31T10:09:02.457194Z",
     "iopub.status.idle": "2025-10-31T10:09:17.280234Z",
     "shell.execute_reply": "2025-10-31T10:09:17.279580Z"
    },
    "id": "EtMKc-Sbt520",
    "papermill": {
     "duration": 14.830385,
     "end_time": "2025-10-31T10:09:17.281611",
     "exception": false,
     "start_time": "2025-10-31T10:09:02.451226",
     "status": "completed"
    },
    "tags": []
   },
   "outputs": [],
   "source": [
    "def compute_mean_std_dataset(dataset):\n",
    "  imgs = [item[0] for item in train_dataset] # item[0] and item[1] are image and its label\n",
    "  imgs = torch.stack(imgs, dim=0).numpy()\n",
    "\n",
    "# calculate mean over each channel (r,g,b)\n",
    "  mean_r = imgs[:,0,:,:].mean()\n",
    "  mean_g = imgs[:,1,:,:].mean()\n",
    "  mean_b = imgs[:,2,:,:].mean()\n",
    "  means = (mean_r,mean_g,mean_b)\n",
    "\n",
    "# calculate std over each channel (r,g,b)\n",
    "  std_r = imgs[:,0,:,:].std()\n",
    "  std_g = imgs[:,1,:,:].std()\n",
    "  std_b = imgs[:,2,:,:].std()\n",
    "  stds = (std_r,std_g,std_b)\n",
    "  return means, stds\n",
    "\n",
    "means_train, stds_train = compute_mean_std_dataset(train_dataset)\n",
    "means_val, stds_val = compute_mean_std_dataset(val_dataset)"
   ]
  },
  {
   "cell_type": "code",
   "execution_count": 5,
   "id": "5bd9b8a1",
   "metadata": {
    "execution": {
     "iopub.execute_input": "2025-10-31T10:09:17.294094Z",
     "iopub.status.busy": "2025-10-31T10:09:17.293438Z",
     "iopub.status.idle": "2025-10-31T10:09:18.738013Z",
     "shell.execute_reply": "2025-10-31T10:09:18.737377Z"
    },
    "id": "hQriIh7fvqUz",
    "papermill": {
     "duration": 1.451802,
     "end_time": "2025-10-31T10:09:18.739322",
     "exception": false,
     "start_time": "2025-10-31T10:09:17.287520",
     "status": "completed"
    },
    "tags": []
   },
   "outputs": [],
   "source": [
    "transform = transforms.Compose([transforms.ToTensor(), transforms.Normalize(means_train, stds_train), transforms.RandomRotation(degrees=(-40, 40)), transforms.RandomHorizontalFlip()])\n",
    "train_dataset = datasets.CIFAR10(root=\"./data\", train=True, download=True, transform=transform)\n",
    "transform = transforms.Compose([transforms.ToTensor(), transforms.Normalize(means_val, stds_val)])\n",
    "val_test_dataset = datasets.CIFAR10(root=\"./data\", train=False, download=True, transform=transform)\n",
    "val_dataset, _ = torch.utils.data.random_split(val_test_dataset, [0.5, 0.5], generator=generator)"
   ]
  },
  {
   "cell_type": "code",
   "execution_count": 6,
   "id": "ab25ca89",
   "metadata": {
    "execution": {
     "iopub.execute_input": "2025-10-31T10:09:18.751836Z",
     "iopub.status.busy": "2025-10-31T10:09:18.751191Z",
     "iopub.status.idle": "2025-10-31T10:09:18.755630Z",
     "shell.execute_reply": "2025-10-31T10:09:18.754906Z"
    },
    "id": "UrbKVsQXquIH",
    "papermill": {
     "duration": 0.011722,
     "end_time": "2025-10-31T10:09:18.756807",
     "exception": false,
     "start_time": "2025-10-31T10:09:18.745085",
     "status": "completed"
    },
    "tags": []
   },
   "outputs": [],
   "source": [
    "#Creating dataloader\n",
    "batch_size = 128\n",
    "train_loader = torch.utils.data.DataLoader(train_dataset, batch_size=batch_size, shuffle=True, generator=generator)\n",
    "val_loader = torch.utils.data.DataLoader(val_dataset, batch_size=batch_size, shuffle=False, generator=generator)"
   ]
  },
  {
   "cell_type": "markdown",
   "id": "b071868c",
   "metadata": {
    "id": "lQ56x7Brq-MY",
    "papermill": {
     "duration": 0.005135,
     "end_time": "2025-10-31T10:09:18.767202",
     "exception": false,
     "start_time": "2025-10-31T10:09:18.762067",
     "status": "completed"
    },
    "tags": []
   },
   "source": [
    "# **II. Model implementation**"
   ]
  },
  {
   "cell_type": "code",
   "execution_count": 7,
   "id": "dd4a2098",
   "metadata": {
    "execution": {
     "iopub.execute_input": "2025-10-31T10:09:18.778178Z",
     "iopub.status.busy": "2025-10-31T10:09:18.777989Z",
     "iopub.status.idle": "2025-10-31T10:09:18.782890Z",
     "shell.execute_reply": "2025-10-31T10:09:18.782160Z"
    },
    "id": "ql36g0E2HI0G",
    "papermill": {
     "duration": 0.011851,
     "end_time": "2025-10-31T10:09:18.784058",
     "exception": false,
     "start_time": "2025-10-31T10:09:18.772207",
     "status": "completed"
    },
    "tags": []
   },
   "outputs": [],
   "source": [
    "class Conv_layer(torch.nn.Module):\n",
    "  def __init__(self, in_channels, out_channels, kernel_size=3, stride=None, padding=None):\n",
    "    super().__init__()\n",
    "    self.stride = 1 if stride is None else stride\n",
    "    self.padding = 0 if padding is None else padding\n",
    "    self.conv_layer = torch.nn.Sequential(torch.nn.Conv2d(in_channels, out_channels, kernel_size, self.stride, self.padding),\n",
    "                                          torch.nn.MaxPool2d(kernel_size=2),\n",
    "                                          torch.nn.LeakyReLU())\n",
    "\n",
    "\n",
    "  def forward(self, x):\n",
    "    return self.conv_layer(x)"
   ]
  },
  {
   "cell_type": "code",
   "execution_count": 8,
   "id": "c619ae85",
   "metadata": {
    "execution": {
     "iopub.execute_input": "2025-10-31T10:09:18.795399Z",
     "iopub.status.busy": "2025-10-31T10:09:18.794964Z",
     "iopub.status.idle": "2025-10-31T10:09:18.891972Z",
     "shell.execute_reply": "2025-10-31T10:09:18.891148Z"
    },
    "id": "xqKqDK4mIcdU",
    "outputId": "9e47c9ab-ea17-4492-808d-acdb5876f41a",
    "papermill": {
     "duration": 0.103942,
     "end_time": "2025-10-31T10:09:18.893182",
     "exception": false,
     "start_time": "2025-10-31T10:09:18.789240",
     "status": "completed"
    },
    "tags": []
   },
   "outputs": [
    {
     "name": "stdout",
     "output_type": "stream",
     "text": [
      "torch.Size([1, 16, 14, 14])\n"
     ]
    }
   ],
   "source": [
    "x, _ = train_dataset[785]\n",
    "x = x.unsqueeze(0)\n",
    "conv_layer = Conv_layer(3, 16, 5)\n",
    "feature_map = conv_layer(x)\n",
    "print(feature_map.shape)"
   ]
  },
  {
   "cell_type": "code",
   "execution_count": 9,
   "id": "3505c5b6",
   "metadata": {
    "execution": {
     "iopub.execute_input": "2025-10-31T10:09:18.907338Z",
     "iopub.status.busy": "2025-10-31T10:09:18.906694Z",
     "iopub.status.idle": "2025-10-31T10:09:18.912532Z",
     "shell.execute_reply": "2025-10-31T10:09:18.912032Z"
    },
    "id": "X05HqdlTrCRJ",
    "papermill": {
     "duration": 0.013482,
     "end_time": "2025-10-31T10:09:18.913606",
     "exception": false,
     "start_time": "2025-10-31T10:09:18.900124",
     "status": "completed"
    },
    "tags": []
   },
   "outputs": [],
   "source": [
    "class My_CNN(torch.nn.Module):\n",
    "\n",
    "  def __init__(self, in_channels, out_channels, conv_kernels, fc_dims):\n",
    "    super().__init__()\n",
    "    self.in_channels = in_channels\n",
    "    self\n",
    "    self.conv_kernels = conv_kernels\n",
    "    self.fc_dims = fc_dims\n",
    "    self.conv_layers = torch.nn.ModuleList([Conv_layer(cin, cout, kernel) for cin, cout, kernel in zip(in_channels, out_channels, conv_kernels)])\n",
    "    self.fc_layers = torch.nn.ModuleList([torch.nn.Linear(dim_in, dim_out) for dim_in, dim_out in zip(fc_dims[:-1], fc_dims[1:])])\n",
    "    self.activation = torch.nn.LeakyReLU(1e-2)\n",
    "\n",
    "  def forward(self, x):\n",
    "    for conv_layer in self.conv_layers:\n",
    "      x = conv_layer(x)\n",
    "    #print(f\"x shape is {x.shape}\")\n",
    "    x = x.view(x.size(0), -1)\n",
    "    for fc_layer in self.fc_layers[:-1]:\n",
    "      x = fc_layer(x)\n",
    "      x = self.activation(x)\n",
    "    return self.fc_layers[-1](x)\n"
   ]
  },
  {
   "cell_type": "markdown",
   "id": "b0e539af",
   "metadata": {
    "id": "7PmdB_bVLRN1",
    "papermill": {
     "duration": 0.005164,
     "end_time": "2025-10-31T10:09:18.923985",
     "exception": false,
     "start_time": "2025-10-31T10:09:18.918821",
     "status": "completed"
    },
    "tags": []
   },
   "source": [
    "# **III. Training and test**"
   ]
  },
  {
   "cell_type": "code",
   "execution_count": 10,
   "id": "cb03bbc6",
   "metadata": {
    "execution": {
     "iopub.execute_input": "2025-10-31T10:09:18.934865Z",
     "iopub.status.busy": "2025-10-31T10:09:18.934511Z",
     "iopub.status.idle": "2025-10-31T10:09:18.939317Z",
     "shell.execute_reply": "2025-10-31T10:09:18.938605Z"
    },
    "papermill": {
     "duration": 0.011314,
     "end_time": "2025-10-31T10:09:18.940348",
     "exception": false,
     "start_time": "2025-10-31T10:09:18.929034",
     "status": "completed"
    },
    "tags": []
   },
   "outputs": [
    {
     "name": "stdout",
     "output_type": "stream",
     "text": [
      "2 2\n"
     ]
    }
   ],
   "source": [
    "def compute_Hf_Wf(conv_kernels, Hi, Wi):\n",
    "    '''Computes the height and width of the output of the final convolutional layer. This function assumes a maxpool2D of kernel 2x2, as well as default stride(1), padding(0) and dilation(0) for both pooling and convolution.\n",
    "    Parameters:\n",
    "        * conv_kernels: a list or tuple of the kernels of the successive convolutional layers\n",
    "        * Hi: Initial height\n",
    "        * Wi: Initial width\n",
    "\n",
    "    Outputs:\n",
    "        * Hf: final height\n",
    "        * Wf: final width\n",
    "    '''\n",
    "\n",
    "    Hf, Wf = Hi, Wi\n",
    "    for k in conv_kernels:\n",
    "      Hf = (Hf - (k - 1)) // 2\n",
    "      Wf = (Wf - (k - 1)) // 2\n",
    "    return Hf, Wf\n",
    "\n",
    "\n",
    "conv_kernels, Hi, Wi = (5,3,3), 32, 32\n",
    "Hf, Wf = compute_Hf_Wf(conv_kernels, Hi, Wi)\n",
    "print(Hf, Wf)"
   ]
  },
  {
   "cell_type": "code",
   "execution_count": 11,
   "id": "f7192dab",
   "metadata": {
    "execution": {
     "iopub.execute_input": "2025-10-31T10:09:18.951486Z",
     "iopub.status.busy": "2025-10-31T10:09:18.951292Z",
     "iopub.status.idle": "2025-10-31T10:09:19.227819Z",
     "shell.execute_reply": "2025-10-31T10:09:19.227101Z"
    },
    "id": "ydyRl5ThLPoi",
    "outputId": "b700feca-7579-422e-e761-6c3d1ab98b0f",
    "papermill": {
     "duration": 0.283554,
     "end_time": "2025-10-31T10:09:19.229021",
     "exception": false,
     "start_time": "2025-10-31T10:09:18.945467",
     "status": "completed"
    },
    "tags": []
   },
   "outputs": [
    {
     "data": {
      "text/plain": [
       "My_CNN(\n",
       "  (conv_layers): ModuleList(\n",
       "    (0): Conv_layer(\n",
       "      (conv_layer): Sequential(\n",
       "        (0): Conv2d(3, 64, kernel_size=(5, 5), stride=(1, 1))\n",
       "        (1): MaxPool2d(kernel_size=2, stride=2, padding=0, dilation=1, ceil_mode=False)\n",
       "        (2): LeakyReLU(negative_slope=0.01)\n",
       "      )\n",
       "    )\n",
       "    (1): Conv_layer(\n",
       "      (conv_layer): Sequential(\n",
       "        (0): Conv2d(64, 128, kernel_size=(3, 3), stride=(1, 1))\n",
       "        (1): MaxPool2d(kernel_size=2, stride=2, padding=0, dilation=1, ceil_mode=False)\n",
       "        (2): LeakyReLU(negative_slope=0.01)\n",
       "      )\n",
       "    )\n",
       "    (2): Conv_layer(\n",
       "      (conv_layer): Sequential(\n",
       "        (0): Conv2d(128, 256, kernel_size=(3, 3), stride=(1, 1))\n",
       "        (1): MaxPool2d(kernel_size=2, stride=2, padding=0, dilation=1, ceil_mode=False)\n",
       "        (2): LeakyReLU(negative_slope=0.01)\n",
       "      )\n",
       "    )\n",
       "  )\n",
       "  (fc_layers): ModuleList(\n",
       "    (0): Linear(in_features=1024, out_features=256, bias=True)\n",
       "    (1): Linear(in_features=256, out_features=128, bias=True)\n",
       "    (2): Linear(in_features=128, out_features=10, bias=True)\n",
       "  )\n",
       "  (activation): LeakyReLU(negative_slope=0.01)\n",
       ")"
      ]
     },
     "execution_count": 11,
     "metadata": {},
     "output_type": "execute_result"
    }
   ],
   "source": [
    "image = train_dataset[785][0]\n",
    "C, H, W = image.shape\n",
    "nb_classes = 10\n",
    "in_channels = (C, 64, 128)\n",
    "out_channels = (64, 128, 256)\n",
    "conv_kernels = (5, 3, 3)\n",
    "Hf, Wf = compute_Hf_Wf(conv_kernels, H, W)\n",
    "fc_dims = (out_channels[-1]*Hf*Wf, 256, 128, nb_classes)\n",
    "model = My_CNN(in_channels, out_channels, conv_kernels, fc_dims)\n",
    "device = torch.device(\"cuda\" if torch.cuda.is_available() else \"cpu\")\n",
    "model.to(device)"
   ]
  },
  {
   "cell_type": "code",
   "execution_count": 12,
   "id": "a5c6a100",
   "metadata": {
    "execution": {
     "iopub.execute_input": "2025-10-31T10:09:19.241333Z",
     "iopub.status.busy": "2025-10-31T10:09:19.240736Z",
     "iopub.status.idle": "2025-10-31T10:09:19.244925Z",
     "shell.execute_reply": "2025-10-31T10:09:19.244262Z"
    },
    "id": "h8AkpvTkM-nB",
    "outputId": "bacf267d-36bc-449c-e2df-292fd15cc964",
    "papermill": {
     "duration": 0.01109,
     "end_time": "2025-10-31T10:09:19.245890",
     "exception": false,
     "start_time": "2025-10-31T10:09:19.234800",
     "status": "completed"
    },
    "tags": []
   },
   "outputs": [
    {
     "name": "stdout",
     "output_type": "stream",
     "text": [
      "Number of parameters: 670474\n",
      "Device is cuda\n"
     ]
    }
   ],
   "source": [
    "num_params = sum(p.numel() for p in model.parameters() if p.requires_grad)\n",
    "print(f\"Number of parameters: {num_params}\")\n",
    "print(f\"Device is {device}\")"
   ]
  },
  {
   "cell_type": "code",
   "execution_count": 13,
   "id": "78efa2f3",
   "metadata": {
    "execution": {
     "iopub.execute_input": "2025-10-31T10:09:19.257181Z",
     "iopub.status.busy": "2025-10-31T10:09:19.257009Z",
     "iopub.status.idle": "2025-10-31T10:09:19.260257Z",
     "shell.execute_reply": "2025-10-31T10:09:19.259597Z"
    },
    "id": "4s_3HEvLNu7Y",
    "papermill": {
     "duration": 0.010202,
     "end_time": "2025-10-31T10:09:19.261358",
     "exception": false,
     "start_time": "2025-10-31T10:09:19.251156",
     "status": "completed"
    },
    "tags": []
   },
   "outputs": [],
   "source": [
    "if device==\"cuda\": model = torch.compile(model)"
   ]
  },
  {
   "cell_type": "code",
   "execution_count": 14,
   "id": "88c26da9",
   "metadata": {
    "execution": {
     "iopub.execute_input": "2025-10-31T10:09:19.272633Z",
     "iopub.status.busy": "2025-10-31T10:09:19.272460Z",
     "iopub.status.idle": "2025-10-31T10:09:19.275667Z",
     "shell.execute_reply": "2025-10-31T10:09:19.274996Z"
    },
    "papermill": {
     "duration": 0.010068,
     "end_time": "2025-10-31T10:09:19.276701",
     "exception": false,
     "start_time": "2025-10-31T10:09:19.266633",
     "status": "completed"
    },
    "tags": []
   },
   "outputs": [],
   "source": [
    "optimizer = None #Just so that I can resume training"
   ]
  },
  {
   "cell_type": "code",
   "execution_count": 15,
   "id": "9ba630fa",
   "metadata": {
    "execution": {
     "iopub.execute_input": "2025-10-31T10:09:19.288244Z",
     "iopub.status.busy": "2025-10-31T10:09:19.287681Z",
     "iopub.status.idle": "2025-10-31T11:20:06.285440Z",
     "shell.execute_reply": "2025-10-31T11:20:06.284652Z"
    },
    "id": "t0Zl7_l_NNOW",
    "outputId": "08979f6e-4a7d-48ea-9287-24a7e6383e30",
    "papermill": {
     "duration": 4247.004668,
     "end_time": "2025-10-31T11:20:06.286647",
     "exception": false,
     "start_time": "2025-10-31T10:09:19.281979",
     "status": "completed"
    },
    "tags": []
   },
   "outputs": [
    {
     "name": "stdout",
     "output_type": "stream",
     "text": [
      "Epoch: 0\n"
     ]
    },
    {
     "name": "stderr",
     "output_type": "stream",
     "text": [
      "391it [00:43,  9.00it/s]\n",
      "40it [00:01, 34.52it/s]\n"
     ]
    },
    {
     "name": "stdout",
     "output_type": "stream",
     "text": [
      "Loss_train: 1.8708 and loss_val: 1.6025\n",
      "Epoch: 1\n"
     ]
    },
    {
     "name": "stderr",
     "output_type": "stream",
     "text": [
      "391it [00:42,  9.18it/s]\n",
      "40it [00:01, 35.00it/s]\n"
     ]
    },
    {
     "name": "stdout",
     "output_type": "stream",
     "text": [
      "Loss_train: 1.6026 and loss_val: 1.4638\n",
      "Epoch: 2\n"
     ]
    },
    {
     "name": "stderr",
     "output_type": "stream",
     "text": [
      "391it [00:42,  9.19it/s]\n",
      "40it [00:01, 33.94it/s]\n"
     ]
    },
    {
     "name": "stdout",
     "output_type": "stream",
     "text": [
      "Loss_train: 1.4974 and loss_val: 1.4066\n",
      "Epoch: 3\n"
     ]
    },
    {
     "name": "stderr",
     "output_type": "stream",
     "text": [
      "391it [00:42,  9.29it/s]\n",
      "40it [00:01, 35.10it/s]\n"
     ]
    },
    {
     "name": "stdout",
     "output_type": "stream",
     "text": [
      "Loss_train: 1.4295 and loss_val: 1.3545\n",
      "Epoch: 4\n"
     ]
    },
    {
     "name": "stderr",
     "output_type": "stream",
     "text": [
      "391it [00:42,  9.28it/s]\n",
      "40it [00:01, 34.38it/s]\n"
     ]
    },
    {
     "name": "stdout",
     "output_type": "stream",
     "text": [
      "Loss_train: 1.3739 and loss_val: 1.2799\n",
      "Epoch: 5\n"
     ]
    },
    {
     "name": "stderr",
     "output_type": "stream",
     "text": [
      "391it [00:42,  9.28it/s]\n",
      "40it [00:01, 34.20it/s]\n"
     ]
    },
    {
     "name": "stdout",
     "output_type": "stream",
     "text": [
      "Loss_train: 1.3235 and loss_val: 1.2078\n",
      "Epoch: 6\n"
     ]
    },
    {
     "name": "stderr",
     "output_type": "stream",
     "text": [
      "391it [00:42,  9.21it/s]\n",
      "40it [00:01, 34.92it/s]\n"
     ]
    },
    {
     "name": "stdout",
     "output_type": "stream",
     "text": [
      "Loss_train: 1.2836 and loss_val: 1.1900\n",
      "Epoch: 7\n"
     ]
    },
    {
     "name": "stderr",
     "output_type": "stream",
     "text": [
      "391it [00:41,  9.39it/s]\n",
      "40it [00:01, 35.62it/s]\n"
     ]
    },
    {
     "name": "stdout",
     "output_type": "stream",
     "text": [
      "Loss_train: 1.2490 and loss_val: 1.1779\n",
      "Epoch: 8\n"
     ]
    },
    {
     "name": "stderr",
     "output_type": "stream",
     "text": [
      "391it [00:41,  9.48it/s]\n",
      "40it [00:01, 33.80it/s]\n"
     ]
    },
    {
     "name": "stdout",
     "output_type": "stream",
     "text": [
      "Loss_train: 1.2225 and loss_val: 1.1272\n",
      "Epoch: 9\n"
     ]
    },
    {
     "name": "stderr",
     "output_type": "stream",
     "text": [
      "391it [00:41,  9.43it/s]\n",
      "40it [00:01, 35.32it/s]\n"
     ]
    },
    {
     "name": "stdout",
     "output_type": "stream",
     "text": [
      "Loss_train: 1.1903 and loss_val: 1.1074\n",
      "Epoch: 10\n"
     ]
    },
    {
     "name": "stderr",
     "output_type": "stream",
     "text": [
      "391it [00:41,  9.42it/s]\n",
      "40it [00:01, 34.55it/s]\n"
     ]
    },
    {
     "name": "stdout",
     "output_type": "stream",
     "text": [
      "Loss_train: 1.1619 and loss_val: 1.0758\n",
      "Epoch: 11\n"
     ]
    },
    {
     "name": "stderr",
     "output_type": "stream",
     "text": [
      "391it [00:41,  9.50it/s]\n",
      "40it [00:01, 35.08it/s]\n"
     ]
    },
    {
     "name": "stdout",
     "output_type": "stream",
     "text": [
      "Loss_train: 1.1334 and loss_val: 1.0450\n",
      "Epoch: 12\n"
     ]
    },
    {
     "name": "stderr",
     "output_type": "stream",
     "text": [
      "391it [00:41,  9.43it/s]\n",
      "40it [00:01, 36.09it/s]\n"
     ]
    },
    {
     "name": "stdout",
     "output_type": "stream",
     "text": [
      "Loss_train: 1.1149 and loss_val: 1.0443\n",
      "Epoch: 13\n"
     ]
    },
    {
     "name": "stderr",
     "output_type": "stream",
     "text": [
      "391it [00:41,  9.51it/s]\n",
      "40it [00:01, 36.36it/s]\n"
     ]
    },
    {
     "name": "stdout",
     "output_type": "stream",
     "text": [
      "Loss_train: 1.0902 and loss_val: 1.0378\n",
      "Epoch: 14\n"
     ]
    },
    {
     "name": "stderr",
     "output_type": "stream",
     "text": [
      "391it [00:40,  9.54it/s]\n",
      "40it [00:01, 35.00it/s]\n"
     ]
    },
    {
     "name": "stdout",
     "output_type": "stream",
     "text": [
      "Loss_train: 1.0707 and loss_val: 1.0036\n",
      "Epoch: 15\n"
     ]
    },
    {
     "name": "stderr",
     "output_type": "stream",
     "text": [
      "391it [00:41,  9.43it/s]\n",
      "40it [00:01, 35.21it/s]\n"
     ]
    },
    {
     "name": "stdout",
     "output_type": "stream",
     "text": [
      "Loss_train: 1.0559 and loss_val: 0.9950\n",
      "Epoch: 16\n"
     ]
    },
    {
     "name": "stderr",
     "output_type": "stream",
     "text": [
      "391it [00:41,  9.39it/s]\n",
      "40it [00:01, 35.54it/s]\n"
     ]
    },
    {
     "name": "stdout",
     "output_type": "stream",
     "text": [
      "Loss_train: 1.0347 and loss_val: 0.9965\n",
      "Epoch: 17\n"
     ]
    },
    {
     "name": "stderr",
     "output_type": "stream",
     "text": [
      "391it [00:41,  9.43it/s]\n",
      "40it [00:01, 35.84it/s]\n"
     ]
    },
    {
     "name": "stdout",
     "output_type": "stream",
     "text": [
      "Loss_train: 1.0183 and loss_val: 0.9663\n",
      "Epoch: 18\n"
     ]
    },
    {
     "name": "stderr",
     "output_type": "stream",
     "text": [
      "391it [00:41,  9.48it/s]\n",
      "40it [00:01, 35.64it/s]\n"
     ]
    },
    {
     "name": "stdout",
     "output_type": "stream",
     "text": [
      "Loss_train: 0.9998 and loss_val: 0.9453\n",
      "Epoch: 19\n"
     ]
    },
    {
     "name": "stderr",
     "output_type": "stream",
     "text": [
      "391it [00:41,  9.45it/s]\n",
      "40it [00:01, 34.85it/s]\n"
     ]
    },
    {
     "name": "stdout",
     "output_type": "stream",
     "text": [
      "Loss_train: 0.9831 and loss_val: 0.9578\n",
      "Epoch: 20\n"
     ]
    },
    {
     "name": "stderr",
     "output_type": "stream",
     "text": [
      "391it [00:41,  9.44it/s]\n",
      "40it [00:01, 35.44it/s]\n"
     ]
    },
    {
     "name": "stdout",
     "output_type": "stream",
     "text": [
      "Loss_train: 0.9724 and loss_val: 0.9360\n",
      "Epoch: 21\n"
     ]
    },
    {
     "name": "stderr",
     "output_type": "stream",
     "text": [
      "391it [00:41,  9.53it/s]\n",
      "40it [00:01, 35.49it/s]\n"
     ]
    },
    {
     "name": "stdout",
     "output_type": "stream",
     "text": [
      "Loss_train: 0.9538 and loss_val: 0.9179\n",
      "Epoch: 22\n"
     ]
    },
    {
     "name": "stderr",
     "output_type": "stream",
     "text": [
      "391it [00:41,  9.52it/s]\n",
      "40it [00:01, 35.05it/s]\n"
     ]
    },
    {
     "name": "stdout",
     "output_type": "stream",
     "text": [
      "Loss_train: 0.9450 and loss_val: 0.8993\n",
      "Epoch: 23\n"
     ]
    },
    {
     "name": "stderr",
     "output_type": "stream",
     "text": [
      "391it [00:41,  9.46it/s]\n",
      "40it [00:01, 35.61it/s]\n"
     ]
    },
    {
     "name": "stdout",
     "output_type": "stream",
     "text": [
      "Loss_train: 0.9294 and loss_val: 0.8782\n",
      "Epoch: 24\n"
     ]
    },
    {
     "name": "stderr",
     "output_type": "stream",
     "text": [
      "391it [00:41,  9.42it/s]\n",
      "40it [00:01, 35.42it/s]\n"
     ]
    },
    {
     "name": "stdout",
     "output_type": "stream",
     "text": [
      "Loss_train: 0.9187 and loss_val: 0.8812\n",
      "Epoch: 25\n"
     ]
    },
    {
     "name": "stderr",
     "output_type": "stream",
     "text": [
      "391it [00:41,  9.42it/s]\n",
      "40it [00:01, 35.40it/s]\n"
     ]
    },
    {
     "name": "stdout",
     "output_type": "stream",
     "text": [
      "Loss_train: 0.9035 and loss_val: 0.8722\n",
      "Epoch: 26\n"
     ]
    },
    {
     "name": "stderr",
     "output_type": "stream",
     "text": [
      "391it [00:41,  9.42it/s]\n",
      "40it [00:01, 35.69it/s]\n"
     ]
    },
    {
     "name": "stdout",
     "output_type": "stream",
     "text": [
      "Loss_train: 0.8959 and loss_val: 0.8537\n",
      "Epoch: 27\n"
     ]
    },
    {
     "name": "stderr",
     "output_type": "stream",
     "text": [
      "391it [00:41,  9.39it/s]\n",
      "40it [00:01, 35.96it/s]\n"
     ]
    },
    {
     "name": "stdout",
     "output_type": "stream",
     "text": [
      "Loss_train: 0.8819 and loss_val: 0.8585\n",
      "Epoch: 28\n"
     ]
    },
    {
     "name": "stderr",
     "output_type": "stream",
     "text": [
      "391it [00:41,  9.48it/s]\n",
      "40it [00:01, 35.80it/s]\n"
     ]
    },
    {
     "name": "stdout",
     "output_type": "stream",
     "text": [
      "Loss_train: 0.8691 and loss_val: 0.8465\n",
      "Epoch: 29\n"
     ]
    },
    {
     "name": "stderr",
     "output_type": "stream",
     "text": [
      "391it [00:41,  9.45it/s]\n",
      "40it [00:01, 35.34it/s]\n"
     ]
    },
    {
     "name": "stdout",
     "output_type": "stream",
     "text": [
      "Loss_train: 0.8603 and loss_val: 0.8470\n",
      "Epoch: 30\n"
     ]
    },
    {
     "name": "stderr",
     "output_type": "stream",
     "text": [
      "391it [00:41,  9.45it/s]\n",
      "40it [00:01, 35.23it/s]\n"
     ]
    },
    {
     "name": "stdout",
     "output_type": "stream",
     "text": [
      "Loss_train: 0.8552 and loss_val: 0.8304\n",
      "Epoch: 31\n"
     ]
    },
    {
     "name": "stderr",
     "output_type": "stream",
     "text": [
      "391it [00:41,  9.44it/s]\n",
      "40it [00:01, 35.67it/s]\n"
     ]
    },
    {
     "name": "stdout",
     "output_type": "stream",
     "text": [
      "Loss_train: 0.8420 and loss_val: 0.8244\n",
      "Epoch: 32\n"
     ]
    },
    {
     "name": "stderr",
     "output_type": "stream",
     "text": [
      "391it [00:41,  9.46it/s]\n",
      "40it [00:01, 35.88it/s]\n"
     ]
    },
    {
     "name": "stdout",
     "output_type": "stream",
     "text": [
      "Loss_train: 0.8329 and loss_val: 0.8204\n",
      "Epoch: 33\n"
     ]
    },
    {
     "name": "stderr",
     "output_type": "stream",
     "text": [
      "391it [00:41,  9.41it/s]\n",
      "40it [00:01, 35.55it/s]\n"
     ]
    },
    {
     "name": "stdout",
     "output_type": "stream",
     "text": [
      "Loss_train: 0.8179 and loss_val: 0.8162\n",
      "Epoch: 34\n"
     ]
    },
    {
     "name": "stderr",
     "output_type": "stream",
     "text": [
      "391it [00:41,  9.45it/s]\n",
      "40it [00:01, 35.59it/s]\n"
     ]
    },
    {
     "name": "stdout",
     "output_type": "stream",
     "text": [
      "Loss_train: 0.8149 and loss_val: 0.8302\n",
      "Epoch: 35\n"
     ]
    },
    {
     "name": "stderr",
     "output_type": "stream",
     "text": [
      "391it [00:41,  9.44it/s]\n",
      "40it [00:01, 35.23it/s]\n"
     ]
    },
    {
     "name": "stdout",
     "output_type": "stream",
     "text": [
      "Loss_train: 0.8096 and loss_val: 0.7956\n",
      "Epoch: 36\n"
     ]
    },
    {
     "name": "stderr",
     "output_type": "stream",
     "text": [
      "391it [00:41,  9.41it/s]\n",
      "40it [00:01, 35.83it/s]\n"
     ]
    },
    {
     "name": "stdout",
     "output_type": "stream",
     "text": [
      "Loss_train: 0.7958 and loss_val: 0.7957\n",
      "Epoch: 37\n"
     ]
    },
    {
     "name": "stderr",
     "output_type": "stream",
     "text": [
      "391it [00:41,  9.44it/s]\n",
      "40it [00:01, 35.38it/s]\n"
     ]
    },
    {
     "name": "stdout",
     "output_type": "stream",
     "text": [
      "Loss_train: 0.7901 and loss_val: 0.7868\n",
      "Epoch: 38\n"
     ]
    },
    {
     "name": "stderr",
     "output_type": "stream",
     "text": [
      "391it [00:41,  9.46it/s]\n",
      "40it [00:01, 35.11it/s]\n"
     ]
    },
    {
     "name": "stdout",
     "output_type": "stream",
     "text": [
      "Loss_train: 0.7807 and loss_val: 0.8011\n",
      "Epoch: 39\n"
     ]
    },
    {
     "name": "stderr",
     "output_type": "stream",
     "text": [
      "391it [00:41,  9.35it/s]\n",
      "40it [00:01, 35.70it/s]\n"
     ]
    },
    {
     "name": "stdout",
     "output_type": "stream",
     "text": [
      "Loss_train: 0.7734 and loss_val: 0.7755\n",
      "Epoch: 40\n"
     ]
    },
    {
     "name": "stderr",
     "output_type": "stream",
     "text": [
      "391it [00:41,  9.46it/s]\n",
      "40it [00:01, 34.35it/s]\n"
     ]
    },
    {
     "name": "stdout",
     "output_type": "stream",
     "text": [
      "Loss_train: 0.7713 and loss_val: 0.7738\n",
      "Epoch: 41\n"
     ]
    },
    {
     "name": "stderr",
     "output_type": "stream",
     "text": [
      "391it [00:41,  9.47it/s]\n",
      "40it [00:01, 34.77it/s]\n"
     ]
    },
    {
     "name": "stdout",
     "output_type": "stream",
     "text": [
      "Loss_train: 0.7662 and loss_val: 0.7777\n",
      "Epoch: 42\n"
     ]
    },
    {
     "name": "stderr",
     "output_type": "stream",
     "text": [
      "391it [00:41,  9.44it/s]\n",
      "40it [00:01, 34.73it/s]\n"
     ]
    },
    {
     "name": "stdout",
     "output_type": "stream",
     "text": [
      "Loss_train: 0.7551 and loss_val: 0.7557\n",
      "Epoch: 43\n"
     ]
    },
    {
     "name": "stderr",
     "output_type": "stream",
     "text": [
      "391it [00:41,  9.44it/s]\n",
      "40it [00:01, 35.85it/s]\n"
     ]
    },
    {
     "name": "stdout",
     "output_type": "stream",
     "text": [
      "Loss_train: 0.7448 and loss_val: 0.7611\n",
      "Epoch: 44\n"
     ]
    },
    {
     "name": "stderr",
     "output_type": "stream",
     "text": [
      "391it [00:41,  9.44it/s]\n",
      "40it [00:01, 35.58it/s]\n"
     ]
    },
    {
     "name": "stdout",
     "output_type": "stream",
     "text": [
      "Loss_train: 0.7421 and loss_val: 0.7811\n",
      "Epoch: 45\n"
     ]
    },
    {
     "name": "stderr",
     "output_type": "stream",
     "text": [
      "391it [00:41,  9.49it/s]\n",
      "40it [00:01, 35.97it/s]\n"
     ]
    },
    {
     "name": "stdout",
     "output_type": "stream",
     "text": [
      "Loss_train: 0.7384 and loss_val: 0.7748\n",
      "Epoch: 46\n"
     ]
    },
    {
     "name": "stderr",
     "output_type": "stream",
     "text": [
      "391it [00:41,  9.48it/s]\n",
      "40it [00:01, 35.25it/s]\n"
     ]
    },
    {
     "name": "stdout",
     "output_type": "stream",
     "text": [
      "Loss_train: 0.7250 and loss_val: 0.7496\n",
      "Epoch: 47\n"
     ]
    },
    {
     "name": "stderr",
     "output_type": "stream",
     "text": [
      "391it [00:41,  9.51it/s]\n",
      "40it [00:01, 35.69it/s]\n"
     ]
    },
    {
     "name": "stdout",
     "output_type": "stream",
     "text": [
      "Loss_train: 0.7213 and loss_val: 0.7635\n",
      "Epoch: 48\n"
     ]
    },
    {
     "name": "stderr",
     "output_type": "stream",
     "text": [
      "391it [00:41,  9.52it/s]\n",
      "40it [00:01, 36.10it/s]\n"
     ]
    },
    {
     "name": "stdout",
     "output_type": "stream",
     "text": [
      "Loss_train: 0.7169 and loss_val: 0.7540\n",
      "Epoch: 49\n"
     ]
    },
    {
     "name": "stderr",
     "output_type": "stream",
     "text": [
      "391it [00:41,  9.53it/s]\n",
      "40it [00:01, 35.26it/s]\n"
     ]
    },
    {
     "name": "stdout",
     "output_type": "stream",
     "text": [
      "Loss_train: 0.7164 and loss_val: 0.7347\n",
      "Epoch: 50\n"
     ]
    },
    {
     "name": "stderr",
     "output_type": "stream",
     "text": [
      "391it [00:41,  9.53it/s]\n",
      "40it [00:01, 35.67it/s]\n"
     ]
    },
    {
     "name": "stdout",
     "output_type": "stream",
     "text": [
      "Loss_train: 0.7088 and loss_val: 0.7419\n",
      "Epoch: 51\n"
     ]
    },
    {
     "name": "stderr",
     "output_type": "stream",
     "text": [
      "391it [00:40,  9.56it/s]\n",
      "40it [00:01, 34.64it/s]\n"
     ]
    },
    {
     "name": "stdout",
     "output_type": "stream",
     "text": [
      "Loss_train: 0.6976 and loss_val: 0.7377\n",
      "Epoch: 52\n"
     ]
    },
    {
     "name": "stderr",
     "output_type": "stream",
     "text": [
      "391it [00:41,  9.50it/s]\n",
      "40it [00:01, 36.17it/s]\n"
     ]
    },
    {
     "name": "stdout",
     "output_type": "stream",
     "text": [
      "Loss_train: 0.6966 and loss_val: 0.7374\n",
      "Epoch: 53\n"
     ]
    },
    {
     "name": "stderr",
     "output_type": "stream",
     "text": [
      "391it [00:40,  9.56it/s]\n",
      "40it [00:01, 33.26it/s]\n"
     ]
    },
    {
     "name": "stdout",
     "output_type": "stream",
     "text": [
      "Loss_train: 0.6878 and loss_val: 0.7491\n",
      "Epoch: 54\n"
     ]
    },
    {
     "name": "stderr",
     "output_type": "stream",
     "text": [
      "391it [00:41,  9.47it/s]\n",
      "40it [00:01, 35.96it/s]\n"
     ]
    },
    {
     "name": "stdout",
     "output_type": "stream",
     "text": [
      "Loss_train: 0.6829 and loss_val: 0.7270\n",
      "Epoch: 55\n"
     ]
    },
    {
     "name": "stderr",
     "output_type": "stream",
     "text": [
      "391it [00:40,  9.55it/s]\n",
      "40it [00:01, 34.91it/s]\n"
     ]
    },
    {
     "name": "stdout",
     "output_type": "stream",
     "text": [
      "Loss_train: 0.6767 and loss_val: 0.7340\n",
      "Epoch: 56\n"
     ]
    },
    {
     "name": "stderr",
     "output_type": "stream",
     "text": [
      "391it [00:41,  9.41it/s]\n",
      "40it [00:01, 35.13it/s]\n"
     ]
    },
    {
     "name": "stdout",
     "output_type": "stream",
     "text": [
      "Loss_train: 0.6709 and loss_val: 0.7286\n",
      "Epoch: 57\n"
     ]
    },
    {
     "name": "stderr",
     "output_type": "stream",
     "text": [
      "391it [00:41,  9.39it/s]\n",
      "40it [00:01, 35.61it/s]\n"
     ]
    },
    {
     "name": "stdout",
     "output_type": "stream",
     "text": [
      "Loss_train: 0.6702 and loss_val: 0.7179\n",
      "Epoch: 58\n"
     ]
    },
    {
     "name": "stderr",
     "output_type": "stream",
     "text": [
      "391it [00:41,  9.38it/s]\n",
      "40it [00:01, 34.76it/s]\n"
     ]
    },
    {
     "name": "stdout",
     "output_type": "stream",
     "text": [
      "Loss_train: 0.6679 and loss_val: 0.7338\n",
      "Epoch: 59\n"
     ]
    },
    {
     "name": "stderr",
     "output_type": "stream",
     "text": [
      "391it [00:41,  9.33it/s]\n",
      "40it [00:01, 35.41it/s]\n"
     ]
    },
    {
     "name": "stdout",
     "output_type": "stream",
     "text": [
      "Loss_train: 0.6612 and loss_val: 0.7344\n",
      "Epoch: 60\n"
     ]
    },
    {
     "name": "stderr",
     "output_type": "stream",
     "text": [
      "391it [00:41,  9.41it/s]\n",
      "40it [00:01, 35.48it/s]\n"
     ]
    },
    {
     "name": "stdout",
     "output_type": "stream",
     "text": [
      "Loss_train: 0.6510 and loss_val: 0.7240\n",
      "Epoch: 61\n"
     ]
    },
    {
     "name": "stderr",
     "output_type": "stream",
     "text": [
      "391it [00:41,  9.37it/s]\n",
      "40it [00:01, 34.28it/s]\n"
     ]
    },
    {
     "name": "stdout",
     "output_type": "stream",
     "text": [
      "Loss_train: 0.6538 and loss_val: 0.7223\n",
      "Epoch: 62\n"
     ]
    },
    {
     "name": "stderr",
     "output_type": "stream",
     "text": [
      "391it [00:41,  9.42it/s]\n",
      "40it [00:01, 35.44it/s]\n"
     ]
    },
    {
     "name": "stdout",
     "output_type": "stream",
     "text": [
      "Loss_train: 0.6476 and loss_val: 0.7192\n",
      "Epoch: 63\n"
     ]
    },
    {
     "name": "stderr",
     "output_type": "stream",
     "text": [
      "391it [00:41,  9.44it/s]\n",
      "40it [00:01, 34.79it/s]\n"
     ]
    },
    {
     "name": "stdout",
     "output_type": "stream",
     "text": [
      "Loss_train: 0.6469 and loss_val: 0.6953\n",
      "Epoch: 64\n"
     ]
    },
    {
     "name": "stderr",
     "output_type": "stream",
     "text": [
      "391it [00:41,  9.50it/s]\n",
      "40it [00:01, 36.00it/s]\n"
     ]
    },
    {
     "name": "stdout",
     "output_type": "stream",
     "text": [
      "Loss_train: 0.6388 and loss_val: 0.7217\n",
      "Epoch: 65\n"
     ]
    },
    {
     "name": "stderr",
     "output_type": "stream",
     "text": [
      "391it [00:41,  9.52it/s]\n",
      "40it [00:01, 35.76it/s]\n"
     ]
    },
    {
     "name": "stdout",
     "output_type": "stream",
     "text": [
      "Loss_train: 0.6345 and loss_val: 0.7124\n",
      "Epoch: 66\n"
     ]
    },
    {
     "name": "stderr",
     "output_type": "stream",
     "text": [
      "391it [00:40,  9.54it/s]\n",
      "40it [00:01, 35.72it/s]\n"
     ]
    },
    {
     "name": "stdout",
     "output_type": "stream",
     "text": [
      "Loss_train: 0.6312 and loss_val: 0.7140\n",
      "Epoch: 67\n"
     ]
    },
    {
     "name": "stderr",
     "output_type": "stream",
     "text": [
      "391it [00:40,  9.54it/s]\n",
      "40it [00:01, 33.61it/s]\n"
     ]
    },
    {
     "name": "stdout",
     "output_type": "stream",
     "text": [
      "Loss_train: 0.6249 and loss_val: 0.6921\n",
      "Epoch: 68\n"
     ]
    },
    {
     "name": "stderr",
     "output_type": "stream",
     "text": [
      "391it [00:41,  9.43it/s]\n",
      "40it [00:01, 35.21it/s]\n"
     ]
    },
    {
     "name": "stdout",
     "output_type": "stream",
     "text": [
      "Loss_train: 0.6249 and loss_val: 0.7069\n",
      "Epoch: 69\n"
     ]
    },
    {
     "name": "stderr",
     "output_type": "stream",
     "text": [
      "391it [00:41,  9.45it/s]\n",
      "40it [00:01, 34.93it/s]\n"
     ]
    },
    {
     "name": "stdout",
     "output_type": "stream",
     "text": [
      "Loss_train: 0.6196 and loss_val: 0.7225\n",
      "Epoch: 70\n"
     ]
    },
    {
     "name": "stderr",
     "output_type": "stream",
     "text": [
      "391it [00:41,  9.46it/s]\n",
      "40it [00:01, 35.56it/s]\n"
     ]
    },
    {
     "name": "stdout",
     "output_type": "stream",
     "text": [
      "Loss_train: 0.6145 and loss_val: 0.6937\n",
      "Epoch: 71\n"
     ]
    },
    {
     "name": "stderr",
     "output_type": "stream",
     "text": [
      "391it [00:40,  9.62it/s]\n",
      "40it [00:01, 34.04it/s]\n"
     ]
    },
    {
     "name": "stdout",
     "output_type": "stream",
     "text": [
      "Loss_train: 0.6128 and loss_val: 0.6917\n",
      "Epoch: 72\n"
     ]
    },
    {
     "name": "stderr",
     "output_type": "stream",
     "text": [
      "391it [00:40,  9.59it/s]\n",
      "40it [00:01, 35.37it/s]\n"
     ]
    },
    {
     "name": "stdout",
     "output_type": "stream",
     "text": [
      "Loss_train: 0.6058 and loss_val: 0.7118\n",
      "Epoch: 73\n"
     ]
    },
    {
     "name": "stderr",
     "output_type": "stream",
     "text": [
      "391it [00:40,  9.57it/s]\n",
      "40it [00:01, 35.60it/s]\n"
     ]
    },
    {
     "name": "stdout",
     "output_type": "stream",
     "text": [
      "Loss_train: 0.6028 and loss_val: 0.6925\n",
      "Epoch: 74\n"
     ]
    },
    {
     "name": "stderr",
     "output_type": "stream",
     "text": [
      "391it [00:40,  9.64it/s]\n",
      "40it [00:01, 34.83it/s]\n"
     ]
    },
    {
     "name": "stdout",
     "output_type": "stream",
     "text": [
      "Loss_train: 0.6030 and loss_val: 0.6864\n",
      "Epoch: 75\n"
     ]
    },
    {
     "name": "stderr",
     "output_type": "stream",
     "text": [
      "391it [00:40,  9.54it/s]\n",
      "40it [00:01, 35.38it/s]\n"
     ]
    },
    {
     "name": "stdout",
     "output_type": "stream",
     "text": [
      "Loss_train: 0.5975 and loss_val: 0.7054\n",
      "Epoch: 76\n"
     ]
    },
    {
     "name": "stderr",
     "output_type": "stream",
     "text": [
      "391it [00:40,  9.57it/s]\n",
      "40it [00:01, 34.53it/s]\n"
     ]
    },
    {
     "name": "stdout",
     "output_type": "stream",
     "text": [
      "Loss_train: 0.5931 and loss_val: 0.6863\n",
      "Epoch: 77\n"
     ]
    },
    {
     "name": "stderr",
     "output_type": "stream",
     "text": [
      "391it [00:40,  9.64it/s]\n",
      "40it [00:01, 34.39it/s]\n"
     ]
    },
    {
     "name": "stdout",
     "output_type": "stream",
     "text": [
      "Loss_train: 0.5878 and loss_val: 0.6899\n",
      "Epoch: 78\n"
     ]
    },
    {
     "name": "stderr",
     "output_type": "stream",
     "text": [
      "391it [00:40,  9.58it/s]\n",
      "40it [00:01, 36.49it/s]\n"
     ]
    },
    {
     "name": "stdout",
     "output_type": "stream",
     "text": [
      "Loss_train: 0.5858 and loss_val: 0.7026\n",
      "Epoch: 79\n"
     ]
    },
    {
     "name": "stderr",
     "output_type": "stream",
     "text": [
      "391it [00:40,  9.61it/s]\n",
      "40it [00:01, 35.40it/s]\n"
     ]
    },
    {
     "name": "stdout",
     "output_type": "stream",
     "text": [
      "Loss_train: 0.5841 and loss_val: 0.6850\n",
      "Epoch: 80\n"
     ]
    },
    {
     "name": "stderr",
     "output_type": "stream",
     "text": [
      "391it [00:40,  9.57it/s]\n",
      "40it [00:01, 35.52it/s]\n"
     ]
    },
    {
     "name": "stdout",
     "output_type": "stream",
     "text": [
      "Loss_train: 0.5790 and loss_val: 0.7090\n",
      "Epoch: 81\n"
     ]
    },
    {
     "name": "stderr",
     "output_type": "stream",
     "text": [
      "391it [00:40,  9.59it/s]\n",
      "40it [00:01, 35.93it/s]\n"
     ]
    },
    {
     "name": "stdout",
     "output_type": "stream",
     "text": [
      "Loss_train: 0.5789 and loss_val: 0.6852\n",
      "Epoch: 82\n"
     ]
    },
    {
     "name": "stderr",
     "output_type": "stream",
     "text": [
      "391it [00:41,  9.52it/s]\n",
      "40it [00:01, 35.23it/s]\n"
     ]
    },
    {
     "name": "stdout",
     "output_type": "stream",
     "text": [
      "Loss_train: 0.5743 and loss_val: 0.6956\n",
      "Epoch: 83\n"
     ]
    },
    {
     "name": "stderr",
     "output_type": "stream",
     "text": [
      "391it [00:41,  9.41it/s]\n",
      "40it [00:01, 34.91it/s]\n"
     ]
    },
    {
     "name": "stdout",
     "output_type": "stream",
     "text": [
      "Loss_train: 0.5717 and loss_val: 0.6796\n",
      "Epoch: 84\n"
     ]
    },
    {
     "name": "stderr",
     "output_type": "stream",
     "text": [
      "391it [00:41,  9.47it/s]\n",
      "40it [00:01, 35.65it/s]\n"
     ]
    },
    {
     "name": "stdout",
     "output_type": "stream",
     "text": [
      "Loss_train: 0.5651 and loss_val: 0.6920\n",
      "Epoch: 85\n"
     ]
    },
    {
     "name": "stderr",
     "output_type": "stream",
     "text": [
      "391it [00:41,  9.48it/s]\n",
      "40it [00:01, 34.81it/s]\n"
     ]
    },
    {
     "name": "stdout",
     "output_type": "stream",
     "text": [
      "Loss_train: 0.5699 and loss_val: 0.6733\n",
      "Epoch: 86\n"
     ]
    },
    {
     "name": "stderr",
     "output_type": "stream",
     "text": [
      "391it [00:41,  9.49it/s]\n",
      "40it [00:01, 35.97it/s]\n"
     ]
    },
    {
     "name": "stdout",
     "output_type": "stream",
     "text": [
      "Loss_train: 0.5599 and loss_val: 0.6964\n",
      "Epoch: 87\n"
     ]
    },
    {
     "name": "stderr",
     "output_type": "stream",
     "text": [
      "391it [00:41,  9.50it/s]\n",
      "40it [00:01, 35.54it/s]\n"
     ]
    },
    {
     "name": "stdout",
     "output_type": "stream",
     "text": [
      "Loss_train: 0.5597 and loss_val: 0.6760\n",
      "Epoch: 88\n"
     ]
    },
    {
     "name": "stderr",
     "output_type": "stream",
     "text": [
      "391it [00:41,  9.51it/s]\n",
      "40it [00:01, 35.99it/s]\n"
     ]
    },
    {
     "name": "stdout",
     "output_type": "stream",
     "text": [
      "Loss_train: 0.5562 and loss_val: 0.6801\n",
      "Epoch: 89\n"
     ]
    },
    {
     "name": "stderr",
     "output_type": "stream",
     "text": [
      "391it [00:41,  9.47it/s]\n",
      "40it [00:01, 35.34it/s]\n"
     ]
    },
    {
     "name": "stdout",
     "output_type": "stream",
     "text": [
      "Loss_train: 0.5525 and loss_val: 0.6896\n",
      "Epoch: 90\n"
     ]
    },
    {
     "name": "stderr",
     "output_type": "stream",
     "text": [
      "391it [00:41,  9.44it/s]\n",
      "40it [00:01, 34.85it/s]\n"
     ]
    },
    {
     "name": "stdout",
     "output_type": "stream",
     "text": [
      "Loss_train: 0.5496 and loss_val: 0.6778\n",
      "Epoch: 91\n"
     ]
    },
    {
     "name": "stderr",
     "output_type": "stream",
     "text": [
      "391it [00:40,  9.55it/s]\n",
      "40it [00:01, 35.84it/s]\n"
     ]
    },
    {
     "name": "stdout",
     "output_type": "stream",
     "text": [
      "Loss_train: 0.5455 and loss_val: 0.6897\n",
      "Epoch: 92\n"
     ]
    },
    {
     "name": "stderr",
     "output_type": "stream",
     "text": [
      "391it [00:41,  9.51it/s]\n",
      "40it [00:01, 35.69it/s]\n"
     ]
    },
    {
     "name": "stdout",
     "output_type": "stream",
     "text": [
      "Loss_train: 0.5449 and loss_val: 0.6768\n",
      "Epoch: 93\n"
     ]
    },
    {
     "name": "stderr",
     "output_type": "stream",
     "text": [
      "391it [00:41,  9.49it/s]\n",
      "40it [00:01, 35.74it/s]\n"
     ]
    },
    {
     "name": "stdout",
     "output_type": "stream",
     "text": [
      "Loss_train: 0.5423 and loss_val: 0.6702\n",
      "Epoch: 94\n"
     ]
    },
    {
     "name": "stderr",
     "output_type": "stream",
     "text": [
      "391it [00:41,  9.49it/s]\n",
      "40it [00:01, 34.38it/s]\n"
     ]
    },
    {
     "name": "stdout",
     "output_type": "stream",
     "text": [
      "Loss_train: 0.5397 and loss_val: 0.6761\n",
      "Epoch: 95\n"
     ]
    },
    {
     "name": "stderr",
     "output_type": "stream",
     "text": [
      "391it [00:40,  9.55it/s]\n",
      "40it [00:01, 35.85it/s]\n"
     ]
    },
    {
     "name": "stdout",
     "output_type": "stream",
     "text": [
      "Loss_train: 0.5420 and loss_val: 0.6753\n",
      "Epoch: 96\n"
     ]
    },
    {
     "name": "stderr",
     "output_type": "stream",
     "text": [
      "391it [00:41,  9.51it/s]\n",
      "40it [00:01, 35.09it/s]\n"
     ]
    },
    {
     "name": "stdout",
     "output_type": "stream",
     "text": [
      "Loss_train: 0.5365 and loss_val: 0.6656\n",
      "Epoch: 97\n"
     ]
    },
    {
     "name": "stderr",
     "output_type": "stream",
     "text": [
      "391it [00:40,  9.55it/s]\n",
      "40it [00:01, 35.94it/s]\n"
     ]
    },
    {
     "name": "stdout",
     "output_type": "stream",
     "text": [
      "Loss_train: 0.5296 and loss_val: 0.6684\n",
      "Epoch: 98\n"
     ]
    },
    {
     "name": "stderr",
     "output_type": "stream",
     "text": [
      "391it [00:41,  9.47it/s]\n",
      "40it [00:01, 35.22it/s]\n"
     ]
    },
    {
     "name": "stdout",
     "output_type": "stream",
     "text": [
      "Loss_train: 0.5281 and loss_val: 0.6692\n",
      "Epoch: 99\n"
     ]
    },
    {
     "name": "stderr",
     "output_type": "stream",
     "text": [
      "391it [00:41,  9.51it/s]\n",
      "40it [00:01, 35.83it/s]"
     ]
    },
    {
     "name": "stdout",
     "output_type": "stream",
     "text": [
      "Loss_train: 0.5296 and loss_val: 0.6651\n"
     ]
    },
    {
     "name": "stderr",
     "output_type": "stream",
     "text": [
      "\n"
     ]
    }
   ],
   "source": [
    "#Training and validation\n",
    "nb_epochs = 100\n",
    "if optimizer is None: optimizer = torch.optim.AdamW(model.parameters(), lr=0.0001, weight_decay=0.01)\n",
    "else: print(optimizer)\n",
    "criterion = torch.nn.CrossEntropyLoss()\n",
    "losses_train, losses_val = [], []\n",
    "best_loss = 1e5\n",
    "lr_decay = 0.99\n",
    "scheduler = torch.optim.lr_scheduler.ExponentialLR(optimizer, lr_decay)\n",
    "torch.set_float32_matmul_precision('high')\n",
    "\n",
    "model.train()\n",
    "\n",
    "for epoch in range(nb_epochs):\n",
    "  start = time()\n",
    "  print(f\"Epoch: {epoch}\")\n",
    "  #print(\"Now training...\")\n",
    "  loss_train, loss_val = 0, 0\n",
    "  for idx, (batch, target) in tqdm(enumerate(train_loader)):\n",
    "    batch, target = batch.to(device), target.to(device)\n",
    "    optimizer.zero_grad()\n",
    "    #with torch.autocast(device_type=\"cuda\", dtype=torch.bfloat16):\n",
    "    preds = model(batch)\n",
    "    #print(preds.shape, preds.dtype)\n",
    "    #print(target.shape, target.dtype)\n",
    "    loss = criterion(preds, target)\n",
    "    loss.backward()\n",
    "    loss_train += loss.item()\n",
    "    optimizer.step()\n",
    "  loss_train /= len(train_loader)\n",
    "  losses_train.append(loss_train)\n",
    "  scheduler.step()\n",
    "\n",
    "\n",
    "  #print(\"Now validation...\")\n",
    "  with torch.no_grad():\n",
    "    for idx, (batch, target) in tqdm(enumerate(val_loader)):\n",
    "      batch, target = batch.to(device), target.to(device)\n",
    "      preds = model(batch)\n",
    "      #print(preds.shape, preds.dtype)\n",
    "      #print(target.shape, target.dtype)\n",
    "      loss = criterion(preds, target)\n",
    "      loss_val += loss.item()\n",
    "    loss_val /= len(val_loader)\n",
    "    if loss_val < best_loss:\n",
    "      best_loss = loss_val\n",
    "      best_model, best_epoch = model, epoch\n",
    "    losses_val.append(loss_val)\n",
    "\n",
    "  print(f\"Loss_train: {loss_train:.4f} and loss_val: {loss_val:.4f}\")\n",
    "end = time()\n"
   ]
  },
  {
   "cell_type": "code",
   "execution_count": 16,
   "id": "caf77ee9",
   "metadata": {
    "execution": {
     "iopub.execute_input": "2025-10-31T11:20:09.590458Z",
     "iopub.status.busy": "2025-10-31T11:20:09.589727Z",
     "iopub.status.idle": "2025-10-31T11:20:09.721680Z",
     "shell.execute_reply": "2025-10-31T11:20:09.720991Z"
    },
    "id": "qebbKmt_DuE9",
    "outputId": "7684456d-acad-4262-de4b-62f31111eac4",
    "papermill": {
     "duration": 1.685863,
     "end_time": "2025-10-31T11:20:09.722786",
     "exception": false,
     "start_time": "2025-10-31T11:20:08.036923",
     "status": "completed"
    },
    "tags": []
   },
   "outputs": [
    {
     "name": "stdout",
     "output_type": "stream",
     "text": [
      "Time elapsed: 42.215880155563354\n",
      "Seconds per epoch: 0.42215880155563357\n",
      "Best epoch: 99\n",
      "Best loss: 0.6651\n"
     ]
    },
    {
     "data": {
      "image/png": "[encoded data removed]",
      "text/plain": [
       "<Figure size 640x480 with 1 Axes>"
      ]
     },
     "metadata": {},
     "output_type": "display_data"
    }
   ],
   "source": [
    "time_elapsed = end- start\n",
    "print(f\"Time elapsed: {time_elapsed}\")\n",
    "print(f\"Seconds per epoch: {time_elapsed / nb_epochs}\")\n",
    "print(f\"Best epoch: {best_epoch}\")\n",
    "print(f\"Best loss: {best_loss:.4f}\")\n",
    "\n",
    "epochs = range(nb_epochs)\n",
    "\n",
    "plt.plot(epochs, losses_train, label=\"Training loss\")\n",
    "plt.plot(epochs, losses_val, label=\"Validation loss\")\n",
    "plt.legend()\n",
    "plt.show()"
   ]
  },
  {
   "cell_type": "code",
   "execution_count": 17,
   "id": "35d9ddb2",
   "metadata": {
    "execution": {
     "iopub.execute_input": "2025-10-31T11:20:13.028217Z",
     "iopub.status.busy": "2025-10-31T11:20:13.027915Z",
     "iopub.status.idle": "2025-10-31T11:20:14.218524Z",
     "shell.execute_reply": "2025-10-31T11:20:14.217780Z"
    },
    "id": "ckS-LAfGGHCU",
    "outputId": "373d807f-5c06-4f66-a7aa-f9742958ef32",
    "papermill": {
     "duration": 2.834949,
     "end_time": "2025-10-31T11:20:14.219603",
     "exception": false,
     "start_time": "2025-10-31T11:20:11.384654",
     "status": "completed"
    },
    "tags": []
   },
   "outputs": [
    {
     "name": "stdout",
     "output_type": "stream",
     "text": [
      "Now testing...\n"
     ]
    },
    {
     "name": "stderr",
     "output_type": "stream",
     "text": [
      "40it [00:01, 34.87it/s]"
     ]
    },
    {
     "name": "stdout",
     "output_type": "stream",
     "text": [
      "Loss_test: 0.6651\n"
     ]
    },
    {
     "name": "stderr",
     "output_type": "stream",
     "text": [
      "\n"
     ]
    }
   ],
   "source": [
    "#Test on val data\n",
    "best_model.eval()\n",
    "print(\"Now testing...\")\n",
    "loss_test = 0\n",
    "test_batch = next(iter(val_loader))\n",
    "all_preds = []\n",
    "all_targets = []\n",
    "with torch.no_grad():\n",
    "  for idx, (batch, target) in tqdm(enumerate(val_loader)):\n",
    "      batch, target = batch.to(device), target.to(device)\n",
    "      preds = best_model(batch)\n",
    "      loss = criterion(preds, target)\n",
    "      loss_test += loss.item()\n",
    "      all_preds.append(torch.argmax(preds, dim=-1).cpu().numpy())\n",
    "      all_targets.append(target.cpu().numpy())\n",
    "  all_preds = np.concatenate(all_preds)\n",
    "  all_targets = np.concatenate(all_targets)\n",
    "  loss_test /= len(val_loader)\n",
    "\n",
    "  print(f\"Loss_test: {loss_test:.4f}\")"
   ]
  },
  {
   "cell_type": "code",
   "execution_count": 18,
   "id": "79d50677",
   "metadata": {
    "execution": {
     "iopub.execute_input": "2025-10-31T11:20:17.527540Z",
     "iopub.status.busy": "2025-10-31T11:20:17.527266Z",
     "iopub.status.idle": "2025-10-31T11:20:17.935594Z",
     "shell.execute_reply": "2025-10-31T11:20:17.934902Z"
    },
    "id": "jnQscpcmGNzH",
    "outputId": "5279d92c-e86d-4c7b-ddc4-cee4b6d41991",
    "papermill": {
     "duration": 2.052616,
     "end_time": "2025-10-31T11:20:17.936821",
     "exception": false,
     "start_time": "2025-10-31T11:20:15.884205",
     "status": "completed"
    },
    "tags": []
   },
   "outputs": [
    {
     "data": {
      "text/plain": [
       "<Axes: >"
      ]
     },
     "execution_count": 18,
     "metadata": {},
     "output_type": "execute_result"
    },
    {
     "data": {
      "image/png": "[encoded data removed]",
      "text/plain": [
       "<Figure size 640x480 with 2 Axes>"
      ]
     },
     "metadata": {},
     "output_type": "display_data"
    }
   ],
   "source": [
    "labels = [\"airplane (0)\", \"automobile (1)\", \"bird (2)\", \"cat (3)\", \"deer (4)\", \"dog (5)\", \"frog (6)\", \"horse (7)\", \"ship (8)\", \"truck (9)\"]\n",
    "#\n",
    "cm = confusion_matrix(all_targets, all_preds, labels=range(10))\n",
    "cm_df = pd.DataFrame(cm, index=labels, columns=labels)\n",
    "sns.heatmap(cm_df, annot=True, fmt=\"d\")"
   ]
  },
  {
   "cell_type": "code",
   "execution_count": 19,
   "id": "78797936",
   "metadata": {
    "execution": {
     "iopub.execute_input": "2025-10-31T11:20:21.252472Z",
     "iopub.status.busy": "2025-10-31T11:20:21.252202Z",
     "iopub.status.idle": "2025-10-31T11:20:21.257402Z",
     "shell.execute_reply": "2025-10-31T11:20:21.256805Z"
    },
    "id": "7nyMZRjLGQGa",
    "outputId": "0ebf0586-271c-4f2f-8df9-5a58bb2a2cd9",
    "papermill": {
     "duration": 1.664699,
     "end_time": "2025-10-31T11:20:21.258509",
     "exception": false,
     "start_time": "2025-10-31T11:20:19.593810",
     "status": "completed"
    },
    "tags": []
   },
   "outputs": [
    {
     "name": "stdout",
     "output_type": "stream",
     "text": [
      "Accuracy score is: 0.768\n"
     ]
    }
   ],
   "source": [
    "print(f\"Accuracy score is: {accuracy_score(all_targets, all_preds)}\")"
   ]
  },
  {
   "cell_type": "code",
   "execution_count": 20,
   "id": "9072e584",
   "metadata": {
    "execution": {
     "iopub.execute_input": "2025-10-31T11:20:24.592878Z",
     "iopub.status.busy": "2025-10-31T11:20:24.592560Z",
     "iopub.status.idle": "2025-10-31T11:20:24.608567Z",
     "shell.execute_reply": "2025-10-31T11:20:24.607789Z"
    },
    "id": "_F-KvZKhGSLl",
    "outputId": "df9660e5-be3b-496e-8e0b-34304197e034",
    "papermill": {
     "duration": 1.680177,
     "end_time": "2025-10-31T11:20:24.609816",
     "exception": false,
     "start_time": "2025-10-31T11:20:22.929639",
     "status": "completed"
    },
    "tags": []
   },
   "outputs": [
    {
     "name": "stdout",
     "output_type": "stream",
     "text": [
      "                Accuracy\n",
      "automobile (1)  0.881974\n",
      "ship (8)        0.869565\n",
      "airplane (0)    0.818363\n",
      "horse (7)       0.815891\n",
      "frog (6)        0.806911\n",
      "truck (9)       0.784836\n",
      "dog (5)         0.738189\n",
      "deer (4)        0.718574\n",
      "bird (2)        0.682186\n",
      "cat (3)         0.570565\n",
      "Mean of accuracies:  0.7687054683461925\n"
     ]
    }
   ],
   "source": [
    "def accuracy_multi_class(y_true, y_pred, cm):\n",
    "  '''\n",
    "  y_true: true labels\n",
    "  y_pred: predicted labels\n",
    "  cm: confusion matrix\n",
    "\n",
    "  return list of accuracies for each classes\n",
    "  '''\n",
    "  accuracies = np.zeros((cm.shape[0],))\n",
    "  for i in range(cm.shape[0]):\n",
    "    accuracies[i] = cm[i,i] / np.sum(cm[i,:])\n",
    "  return accuracies\n",
    "\n",
    "accuracies = accuracy_multi_class(all_targets, all_preds, cm)\n",
    "accuracies_df = pd.DataFrame(accuracies, index=labels, columns=[\"Accuracy\"])\n",
    "accuracies_df = accuracies_df.sort_values(by=\"Accuracy\", ascending=False)\n",
    "print(accuracies_df)\n",
    "print(\"Mean of accuracies: \", accuracies_df[\"Accuracy\"].mean())"
   ]
  },
  {
   "cell_type": "code",
   "execution_count": 21,
   "id": "de155895",
   "metadata": {
    "execution": {
     "iopub.execute_input": "2025-10-31T11:20:27.930634Z",
     "iopub.status.busy": "2025-10-31T11:20:27.929905Z",
     "iopub.status.idle": "2025-10-31T11:20:27.949719Z",
     "shell.execute_reply": "2025-10-31T11:20:27.949194Z"
    },
    "papermill": {
     "duration": 1.663785,
     "end_time": "2025-10-31T11:20:27.950925",
     "exception": false,
     "start_time": "2025-10-31T11:20:26.287140",
     "status": "completed"
    },
    "tags": []
   },
   "outputs": [],
   "source": [
    "checkpoint = {\n",
    "    \"model\": best_model.state_dict(),\n",
    "    \"optimizer\": optimizer.state_dict(),\n",
    "    \"best_loss\": best_loss,\n",
    "    \"epoch\": best_epoch\n",
    "}\n",
    "\n",
    "# Save to a file in the working directory\n",
    "torch.save(checkpoint, \"/kaggle/working/checkpoint_LeakyReLU.pth\")"
   ]
  }
 ],
 "metadata": {
  "accelerator": "GPU",
  "colab": {
   "authorship_tag": "ABX9TyP6MMHTSB4UxxYep33m2N22",
   "gpuType": "T4",
   "include_colab_link": true,
   "provenance": []
  },
  "kaggle": {
   "accelerator": "nvidiaTeslaT4",
   "dataSources": [],
   "dockerImageVersionId": 31154,
   "isGpuEnabled": true,
   "isInternetEnabled": true,
   "language": "python",
   "sourceType": "notebook"
  },
  "kernelspec": {
   "display_name": "Python 3",
   "language": "python",
   "name": "python3"
  },
  "language_info": {
   "codemirror_mode": {
    "name": "ipython",
    "version": 3
   },
   "file_extension": ".py",
   "mimetype": "text/x-python",
   "name": "python",
   "nbconvert_exporter": "python",
   "pygments_lexer": "ipython3",
   "version": "3.11.13"
  },
  "papermill": {
   "default_parameters": {},
   "duration": 4312.125152,
   "end_time": "2025-10-31T11:20:32.163890",
   "environment_variables": {},
   "exception": null,
   "input_path": "__notebook__.ipynb",
   "output_path": "__notebook__.ipynb",
   "parameters": {},
   "start_time": "2025-10-31T10:08:40.038738",
   "version": "2.6.0"
  }
 },
 "nbformat": 4,
 "nbformat_minor": 5
}
